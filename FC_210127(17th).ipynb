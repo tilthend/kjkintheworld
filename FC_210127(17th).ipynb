{
  "nbformat": 4,
  "nbformat_minor": 0,
  "metadata": {
    "colab": {
      "name": "FC_210127(17th).ipynb",
      "provenance": []
    },
    "kernelspec": {
      "name": "python3",
      "display_name": "Python 3"
    }
  },
  "cells": [
    {
      "cell_type": "code",
      "metadata": {
        "id": "9ylEe85zIV19"
      },
      "source": [
        "import pandas as pd\r\n"
      ],
      "execution_count": 1,
      "outputs": []
    },
    {
      "cell_type": "code",
      "metadata": {
        "id": "l0QZqcprIZUS"
      },
      "source": [
        "df = pd.read_csv('http://bit.ly/ds-korean-idol')"
      ],
      "execution_count": 2,
      "outputs": []
    },
    {
      "cell_type": "code",
      "metadata": {
        "colab": {
          "base_uri": "https://localhost:8080/",
          "height": 498
        },
        "id": "0zwt5rS2Ibml",
        "outputId": "3a73b7b6-d324-40bc-9bc5-dff78e3d44ae"
      },
      "source": [
        "df"
      ],
      "execution_count": 3,
      "outputs": [
        {
          "output_type": "execute_result",
          "data": {
            "text/html": [
              "<div>\n",
              "<style scoped>\n",
              "    .dataframe tbody tr th:only-of-type {\n",
              "        vertical-align: middle;\n",
              "    }\n",
              "\n",
              "    .dataframe tbody tr th {\n",
              "        vertical-align: top;\n",
              "    }\n",
              "\n",
              "    .dataframe thead th {\n",
              "        text-align: right;\n",
              "    }\n",
              "</style>\n",
              "<table border=\"1\" class=\"dataframe\">\n",
              "  <thead>\n",
              "    <tr style=\"text-align: right;\">\n",
              "      <th></th>\n",
              "      <th>이름</th>\n",
              "      <th>그룹</th>\n",
              "      <th>소속사</th>\n",
              "      <th>성별</th>\n",
              "      <th>생년월일</th>\n",
              "      <th>키</th>\n",
              "      <th>혈액형</th>\n",
              "      <th>브랜드평판지수</th>\n",
              "    </tr>\n",
              "  </thead>\n",
              "  <tbody>\n",
              "    <tr>\n",
              "      <th>0</th>\n",
              "      <td>지민</td>\n",
              "      <td>방탄소년단</td>\n",
              "      <td>빅히트</td>\n",
              "      <td>남자</td>\n",
              "      <td>1995-10-13</td>\n",
              "      <td>173.6</td>\n",
              "      <td>A</td>\n",
              "      <td>10523260</td>\n",
              "    </tr>\n",
              "    <tr>\n",
              "      <th>1</th>\n",
              "      <td>지드래곤</td>\n",
              "      <td>빅뱅</td>\n",
              "      <td>YG</td>\n",
              "      <td>남자</td>\n",
              "      <td>1988-08-18</td>\n",
              "      <td>177.0</td>\n",
              "      <td>A</td>\n",
              "      <td>9916947</td>\n",
              "    </tr>\n",
              "    <tr>\n",
              "      <th>2</th>\n",
              "      <td>강다니엘</td>\n",
              "      <td>NaN</td>\n",
              "      <td>커넥트</td>\n",
              "      <td>남자</td>\n",
              "      <td>1996-12-10</td>\n",
              "      <td>180.0</td>\n",
              "      <td>A</td>\n",
              "      <td>8273745</td>\n",
              "    </tr>\n",
              "    <tr>\n",
              "      <th>3</th>\n",
              "      <td>뷔</td>\n",
              "      <td>방탄소년단</td>\n",
              "      <td>빅히트</td>\n",
              "      <td>남자</td>\n",
              "      <td>1995-12-30</td>\n",
              "      <td>178.0</td>\n",
              "      <td>AB</td>\n",
              "      <td>8073501</td>\n",
              "    </tr>\n",
              "    <tr>\n",
              "      <th>4</th>\n",
              "      <td>화사</td>\n",
              "      <td>마마무</td>\n",
              "      <td>RBW</td>\n",
              "      <td>여자</td>\n",
              "      <td>1995-07-23</td>\n",
              "      <td>162.1</td>\n",
              "      <td>A</td>\n",
              "      <td>7650928</td>\n",
              "    </tr>\n",
              "    <tr>\n",
              "      <th>5</th>\n",
              "      <td>정국</td>\n",
              "      <td>방탄소년단</td>\n",
              "      <td>빅히트</td>\n",
              "      <td>남자</td>\n",
              "      <td>1997-09-01</td>\n",
              "      <td>178.0</td>\n",
              "      <td>A</td>\n",
              "      <td>5208335</td>\n",
              "    </tr>\n",
              "    <tr>\n",
              "      <th>6</th>\n",
              "      <td>민현</td>\n",
              "      <td>뉴이스트</td>\n",
              "      <td>플레디스</td>\n",
              "      <td>남자</td>\n",
              "      <td>1995-08-09</td>\n",
              "      <td>182.3</td>\n",
              "      <td>O</td>\n",
              "      <td>4989792</td>\n",
              "    </tr>\n",
              "    <tr>\n",
              "      <th>7</th>\n",
              "      <td>소연</td>\n",
              "      <td>아이들</td>\n",
              "      <td>큐브</td>\n",
              "      <td>여자</td>\n",
              "      <td>1998-08-26</td>\n",
              "      <td>NaN</td>\n",
              "      <td>B</td>\n",
              "      <td>4668615</td>\n",
              "    </tr>\n",
              "    <tr>\n",
              "      <th>8</th>\n",
              "      <td>진</td>\n",
              "      <td>방탄소년단</td>\n",
              "      <td>빅히트</td>\n",
              "      <td>남자</td>\n",
              "      <td>1992-12-04</td>\n",
              "      <td>179.2</td>\n",
              "      <td>O</td>\n",
              "      <td>4570308</td>\n",
              "    </tr>\n",
              "    <tr>\n",
              "      <th>9</th>\n",
              "      <td>하성운</td>\n",
              "      <td>핫샷</td>\n",
              "      <td>스타크루이엔티</td>\n",
              "      <td>남자</td>\n",
              "      <td>1994-03-22</td>\n",
              "      <td>167.1</td>\n",
              "      <td>A</td>\n",
              "      <td>4036489</td>\n",
              "    </tr>\n",
              "    <tr>\n",
              "      <th>10</th>\n",
              "      <td>태연</td>\n",
              "      <td>소녀시대</td>\n",
              "      <td>SM</td>\n",
              "      <td>여자</td>\n",
              "      <td>1989-03-09</td>\n",
              "      <td>NaN</td>\n",
              "      <td>A</td>\n",
              "      <td>3918661</td>\n",
              "    </tr>\n",
              "    <tr>\n",
              "      <th>11</th>\n",
              "      <td>차은우</td>\n",
              "      <td>아스트로</td>\n",
              "      <td>판타지오</td>\n",
              "      <td>남자</td>\n",
              "      <td>1997-03-30</td>\n",
              "      <td>183.0</td>\n",
              "      <td>B</td>\n",
              "      <td>3506027</td>\n",
              "    </tr>\n",
              "    <tr>\n",
              "      <th>12</th>\n",
              "      <td>백호</td>\n",
              "      <td>뉴이스트</td>\n",
              "      <td>플레디스</td>\n",
              "      <td>남자</td>\n",
              "      <td>1995-07-21</td>\n",
              "      <td>175.0</td>\n",
              "      <td>AB</td>\n",
              "      <td>3301654</td>\n",
              "    </tr>\n",
              "    <tr>\n",
              "      <th>13</th>\n",
              "      <td>JR</td>\n",
              "      <td>뉴이스트</td>\n",
              "      <td>플레디스</td>\n",
              "      <td>남자</td>\n",
              "      <td>1995-06-08</td>\n",
              "      <td>176.0</td>\n",
              "      <td>O</td>\n",
              "      <td>3274137</td>\n",
              "    </tr>\n",
              "    <tr>\n",
              "      <th>14</th>\n",
              "      <td>슈가</td>\n",
              "      <td>방탄소년단</td>\n",
              "      <td>빅히트</td>\n",
              "      <td>남자</td>\n",
              "      <td>1993-03-09</td>\n",
              "      <td>174.0</td>\n",
              "      <td>O</td>\n",
              "      <td>2925442</td>\n",
              "    </tr>\n",
              "  </tbody>\n",
              "</table>\n",
              "</div>"
            ],
            "text/plain": [
              "      이름     그룹      소속사  성별        생년월일      키 혈액형   브랜드평판지수\n",
              "0     지민  방탄소년단      빅히트  남자  1995-10-13  173.6   A  10523260\n",
              "1   지드래곤     빅뱅       YG  남자  1988-08-18  177.0   A   9916947\n",
              "2   강다니엘    NaN      커넥트  남자  1996-12-10  180.0   A   8273745\n",
              "3      뷔  방탄소년단      빅히트  남자  1995-12-30  178.0  AB   8073501\n",
              "4     화사    마마무      RBW  여자  1995-07-23  162.1   A   7650928\n",
              "5     정국  방탄소년단      빅히트  남자  1997-09-01  178.0   A   5208335\n",
              "6     민현   뉴이스트     플레디스  남자  1995-08-09  182.3   O   4989792\n",
              "7     소연    아이들       큐브  여자  1998-08-26    NaN   B   4668615\n",
              "8      진  방탄소년단      빅히트  남자  1992-12-04  179.2   O   4570308\n",
              "9    하성운     핫샷  스타크루이엔티  남자  1994-03-22  167.1   A   4036489\n",
              "10    태연   소녀시대       SM  여자  1989-03-09    NaN   A   3918661\n",
              "11   차은우   아스트로     판타지오  남자  1997-03-30  183.0   B   3506027\n",
              "12    백호   뉴이스트     플레디스  남자  1995-07-21  175.0  AB   3301654\n",
              "13    JR   뉴이스트     플레디스  남자  1995-06-08  176.0   O   3274137\n",
              "14    슈가  방탄소년단      빅히트  남자  1993-03-09  174.0   O   2925442"
            ]
          },
          "metadata": {
            "tags": []
          },
          "execution_count": 3
        }
      ]
    },
    {
      "cell_type": "code",
      "metadata": {
        "id": "Gv3vAghKIb7g"
      },
      "source": [
        "df.loc[df['성별']=='남자', '성별']=1"
      ],
      "execution_count": 4,
      "outputs": []
    },
    {
      "cell_type": "code",
      "metadata": {
        "colab": {
          "base_uri": "https://localhost:8080/",
          "height": 498
        },
        "id": "gwW6EcPjJIEQ",
        "outputId": "71bf4041-c92a-4dac-9362-52bc22df4489"
      },
      "source": [
        "df"
      ],
      "execution_count": 5,
      "outputs": [
        {
          "output_type": "execute_result",
          "data": {
            "text/html": [
              "<div>\n",
              "<style scoped>\n",
              "    .dataframe tbody tr th:only-of-type {\n",
              "        vertical-align: middle;\n",
              "    }\n",
              "\n",
              "    .dataframe tbody tr th {\n",
              "        vertical-align: top;\n",
              "    }\n",
              "\n",
              "    .dataframe thead th {\n",
              "        text-align: right;\n",
              "    }\n",
              "</style>\n",
              "<table border=\"1\" class=\"dataframe\">\n",
              "  <thead>\n",
              "    <tr style=\"text-align: right;\">\n",
              "      <th></th>\n",
              "      <th>이름</th>\n",
              "      <th>그룹</th>\n",
              "      <th>소속사</th>\n",
              "      <th>성별</th>\n",
              "      <th>생년월일</th>\n",
              "      <th>키</th>\n",
              "      <th>혈액형</th>\n",
              "      <th>브랜드평판지수</th>\n",
              "    </tr>\n",
              "  </thead>\n",
              "  <tbody>\n",
              "    <tr>\n",
              "      <th>0</th>\n",
              "      <td>지민</td>\n",
              "      <td>방탄소년단</td>\n",
              "      <td>빅히트</td>\n",
              "      <td>1</td>\n",
              "      <td>1995-10-13</td>\n",
              "      <td>173.6</td>\n",
              "      <td>A</td>\n",
              "      <td>10523260</td>\n",
              "    </tr>\n",
              "    <tr>\n",
              "      <th>1</th>\n",
              "      <td>지드래곤</td>\n",
              "      <td>빅뱅</td>\n",
              "      <td>YG</td>\n",
              "      <td>1</td>\n",
              "      <td>1988-08-18</td>\n",
              "      <td>177.0</td>\n",
              "      <td>A</td>\n",
              "      <td>9916947</td>\n",
              "    </tr>\n",
              "    <tr>\n",
              "      <th>2</th>\n",
              "      <td>강다니엘</td>\n",
              "      <td>NaN</td>\n",
              "      <td>커넥트</td>\n",
              "      <td>1</td>\n",
              "      <td>1996-12-10</td>\n",
              "      <td>180.0</td>\n",
              "      <td>A</td>\n",
              "      <td>8273745</td>\n",
              "    </tr>\n",
              "    <tr>\n",
              "      <th>3</th>\n",
              "      <td>뷔</td>\n",
              "      <td>방탄소년단</td>\n",
              "      <td>빅히트</td>\n",
              "      <td>1</td>\n",
              "      <td>1995-12-30</td>\n",
              "      <td>178.0</td>\n",
              "      <td>AB</td>\n",
              "      <td>8073501</td>\n",
              "    </tr>\n",
              "    <tr>\n",
              "      <th>4</th>\n",
              "      <td>화사</td>\n",
              "      <td>마마무</td>\n",
              "      <td>RBW</td>\n",
              "      <td>여자</td>\n",
              "      <td>1995-07-23</td>\n",
              "      <td>162.1</td>\n",
              "      <td>A</td>\n",
              "      <td>7650928</td>\n",
              "    </tr>\n",
              "    <tr>\n",
              "      <th>5</th>\n",
              "      <td>정국</td>\n",
              "      <td>방탄소년단</td>\n",
              "      <td>빅히트</td>\n",
              "      <td>1</td>\n",
              "      <td>1997-09-01</td>\n",
              "      <td>178.0</td>\n",
              "      <td>A</td>\n",
              "      <td>5208335</td>\n",
              "    </tr>\n",
              "    <tr>\n",
              "      <th>6</th>\n",
              "      <td>민현</td>\n",
              "      <td>뉴이스트</td>\n",
              "      <td>플레디스</td>\n",
              "      <td>1</td>\n",
              "      <td>1995-08-09</td>\n",
              "      <td>182.3</td>\n",
              "      <td>O</td>\n",
              "      <td>4989792</td>\n",
              "    </tr>\n",
              "    <tr>\n",
              "      <th>7</th>\n",
              "      <td>소연</td>\n",
              "      <td>아이들</td>\n",
              "      <td>큐브</td>\n",
              "      <td>여자</td>\n",
              "      <td>1998-08-26</td>\n",
              "      <td>NaN</td>\n",
              "      <td>B</td>\n",
              "      <td>4668615</td>\n",
              "    </tr>\n",
              "    <tr>\n",
              "      <th>8</th>\n",
              "      <td>진</td>\n",
              "      <td>방탄소년단</td>\n",
              "      <td>빅히트</td>\n",
              "      <td>1</td>\n",
              "      <td>1992-12-04</td>\n",
              "      <td>179.2</td>\n",
              "      <td>O</td>\n",
              "      <td>4570308</td>\n",
              "    </tr>\n",
              "    <tr>\n",
              "      <th>9</th>\n",
              "      <td>하성운</td>\n",
              "      <td>핫샷</td>\n",
              "      <td>스타크루이엔티</td>\n",
              "      <td>1</td>\n",
              "      <td>1994-03-22</td>\n",
              "      <td>167.1</td>\n",
              "      <td>A</td>\n",
              "      <td>4036489</td>\n",
              "    </tr>\n",
              "    <tr>\n",
              "      <th>10</th>\n",
              "      <td>태연</td>\n",
              "      <td>소녀시대</td>\n",
              "      <td>SM</td>\n",
              "      <td>여자</td>\n",
              "      <td>1989-03-09</td>\n",
              "      <td>NaN</td>\n",
              "      <td>A</td>\n",
              "      <td>3918661</td>\n",
              "    </tr>\n",
              "    <tr>\n",
              "      <th>11</th>\n",
              "      <td>차은우</td>\n",
              "      <td>아스트로</td>\n",
              "      <td>판타지오</td>\n",
              "      <td>1</td>\n",
              "      <td>1997-03-30</td>\n",
              "      <td>183.0</td>\n",
              "      <td>B</td>\n",
              "      <td>3506027</td>\n",
              "    </tr>\n",
              "    <tr>\n",
              "      <th>12</th>\n",
              "      <td>백호</td>\n",
              "      <td>뉴이스트</td>\n",
              "      <td>플레디스</td>\n",
              "      <td>1</td>\n",
              "      <td>1995-07-21</td>\n",
              "      <td>175.0</td>\n",
              "      <td>AB</td>\n",
              "      <td>3301654</td>\n",
              "    </tr>\n",
              "    <tr>\n",
              "      <th>13</th>\n",
              "      <td>JR</td>\n",
              "      <td>뉴이스트</td>\n",
              "      <td>플레디스</td>\n",
              "      <td>1</td>\n",
              "      <td>1995-06-08</td>\n",
              "      <td>176.0</td>\n",
              "      <td>O</td>\n",
              "      <td>3274137</td>\n",
              "    </tr>\n",
              "    <tr>\n",
              "      <th>14</th>\n",
              "      <td>슈가</td>\n",
              "      <td>방탄소년단</td>\n",
              "      <td>빅히트</td>\n",
              "      <td>1</td>\n",
              "      <td>1993-03-09</td>\n",
              "      <td>174.0</td>\n",
              "      <td>O</td>\n",
              "      <td>2925442</td>\n",
              "    </tr>\n",
              "  </tbody>\n",
              "</table>\n",
              "</div>"
            ],
            "text/plain": [
              "      이름     그룹      소속사  성별        생년월일      키 혈액형   브랜드평판지수\n",
              "0     지민  방탄소년단      빅히트   1  1995-10-13  173.6   A  10523260\n",
              "1   지드래곤     빅뱅       YG   1  1988-08-18  177.0   A   9916947\n",
              "2   강다니엘    NaN      커넥트   1  1996-12-10  180.0   A   8273745\n",
              "3      뷔  방탄소년단      빅히트   1  1995-12-30  178.0  AB   8073501\n",
              "4     화사    마마무      RBW  여자  1995-07-23  162.1   A   7650928\n",
              "5     정국  방탄소년단      빅히트   1  1997-09-01  178.0   A   5208335\n",
              "6     민현   뉴이스트     플레디스   1  1995-08-09  182.3   O   4989792\n",
              "7     소연    아이들       큐브  여자  1998-08-26    NaN   B   4668615\n",
              "8      진  방탄소년단      빅히트   1  1992-12-04  179.2   O   4570308\n",
              "9    하성운     핫샷  스타크루이엔티   1  1994-03-22  167.1   A   4036489\n",
              "10    태연   소녀시대       SM  여자  1989-03-09    NaN   A   3918661\n",
              "11   차은우   아스트로     판타지오   1  1997-03-30  183.0   B   3506027\n",
              "12    백호   뉴이스트     플레디스   1  1995-07-21  175.0  AB   3301654\n",
              "13    JR   뉴이스트     플레디스   1  1995-06-08  176.0   O   3274137\n",
              "14    슈가  방탄소년단      빅히트   1  1993-03-09  174.0   O   2925442"
            ]
          },
          "metadata": {
            "tags": []
          },
          "execution_count": 5
        }
      ]
    },
    {
      "cell_type": "code",
      "metadata": {
        "id": "Gxn3X5H5JI1R"
      },
      "source": [
        "df.loc[df['성별']=='여자','성별']=0"
      ],
      "execution_count": 7,
      "outputs": []
    },
    {
      "cell_type": "code",
      "metadata": {
        "colab": {
          "base_uri": "https://localhost:8080/",
          "height": 498
        },
        "id": "W7ndQOUwJPcr",
        "outputId": "886917e4-8b1d-41d0-b74a-8011723ef68c"
      },
      "source": [
        "df"
      ],
      "execution_count": 8,
      "outputs": [
        {
          "output_type": "execute_result",
          "data": {
            "text/html": [
              "<div>\n",
              "<style scoped>\n",
              "    .dataframe tbody tr th:only-of-type {\n",
              "        vertical-align: middle;\n",
              "    }\n",
              "\n",
              "    .dataframe tbody tr th {\n",
              "        vertical-align: top;\n",
              "    }\n",
              "\n",
              "    .dataframe thead th {\n",
              "        text-align: right;\n",
              "    }\n",
              "</style>\n",
              "<table border=\"1\" class=\"dataframe\">\n",
              "  <thead>\n",
              "    <tr style=\"text-align: right;\">\n",
              "      <th></th>\n",
              "      <th>이름</th>\n",
              "      <th>그룹</th>\n",
              "      <th>소속사</th>\n",
              "      <th>성별</th>\n",
              "      <th>생년월일</th>\n",
              "      <th>키</th>\n",
              "      <th>혈액형</th>\n",
              "      <th>브랜드평판지수</th>\n",
              "    </tr>\n",
              "  </thead>\n",
              "  <tbody>\n",
              "    <tr>\n",
              "      <th>0</th>\n",
              "      <td>지민</td>\n",
              "      <td>방탄소년단</td>\n",
              "      <td>빅히트</td>\n",
              "      <td>1</td>\n",
              "      <td>1995-10-13</td>\n",
              "      <td>173.6</td>\n",
              "      <td>A</td>\n",
              "      <td>10523260</td>\n",
              "    </tr>\n",
              "    <tr>\n",
              "      <th>1</th>\n",
              "      <td>지드래곤</td>\n",
              "      <td>빅뱅</td>\n",
              "      <td>YG</td>\n",
              "      <td>1</td>\n",
              "      <td>1988-08-18</td>\n",
              "      <td>177.0</td>\n",
              "      <td>A</td>\n",
              "      <td>9916947</td>\n",
              "    </tr>\n",
              "    <tr>\n",
              "      <th>2</th>\n",
              "      <td>강다니엘</td>\n",
              "      <td>NaN</td>\n",
              "      <td>커넥트</td>\n",
              "      <td>1</td>\n",
              "      <td>1996-12-10</td>\n",
              "      <td>180.0</td>\n",
              "      <td>A</td>\n",
              "      <td>8273745</td>\n",
              "    </tr>\n",
              "    <tr>\n",
              "      <th>3</th>\n",
              "      <td>뷔</td>\n",
              "      <td>방탄소년단</td>\n",
              "      <td>빅히트</td>\n",
              "      <td>1</td>\n",
              "      <td>1995-12-30</td>\n",
              "      <td>178.0</td>\n",
              "      <td>AB</td>\n",
              "      <td>8073501</td>\n",
              "    </tr>\n",
              "    <tr>\n",
              "      <th>4</th>\n",
              "      <td>화사</td>\n",
              "      <td>마마무</td>\n",
              "      <td>RBW</td>\n",
              "      <td>0</td>\n",
              "      <td>1995-07-23</td>\n",
              "      <td>162.1</td>\n",
              "      <td>A</td>\n",
              "      <td>7650928</td>\n",
              "    </tr>\n",
              "    <tr>\n",
              "      <th>5</th>\n",
              "      <td>정국</td>\n",
              "      <td>방탄소년단</td>\n",
              "      <td>빅히트</td>\n",
              "      <td>1</td>\n",
              "      <td>1997-09-01</td>\n",
              "      <td>178.0</td>\n",
              "      <td>A</td>\n",
              "      <td>5208335</td>\n",
              "    </tr>\n",
              "    <tr>\n",
              "      <th>6</th>\n",
              "      <td>민현</td>\n",
              "      <td>뉴이스트</td>\n",
              "      <td>플레디스</td>\n",
              "      <td>1</td>\n",
              "      <td>1995-08-09</td>\n",
              "      <td>182.3</td>\n",
              "      <td>O</td>\n",
              "      <td>4989792</td>\n",
              "    </tr>\n",
              "    <tr>\n",
              "      <th>7</th>\n",
              "      <td>소연</td>\n",
              "      <td>아이들</td>\n",
              "      <td>큐브</td>\n",
              "      <td>0</td>\n",
              "      <td>1998-08-26</td>\n",
              "      <td>NaN</td>\n",
              "      <td>B</td>\n",
              "      <td>4668615</td>\n",
              "    </tr>\n",
              "    <tr>\n",
              "      <th>8</th>\n",
              "      <td>진</td>\n",
              "      <td>방탄소년단</td>\n",
              "      <td>빅히트</td>\n",
              "      <td>1</td>\n",
              "      <td>1992-12-04</td>\n",
              "      <td>179.2</td>\n",
              "      <td>O</td>\n",
              "      <td>4570308</td>\n",
              "    </tr>\n",
              "    <tr>\n",
              "      <th>9</th>\n",
              "      <td>하성운</td>\n",
              "      <td>핫샷</td>\n",
              "      <td>스타크루이엔티</td>\n",
              "      <td>1</td>\n",
              "      <td>1994-03-22</td>\n",
              "      <td>167.1</td>\n",
              "      <td>A</td>\n",
              "      <td>4036489</td>\n",
              "    </tr>\n",
              "    <tr>\n",
              "      <th>10</th>\n",
              "      <td>태연</td>\n",
              "      <td>소녀시대</td>\n",
              "      <td>SM</td>\n",
              "      <td>0</td>\n",
              "      <td>1989-03-09</td>\n",
              "      <td>NaN</td>\n",
              "      <td>A</td>\n",
              "      <td>3918661</td>\n",
              "    </tr>\n",
              "    <tr>\n",
              "      <th>11</th>\n",
              "      <td>차은우</td>\n",
              "      <td>아스트로</td>\n",
              "      <td>판타지오</td>\n",
              "      <td>1</td>\n",
              "      <td>1997-03-30</td>\n",
              "      <td>183.0</td>\n",
              "      <td>B</td>\n",
              "      <td>3506027</td>\n",
              "    </tr>\n",
              "    <tr>\n",
              "      <th>12</th>\n",
              "      <td>백호</td>\n",
              "      <td>뉴이스트</td>\n",
              "      <td>플레디스</td>\n",
              "      <td>1</td>\n",
              "      <td>1995-07-21</td>\n",
              "      <td>175.0</td>\n",
              "      <td>AB</td>\n",
              "      <td>3301654</td>\n",
              "    </tr>\n",
              "    <tr>\n",
              "      <th>13</th>\n",
              "      <td>JR</td>\n",
              "      <td>뉴이스트</td>\n",
              "      <td>플레디스</td>\n",
              "      <td>1</td>\n",
              "      <td>1995-06-08</td>\n",
              "      <td>176.0</td>\n",
              "      <td>O</td>\n",
              "      <td>3274137</td>\n",
              "    </tr>\n",
              "    <tr>\n",
              "      <th>14</th>\n",
              "      <td>슈가</td>\n",
              "      <td>방탄소년단</td>\n",
              "      <td>빅히트</td>\n",
              "      <td>1</td>\n",
              "      <td>1993-03-09</td>\n",
              "      <td>174.0</td>\n",
              "      <td>O</td>\n",
              "      <td>2925442</td>\n",
              "    </tr>\n",
              "  </tbody>\n",
              "</table>\n",
              "</div>"
            ],
            "text/plain": [
              "      이름     그룹      소속사 성별        생년월일      키 혈액형   브랜드평판지수\n",
              "0     지민  방탄소년단      빅히트  1  1995-10-13  173.6   A  10523260\n",
              "1   지드래곤     빅뱅       YG  1  1988-08-18  177.0   A   9916947\n",
              "2   강다니엘    NaN      커넥트  1  1996-12-10  180.0   A   8273745\n",
              "3      뷔  방탄소년단      빅히트  1  1995-12-30  178.0  AB   8073501\n",
              "4     화사    마마무      RBW  0  1995-07-23  162.1   A   7650928\n",
              "5     정국  방탄소년단      빅히트  1  1997-09-01  178.0   A   5208335\n",
              "6     민현   뉴이스트     플레디스  1  1995-08-09  182.3   O   4989792\n",
              "7     소연    아이들       큐브  0  1998-08-26    NaN   B   4668615\n",
              "8      진  방탄소년단      빅히트  1  1992-12-04  179.2   O   4570308\n",
              "9    하성운     핫샷  스타크루이엔티  1  1994-03-22  167.1   A   4036489\n",
              "10    태연   소녀시대       SM  0  1989-03-09    NaN   A   3918661\n",
              "11   차은우   아스트로     판타지오  1  1997-03-30  183.0   B   3506027\n",
              "12    백호   뉴이스트     플레디스  1  1995-07-21  175.0  AB   3301654\n",
              "13    JR   뉴이스트     플레디스  1  1995-06-08  176.0   O   3274137\n",
              "14    슈가  방탄소년단      빅히트  1  1993-03-09  174.0   O   2925442"
            ]
          },
          "metadata": {
            "tags": []
          },
          "execution_count": 8
        }
      ]
    },
    {
      "cell_type": "code",
      "metadata": {
        "id": "EM6X7qZtJSn_"
      },
      "source": [
        " df = pd.read_csv('http://bit.ly/ds-korean-idol')"
      ],
      "execution_count": 9,
      "outputs": []
    },
    {
      "cell_type": "code",
      "metadata": {
        "colab": {
          "base_uri": "https://localhost:8080/",
          "height": 498
        },
        "id": "L-MwiM1AJeHA",
        "outputId": "adc1112a-c168-4a48-c74f-3d73fdbe10dc"
      },
      "source": [
        "df"
      ],
      "execution_count": 10,
      "outputs": [
        {
          "output_type": "execute_result",
          "data": {
            "text/html": [
              "<div>\n",
              "<style scoped>\n",
              "    .dataframe tbody tr th:only-of-type {\n",
              "        vertical-align: middle;\n",
              "    }\n",
              "\n",
              "    .dataframe tbody tr th {\n",
              "        vertical-align: top;\n",
              "    }\n",
              "\n",
              "    .dataframe thead th {\n",
              "        text-align: right;\n",
              "    }\n",
              "</style>\n",
              "<table border=\"1\" class=\"dataframe\">\n",
              "  <thead>\n",
              "    <tr style=\"text-align: right;\">\n",
              "      <th></th>\n",
              "      <th>이름</th>\n",
              "      <th>그룹</th>\n",
              "      <th>소속사</th>\n",
              "      <th>성별</th>\n",
              "      <th>생년월일</th>\n",
              "      <th>키</th>\n",
              "      <th>혈액형</th>\n",
              "      <th>브랜드평판지수</th>\n",
              "    </tr>\n",
              "  </thead>\n",
              "  <tbody>\n",
              "    <tr>\n",
              "      <th>0</th>\n",
              "      <td>지민</td>\n",
              "      <td>방탄소년단</td>\n",
              "      <td>빅히트</td>\n",
              "      <td>남자</td>\n",
              "      <td>1995-10-13</td>\n",
              "      <td>173.6</td>\n",
              "      <td>A</td>\n",
              "      <td>10523260</td>\n",
              "    </tr>\n",
              "    <tr>\n",
              "      <th>1</th>\n",
              "      <td>지드래곤</td>\n",
              "      <td>빅뱅</td>\n",
              "      <td>YG</td>\n",
              "      <td>남자</td>\n",
              "      <td>1988-08-18</td>\n",
              "      <td>177.0</td>\n",
              "      <td>A</td>\n",
              "      <td>9916947</td>\n",
              "    </tr>\n",
              "    <tr>\n",
              "      <th>2</th>\n",
              "      <td>강다니엘</td>\n",
              "      <td>NaN</td>\n",
              "      <td>커넥트</td>\n",
              "      <td>남자</td>\n",
              "      <td>1996-12-10</td>\n",
              "      <td>180.0</td>\n",
              "      <td>A</td>\n",
              "      <td>8273745</td>\n",
              "    </tr>\n",
              "    <tr>\n",
              "      <th>3</th>\n",
              "      <td>뷔</td>\n",
              "      <td>방탄소년단</td>\n",
              "      <td>빅히트</td>\n",
              "      <td>남자</td>\n",
              "      <td>1995-12-30</td>\n",
              "      <td>178.0</td>\n",
              "      <td>AB</td>\n",
              "      <td>8073501</td>\n",
              "    </tr>\n",
              "    <tr>\n",
              "      <th>4</th>\n",
              "      <td>화사</td>\n",
              "      <td>마마무</td>\n",
              "      <td>RBW</td>\n",
              "      <td>여자</td>\n",
              "      <td>1995-07-23</td>\n",
              "      <td>162.1</td>\n",
              "      <td>A</td>\n",
              "      <td>7650928</td>\n",
              "    </tr>\n",
              "    <tr>\n",
              "      <th>5</th>\n",
              "      <td>정국</td>\n",
              "      <td>방탄소년단</td>\n",
              "      <td>빅히트</td>\n",
              "      <td>남자</td>\n",
              "      <td>1997-09-01</td>\n",
              "      <td>178.0</td>\n",
              "      <td>A</td>\n",
              "      <td>5208335</td>\n",
              "    </tr>\n",
              "    <tr>\n",
              "      <th>6</th>\n",
              "      <td>민현</td>\n",
              "      <td>뉴이스트</td>\n",
              "      <td>플레디스</td>\n",
              "      <td>남자</td>\n",
              "      <td>1995-08-09</td>\n",
              "      <td>182.3</td>\n",
              "      <td>O</td>\n",
              "      <td>4989792</td>\n",
              "    </tr>\n",
              "    <tr>\n",
              "      <th>7</th>\n",
              "      <td>소연</td>\n",
              "      <td>아이들</td>\n",
              "      <td>큐브</td>\n",
              "      <td>여자</td>\n",
              "      <td>1998-08-26</td>\n",
              "      <td>NaN</td>\n",
              "      <td>B</td>\n",
              "      <td>4668615</td>\n",
              "    </tr>\n",
              "    <tr>\n",
              "      <th>8</th>\n",
              "      <td>진</td>\n",
              "      <td>방탄소년단</td>\n",
              "      <td>빅히트</td>\n",
              "      <td>남자</td>\n",
              "      <td>1992-12-04</td>\n",
              "      <td>179.2</td>\n",
              "      <td>O</td>\n",
              "      <td>4570308</td>\n",
              "    </tr>\n",
              "    <tr>\n",
              "      <th>9</th>\n",
              "      <td>하성운</td>\n",
              "      <td>핫샷</td>\n",
              "      <td>스타크루이엔티</td>\n",
              "      <td>남자</td>\n",
              "      <td>1994-03-22</td>\n",
              "      <td>167.1</td>\n",
              "      <td>A</td>\n",
              "      <td>4036489</td>\n",
              "    </tr>\n",
              "    <tr>\n",
              "      <th>10</th>\n",
              "      <td>태연</td>\n",
              "      <td>소녀시대</td>\n",
              "      <td>SM</td>\n",
              "      <td>여자</td>\n",
              "      <td>1989-03-09</td>\n",
              "      <td>NaN</td>\n",
              "      <td>A</td>\n",
              "      <td>3918661</td>\n",
              "    </tr>\n",
              "    <tr>\n",
              "      <th>11</th>\n",
              "      <td>차은우</td>\n",
              "      <td>아스트로</td>\n",
              "      <td>판타지오</td>\n",
              "      <td>남자</td>\n",
              "      <td>1997-03-30</td>\n",
              "      <td>183.0</td>\n",
              "      <td>B</td>\n",
              "      <td>3506027</td>\n",
              "    </tr>\n",
              "    <tr>\n",
              "      <th>12</th>\n",
              "      <td>백호</td>\n",
              "      <td>뉴이스트</td>\n",
              "      <td>플레디스</td>\n",
              "      <td>남자</td>\n",
              "      <td>1995-07-21</td>\n",
              "      <td>175.0</td>\n",
              "      <td>AB</td>\n",
              "      <td>3301654</td>\n",
              "    </tr>\n",
              "    <tr>\n",
              "      <th>13</th>\n",
              "      <td>JR</td>\n",
              "      <td>뉴이스트</td>\n",
              "      <td>플레디스</td>\n",
              "      <td>남자</td>\n",
              "      <td>1995-06-08</td>\n",
              "      <td>176.0</td>\n",
              "      <td>O</td>\n",
              "      <td>3274137</td>\n",
              "    </tr>\n",
              "    <tr>\n",
              "      <th>14</th>\n",
              "      <td>슈가</td>\n",
              "      <td>방탄소년단</td>\n",
              "      <td>빅히트</td>\n",
              "      <td>남자</td>\n",
              "      <td>1993-03-09</td>\n",
              "      <td>174.0</td>\n",
              "      <td>O</td>\n",
              "      <td>2925442</td>\n",
              "    </tr>\n",
              "  </tbody>\n",
              "</table>\n",
              "</div>"
            ],
            "text/plain": [
              "      이름     그룹      소속사  성별        생년월일      키 혈액형   브랜드평판지수\n",
              "0     지민  방탄소년단      빅히트  남자  1995-10-13  173.6   A  10523260\n",
              "1   지드래곤     빅뱅       YG  남자  1988-08-18  177.0   A   9916947\n",
              "2   강다니엘    NaN      커넥트  남자  1996-12-10  180.0   A   8273745\n",
              "3      뷔  방탄소년단      빅히트  남자  1995-12-30  178.0  AB   8073501\n",
              "4     화사    마마무      RBW  여자  1995-07-23  162.1   A   7650928\n",
              "5     정국  방탄소년단      빅히트  남자  1997-09-01  178.0   A   5208335\n",
              "6     민현   뉴이스트     플레디스  남자  1995-08-09  182.3   O   4989792\n",
              "7     소연    아이들       큐브  여자  1998-08-26    NaN   B   4668615\n",
              "8      진  방탄소년단      빅히트  남자  1992-12-04  179.2   O   4570308\n",
              "9    하성운     핫샷  스타크루이엔티  남자  1994-03-22  167.1   A   4036489\n",
              "10    태연   소녀시대       SM  여자  1989-03-09    NaN   A   3918661\n",
              "11   차은우   아스트로     판타지오  남자  1997-03-30  183.0   B   3506027\n",
              "12    백호   뉴이스트     플레디스  남자  1995-07-21  175.0  AB   3301654\n",
              "13    JR   뉴이스트     플레디스  남자  1995-06-08  176.0   O   3274137\n",
              "14    슈가  방탄소년단      빅히트  남자  1993-03-09  174.0   O   2925442"
            ]
          },
          "metadata": {
            "tags": []
          },
          "execution_count": 10
        }
      ]
    },
    {
      "cell_type": "code",
      "metadata": {
        "id": "9jSU9POIJehn"
      },
      "source": [
        "def male_or_female(x):\r\n",
        "    if x== '남자':\r\n",
        "        return 1\r\n",
        "    elif x == '여자':\r\n",
        "        return 0"
      ],
      "execution_count": 11,
      "outputs": []
    },
    {
      "cell_type": "code",
      "metadata": {
        "colab": {
          "base_uri": "https://localhost:8080/"
        },
        "id": "hFIH6ojyJs0d",
        "outputId": "cd86036b-63c0-4a66-abdf-6d1121a0f65f"
      },
      "source": [
        "df['성별'].apply(male_or_female)"
      ],
      "execution_count": 12,
      "outputs": [
        {
          "output_type": "execute_result",
          "data": {
            "text/plain": [
              "0     1\n",
              "1     1\n",
              "2     1\n",
              "3     1\n",
              "4     0\n",
              "5     1\n",
              "6     1\n",
              "7     0\n",
              "8     1\n",
              "9     1\n",
              "10    0\n",
              "11    1\n",
              "12    1\n",
              "13    1\n",
              "14    1\n",
              "Name: 성별, dtype: int64"
            ]
          },
          "metadata": {
            "tags": []
          },
          "execution_count": 12
        }
      ]
    },
    {
      "cell_type": "code",
      "metadata": {
        "colab": {
          "base_uri": "https://localhost:8080/",
          "height": 498
        },
        "id": "YFfbZbpJKxrw",
        "outputId": "a76d9e8e-4ae6-4164-a6c4-efa4a0efefbc"
      },
      "source": [
        "df"
      ],
      "execution_count": 13,
      "outputs": [
        {
          "output_type": "execute_result",
          "data": {
            "text/html": [
              "<div>\n",
              "<style scoped>\n",
              "    .dataframe tbody tr th:only-of-type {\n",
              "        vertical-align: middle;\n",
              "    }\n",
              "\n",
              "    .dataframe tbody tr th {\n",
              "        vertical-align: top;\n",
              "    }\n",
              "\n",
              "    .dataframe thead th {\n",
              "        text-align: right;\n",
              "    }\n",
              "</style>\n",
              "<table border=\"1\" class=\"dataframe\">\n",
              "  <thead>\n",
              "    <tr style=\"text-align: right;\">\n",
              "      <th></th>\n",
              "      <th>이름</th>\n",
              "      <th>그룹</th>\n",
              "      <th>소속사</th>\n",
              "      <th>성별</th>\n",
              "      <th>생년월일</th>\n",
              "      <th>키</th>\n",
              "      <th>혈액형</th>\n",
              "      <th>브랜드평판지수</th>\n",
              "    </tr>\n",
              "  </thead>\n",
              "  <tbody>\n",
              "    <tr>\n",
              "      <th>0</th>\n",
              "      <td>지민</td>\n",
              "      <td>방탄소년단</td>\n",
              "      <td>빅히트</td>\n",
              "      <td>남자</td>\n",
              "      <td>1995-10-13</td>\n",
              "      <td>173.6</td>\n",
              "      <td>A</td>\n",
              "      <td>10523260</td>\n",
              "    </tr>\n",
              "    <tr>\n",
              "      <th>1</th>\n",
              "      <td>지드래곤</td>\n",
              "      <td>빅뱅</td>\n",
              "      <td>YG</td>\n",
              "      <td>남자</td>\n",
              "      <td>1988-08-18</td>\n",
              "      <td>177.0</td>\n",
              "      <td>A</td>\n",
              "      <td>9916947</td>\n",
              "    </tr>\n",
              "    <tr>\n",
              "      <th>2</th>\n",
              "      <td>강다니엘</td>\n",
              "      <td>NaN</td>\n",
              "      <td>커넥트</td>\n",
              "      <td>남자</td>\n",
              "      <td>1996-12-10</td>\n",
              "      <td>180.0</td>\n",
              "      <td>A</td>\n",
              "      <td>8273745</td>\n",
              "    </tr>\n",
              "    <tr>\n",
              "      <th>3</th>\n",
              "      <td>뷔</td>\n",
              "      <td>방탄소년단</td>\n",
              "      <td>빅히트</td>\n",
              "      <td>남자</td>\n",
              "      <td>1995-12-30</td>\n",
              "      <td>178.0</td>\n",
              "      <td>AB</td>\n",
              "      <td>8073501</td>\n",
              "    </tr>\n",
              "    <tr>\n",
              "      <th>4</th>\n",
              "      <td>화사</td>\n",
              "      <td>마마무</td>\n",
              "      <td>RBW</td>\n",
              "      <td>여자</td>\n",
              "      <td>1995-07-23</td>\n",
              "      <td>162.1</td>\n",
              "      <td>A</td>\n",
              "      <td>7650928</td>\n",
              "    </tr>\n",
              "    <tr>\n",
              "      <th>5</th>\n",
              "      <td>정국</td>\n",
              "      <td>방탄소년단</td>\n",
              "      <td>빅히트</td>\n",
              "      <td>남자</td>\n",
              "      <td>1997-09-01</td>\n",
              "      <td>178.0</td>\n",
              "      <td>A</td>\n",
              "      <td>5208335</td>\n",
              "    </tr>\n",
              "    <tr>\n",
              "      <th>6</th>\n",
              "      <td>민현</td>\n",
              "      <td>뉴이스트</td>\n",
              "      <td>플레디스</td>\n",
              "      <td>남자</td>\n",
              "      <td>1995-08-09</td>\n",
              "      <td>182.3</td>\n",
              "      <td>O</td>\n",
              "      <td>4989792</td>\n",
              "    </tr>\n",
              "    <tr>\n",
              "      <th>7</th>\n",
              "      <td>소연</td>\n",
              "      <td>아이들</td>\n",
              "      <td>큐브</td>\n",
              "      <td>여자</td>\n",
              "      <td>1998-08-26</td>\n",
              "      <td>NaN</td>\n",
              "      <td>B</td>\n",
              "      <td>4668615</td>\n",
              "    </tr>\n",
              "    <tr>\n",
              "      <th>8</th>\n",
              "      <td>진</td>\n",
              "      <td>방탄소년단</td>\n",
              "      <td>빅히트</td>\n",
              "      <td>남자</td>\n",
              "      <td>1992-12-04</td>\n",
              "      <td>179.2</td>\n",
              "      <td>O</td>\n",
              "      <td>4570308</td>\n",
              "    </tr>\n",
              "    <tr>\n",
              "      <th>9</th>\n",
              "      <td>하성운</td>\n",
              "      <td>핫샷</td>\n",
              "      <td>스타크루이엔티</td>\n",
              "      <td>남자</td>\n",
              "      <td>1994-03-22</td>\n",
              "      <td>167.1</td>\n",
              "      <td>A</td>\n",
              "      <td>4036489</td>\n",
              "    </tr>\n",
              "    <tr>\n",
              "      <th>10</th>\n",
              "      <td>태연</td>\n",
              "      <td>소녀시대</td>\n",
              "      <td>SM</td>\n",
              "      <td>여자</td>\n",
              "      <td>1989-03-09</td>\n",
              "      <td>NaN</td>\n",
              "      <td>A</td>\n",
              "      <td>3918661</td>\n",
              "    </tr>\n",
              "    <tr>\n",
              "      <th>11</th>\n",
              "      <td>차은우</td>\n",
              "      <td>아스트로</td>\n",
              "      <td>판타지오</td>\n",
              "      <td>남자</td>\n",
              "      <td>1997-03-30</td>\n",
              "      <td>183.0</td>\n",
              "      <td>B</td>\n",
              "      <td>3506027</td>\n",
              "    </tr>\n",
              "    <tr>\n",
              "      <th>12</th>\n",
              "      <td>백호</td>\n",
              "      <td>뉴이스트</td>\n",
              "      <td>플레디스</td>\n",
              "      <td>남자</td>\n",
              "      <td>1995-07-21</td>\n",
              "      <td>175.0</td>\n",
              "      <td>AB</td>\n",
              "      <td>3301654</td>\n",
              "    </tr>\n",
              "    <tr>\n",
              "      <th>13</th>\n",
              "      <td>JR</td>\n",
              "      <td>뉴이스트</td>\n",
              "      <td>플레디스</td>\n",
              "      <td>남자</td>\n",
              "      <td>1995-06-08</td>\n",
              "      <td>176.0</td>\n",
              "      <td>O</td>\n",
              "      <td>3274137</td>\n",
              "    </tr>\n",
              "    <tr>\n",
              "      <th>14</th>\n",
              "      <td>슈가</td>\n",
              "      <td>방탄소년단</td>\n",
              "      <td>빅히트</td>\n",
              "      <td>남자</td>\n",
              "      <td>1993-03-09</td>\n",
              "      <td>174.0</td>\n",
              "      <td>O</td>\n",
              "      <td>2925442</td>\n",
              "    </tr>\n",
              "  </tbody>\n",
              "</table>\n",
              "</div>"
            ],
            "text/plain": [
              "      이름     그룹      소속사  성별        생년월일      키 혈액형   브랜드평판지수\n",
              "0     지민  방탄소년단      빅히트  남자  1995-10-13  173.6   A  10523260\n",
              "1   지드래곤     빅뱅       YG  남자  1988-08-18  177.0   A   9916947\n",
              "2   강다니엘    NaN      커넥트  남자  1996-12-10  180.0   A   8273745\n",
              "3      뷔  방탄소년단      빅히트  남자  1995-12-30  178.0  AB   8073501\n",
              "4     화사    마마무      RBW  여자  1995-07-23  162.1   A   7650928\n",
              "5     정국  방탄소년단      빅히트  남자  1997-09-01  178.0   A   5208335\n",
              "6     민현   뉴이스트     플레디스  남자  1995-08-09  182.3   O   4989792\n",
              "7     소연    아이들       큐브  여자  1998-08-26    NaN   B   4668615\n",
              "8      진  방탄소년단      빅히트  남자  1992-12-04  179.2   O   4570308\n",
              "9    하성운     핫샷  스타크루이엔티  남자  1994-03-22  167.1   A   4036489\n",
              "10    태연   소녀시대       SM  여자  1989-03-09    NaN   A   3918661\n",
              "11   차은우   아스트로     판타지오  남자  1997-03-30  183.0   B   3506027\n",
              "12    백호   뉴이스트     플레디스  남자  1995-07-21  175.0  AB   3301654\n",
              "13    JR   뉴이스트     플레디스  남자  1995-06-08  176.0   O   3274137\n",
              "14    슈가  방탄소년단      빅히트  남자  1993-03-09  174.0   O   2925442"
            ]
          },
          "metadata": {
            "tags": []
          },
          "execution_count": 13
        }
      ]
    },
    {
      "cell_type": "code",
      "metadata": {
        "id": "cPyJTib4K2RC"
      },
      "source": [
        "df['성별'] = df['성별'].apply(male_or_female)"
      ],
      "execution_count": 14,
      "outputs": []
    },
    {
      "cell_type": "code",
      "metadata": {
        "colab": {
          "base_uri": "https://localhost:8080/",
          "height": 498
        },
        "id": "lde4Y5V2K6s3",
        "outputId": "a4ef0e09-471a-4197-df48-7e2641f31377"
      },
      "source": [
        "df"
      ],
      "execution_count": 15,
      "outputs": [
        {
          "output_type": "execute_result",
          "data": {
            "text/html": [
              "<div>\n",
              "<style scoped>\n",
              "    .dataframe tbody tr th:only-of-type {\n",
              "        vertical-align: middle;\n",
              "    }\n",
              "\n",
              "    .dataframe tbody tr th {\n",
              "        vertical-align: top;\n",
              "    }\n",
              "\n",
              "    .dataframe thead th {\n",
              "        text-align: right;\n",
              "    }\n",
              "</style>\n",
              "<table border=\"1\" class=\"dataframe\">\n",
              "  <thead>\n",
              "    <tr style=\"text-align: right;\">\n",
              "      <th></th>\n",
              "      <th>이름</th>\n",
              "      <th>그룹</th>\n",
              "      <th>소속사</th>\n",
              "      <th>성별</th>\n",
              "      <th>생년월일</th>\n",
              "      <th>키</th>\n",
              "      <th>혈액형</th>\n",
              "      <th>브랜드평판지수</th>\n",
              "    </tr>\n",
              "  </thead>\n",
              "  <tbody>\n",
              "    <tr>\n",
              "      <th>0</th>\n",
              "      <td>지민</td>\n",
              "      <td>방탄소년단</td>\n",
              "      <td>빅히트</td>\n",
              "      <td>1</td>\n",
              "      <td>1995-10-13</td>\n",
              "      <td>173.6</td>\n",
              "      <td>A</td>\n",
              "      <td>10523260</td>\n",
              "    </tr>\n",
              "    <tr>\n",
              "      <th>1</th>\n",
              "      <td>지드래곤</td>\n",
              "      <td>빅뱅</td>\n",
              "      <td>YG</td>\n",
              "      <td>1</td>\n",
              "      <td>1988-08-18</td>\n",
              "      <td>177.0</td>\n",
              "      <td>A</td>\n",
              "      <td>9916947</td>\n",
              "    </tr>\n",
              "    <tr>\n",
              "      <th>2</th>\n",
              "      <td>강다니엘</td>\n",
              "      <td>NaN</td>\n",
              "      <td>커넥트</td>\n",
              "      <td>1</td>\n",
              "      <td>1996-12-10</td>\n",
              "      <td>180.0</td>\n",
              "      <td>A</td>\n",
              "      <td>8273745</td>\n",
              "    </tr>\n",
              "    <tr>\n",
              "      <th>3</th>\n",
              "      <td>뷔</td>\n",
              "      <td>방탄소년단</td>\n",
              "      <td>빅히트</td>\n",
              "      <td>1</td>\n",
              "      <td>1995-12-30</td>\n",
              "      <td>178.0</td>\n",
              "      <td>AB</td>\n",
              "      <td>8073501</td>\n",
              "    </tr>\n",
              "    <tr>\n",
              "      <th>4</th>\n",
              "      <td>화사</td>\n",
              "      <td>마마무</td>\n",
              "      <td>RBW</td>\n",
              "      <td>0</td>\n",
              "      <td>1995-07-23</td>\n",
              "      <td>162.1</td>\n",
              "      <td>A</td>\n",
              "      <td>7650928</td>\n",
              "    </tr>\n",
              "    <tr>\n",
              "      <th>5</th>\n",
              "      <td>정국</td>\n",
              "      <td>방탄소년단</td>\n",
              "      <td>빅히트</td>\n",
              "      <td>1</td>\n",
              "      <td>1997-09-01</td>\n",
              "      <td>178.0</td>\n",
              "      <td>A</td>\n",
              "      <td>5208335</td>\n",
              "    </tr>\n",
              "    <tr>\n",
              "      <th>6</th>\n",
              "      <td>민현</td>\n",
              "      <td>뉴이스트</td>\n",
              "      <td>플레디스</td>\n",
              "      <td>1</td>\n",
              "      <td>1995-08-09</td>\n",
              "      <td>182.3</td>\n",
              "      <td>O</td>\n",
              "      <td>4989792</td>\n",
              "    </tr>\n",
              "    <tr>\n",
              "      <th>7</th>\n",
              "      <td>소연</td>\n",
              "      <td>아이들</td>\n",
              "      <td>큐브</td>\n",
              "      <td>0</td>\n",
              "      <td>1998-08-26</td>\n",
              "      <td>NaN</td>\n",
              "      <td>B</td>\n",
              "      <td>4668615</td>\n",
              "    </tr>\n",
              "    <tr>\n",
              "      <th>8</th>\n",
              "      <td>진</td>\n",
              "      <td>방탄소년단</td>\n",
              "      <td>빅히트</td>\n",
              "      <td>1</td>\n",
              "      <td>1992-12-04</td>\n",
              "      <td>179.2</td>\n",
              "      <td>O</td>\n",
              "      <td>4570308</td>\n",
              "    </tr>\n",
              "    <tr>\n",
              "      <th>9</th>\n",
              "      <td>하성운</td>\n",
              "      <td>핫샷</td>\n",
              "      <td>스타크루이엔티</td>\n",
              "      <td>1</td>\n",
              "      <td>1994-03-22</td>\n",
              "      <td>167.1</td>\n",
              "      <td>A</td>\n",
              "      <td>4036489</td>\n",
              "    </tr>\n",
              "    <tr>\n",
              "      <th>10</th>\n",
              "      <td>태연</td>\n",
              "      <td>소녀시대</td>\n",
              "      <td>SM</td>\n",
              "      <td>0</td>\n",
              "      <td>1989-03-09</td>\n",
              "      <td>NaN</td>\n",
              "      <td>A</td>\n",
              "      <td>3918661</td>\n",
              "    </tr>\n",
              "    <tr>\n",
              "      <th>11</th>\n",
              "      <td>차은우</td>\n",
              "      <td>아스트로</td>\n",
              "      <td>판타지오</td>\n",
              "      <td>1</td>\n",
              "      <td>1997-03-30</td>\n",
              "      <td>183.0</td>\n",
              "      <td>B</td>\n",
              "      <td>3506027</td>\n",
              "    </tr>\n",
              "    <tr>\n",
              "      <th>12</th>\n",
              "      <td>백호</td>\n",
              "      <td>뉴이스트</td>\n",
              "      <td>플레디스</td>\n",
              "      <td>1</td>\n",
              "      <td>1995-07-21</td>\n",
              "      <td>175.0</td>\n",
              "      <td>AB</td>\n",
              "      <td>3301654</td>\n",
              "    </tr>\n",
              "    <tr>\n",
              "      <th>13</th>\n",
              "      <td>JR</td>\n",
              "      <td>뉴이스트</td>\n",
              "      <td>플레디스</td>\n",
              "      <td>1</td>\n",
              "      <td>1995-06-08</td>\n",
              "      <td>176.0</td>\n",
              "      <td>O</td>\n",
              "      <td>3274137</td>\n",
              "    </tr>\n",
              "    <tr>\n",
              "      <th>14</th>\n",
              "      <td>슈가</td>\n",
              "      <td>방탄소년단</td>\n",
              "      <td>빅히트</td>\n",
              "      <td>1</td>\n",
              "      <td>1993-03-09</td>\n",
              "      <td>174.0</td>\n",
              "      <td>O</td>\n",
              "      <td>2925442</td>\n",
              "    </tr>\n",
              "  </tbody>\n",
              "</table>\n",
              "</div>"
            ],
            "text/plain": [
              "      이름     그룹      소속사  성별        생년월일      키 혈액형   브랜드평판지수\n",
              "0     지민  방탄소년단      빅히트   1  1995-10-13  173.6   A  10523260\n",
              "1   지드래곤     빅뱅       YG   1  1988-08-18  177.0   A   9916947\n",
              "2   강다니엘    NaN      커넥트   1  1996-12-10  180.0   A   8273745\n",
              "3      뷔  방탄소년단      빅히트   1  1995-12-30  178.0  AB   8073501\n",
              "4     화사    마마무      RBW   0  1995-07-23  162.1   A   7650928\n",
              "5     정국  방탄소년단      빅히트   1  1997-09-01  178.0   A   5208335\n",
              "6     민현   뉴이스트     플레디스   1  1995-08-09  182.3   O   4989792\n",
              "7     소연    아이들       큐브   0  1998-08-26    NaN   B   4668615\n",
              "8      진  방탄소년단      빅히트   1  1992-12-04  179.2   O   4570308\n",
              "9    하성운     핫샷  스타크루이엔티   1  1994-03-22  167.1   A   4036489\n",
              "10    태연   소녀시대       SM   0  1989-03-09    NaN   A   3918661\n",
              "11   차은우   아스트로     판타지오   1  1997-03-30  183.0   B   3506027\n",
              "12    백호   뉴이스트     플레디스   1  1995-07-21  175.0  AB   3301654\n",
              "13    JR   뉴이스트     플레디스   1  1995-06-08  176.0   O   3274137\n",
              "14    슈가  방탄소년단      빅히트   1  1993-03-09  174.0   O   2925442"
            ]
          },
          "metadata": {
            "tags": []
          },
          "execution_count": 15
        }
      ]
    },
    {
      "cell_type": "code",
      "metadata": {
        "id": "z5s2mICWK7Wa"
      },
      "source": [
        "def cm_to_brand(df):\r\n",
        "    value = df['브랜드평판지수'] / df['키']\r\n",
        "    return value"
      ],
      "execution_count": 16,
      "outputs": []
    },
    {
      "cell_type": "code",
      "metadata": {
        "colab": {
          "base_uri": "https://localhost:8080/"
        },
        "id": "cKUdMCKvLU_b",
        "outputId": "6bcf27b1-9bc3-4861-cc11-37e57408cba5"
      },
      "source": [
        "cm_to_brand"
      ],
      "execution_count": 17,
      "outputs": [
        {
          "output_type": "execute_result",
          "data": {
            "text/plain": [
              "<function __main__.cm_to_brand>"
            ]
          },
          "metadata": {
            "tags": []
          },
          "execution_count": 17
        }
      ]
    },
    {
      "cell_type": "code",
      "metadata": {
        "colab": {
          "base_uri": "https://localhost:8080/",
          "height": 324
        },
        "id": "e6ImYYf2LWOI",
        "outputId": "82ff2e64-155f-418c-89a2-811661e6bd46"
      },
      "source": [
        "df.apply(cm_to_brand)"
      ],
      "execution_count": 18,
      "outputs": [
        {
          "output_type": "error",
          "ename": "KeyError",
          "evalue": "ignored",
          "traceback": [
            "\u001b[0;31m---------------------------------------------------------------------------\u001b[0m",
            "\u001b[0;31mKeyError\u001b[0m                                  Traceback (most recent call last)",
            "\u001b[0;32m<ipython-input-18-ecfdf3060dbb>\u001b[0m in \u001b[0;36m<module>\u001b[0;34m()\u001b[0m\n\u001b[0;32m----> 1\u001b[0;31m \u001b[0mdf\u001b[0m\u001b[0;34m.\u001b[0m\u001b[0mapply\u001b[0m\u001b[0;34m(\u001b[0m\u001b[0mcm_to_brand\u001b[0m\u001b[0;34m)\u001b[0m\u001b[0;34m\u001b[0m\u001b[0;34m\u001b[0m\u001b[0m\n\u001b[0m",
            "\u001b[0;32m/usr/local/lib/python3.6/dist-packages/pandas/core/frame.py\u001b[0m in \u001b[0;36mapply\u001b[0;34m(self, func, axis, raw, result_type, args, **kwds)\u001b[0m\n\u001b[1;32m   7550\u001b[0m             \u001b[0mkwds\u001b[0m\u001b[0;34m=\u001b[0m\u001b[0mkwds\u001b[0m\u001b[0;34m,\u001b[0m\u001b[0;34m\u001b[0m\u001b[0;34m\u001b[0m\u001b[0m\n\u001b[1;32m   7551\u001b[0m         )\n\u001b[0;32m-> 7552\u001b[0;31m         \u001b[0;32mreturn\u001b[0m \u001b[0mop\u001b[0m\u001b[0;34m.\u001b[0m\u001b[0mget_result\u001b[0m\u001b[0;34m(\u001b[0m\u001b[0;34m)\u001b[0m\u001b[0;34m\u001b[0m\u001b[0;34m\u001b[0m\u001b[0m\n\u001b[0m\u001b[1;32m   7553\u001b[0m \u001b[0;34m\u001b[0m\u001b[0m\n\u001b[1;32m   7554\u001b[0m     \u001b[0;32mdef\u001b[0m \u001b[0mapplymap\u001b[0m\u001b[0;34m(\u001b[0m\u001b[0mself\u001b[0m\u001b[0;34m,\u001b[0m \u001b[0mfunc\u001b[0m\u001b[0;34m)\u001b[0m \u001b[0;34m->\u001b[0m \u001b[0;34m\"DataFrame\"\u001b[0m\u001b[0;34m:\u001b[0m\u001b[0;34m\u001b[0m\u001b[0;34m\u001b[0m\u001b[0m\n",
            "\u001b[0;32m/usr/local/lib/python3.6/dist-packages/pandas/core/apply.py\u001b[0m in \u001b[0;36mget_result\u001b[0;34m(self)\u001b[0m\n\u001b[1;32m    183\u001b[0m             \u001b[0;32mreturn\u001b[0m \u001b[0mself\u001b[0m\u001b[0;34m.\u001b[0m\u001b[0mapply_raw\u001b[0m\u001b[0;34m(\u001b[0m\u001b[0;34m)\u001b[0m\u001b[0;34m\u001b[0m\u001b[0;34m\u001b[0m\u001b[0m\n\u001b[1;32m    184\u001b[0m \u001b[0;34m\u001b[0m\u001b[0m\n\u001b[0;32m--> 185\u001b[0;31m         \u001b[0;32mreturn\u001b[0m \u001b[0mself\u001b[0m\u001b[0;34m.\u001b[0m\u001b[0mapply_standard\u001b[0m\u001b[0;34m(\u001b[0m\u001b[0;34m)\u001b[0m\u001b[0;34m\u001b[0m\u001b[0;34m\u001b[0m\u001b[0m\n\u001b[0m\u001b[1;32m    186\u001b[0m \u001b[0;34m\u001b[0m\u001b[0m\n\u001b[1;32m    187\u001b[0m     \u001b[0;32mdef\u001b[0m \u001b[0mapply_empty_result\u001b[0m\u001b[0;34m(\u001b[0m\u001b[0mself\u001b[0m\u001b[0;34m)\u001b[0m\u001b[0;34m:\u001b[0m\u001b[0;34m\u001b[0m\u001b[0;34m\u001b[0m\u001b[0m\n",
            "\u001b[0;32m/usr/local/lib/python3.6/dist-packages/pandas/core/apply.py\u001b[0m in \u001b[0;36mapply_standard\u001b[0;34m(self)\u001b[0m\n\u001b[1;32m    274\u001b[0m \u001b[0;34m\u001b[0m\u001b[0m\n\u001b[1;32m    275\u001b[0m     \u001b[0;32mdef\u001b[0m \u001b[0mapply_standard\u001b[0m\u001b[0;34m(\u001b[0m\u001b[0mself\u001b[0m\u001b[0;34m)\u001b[0m\u001b[0;34m:\u001b[0m\u001b[0;34m\u001b[0m\u001b[0;34m\u001b[0m\u001b[0m\n\u001b[0;32m--> 276\u001b[0;31m         \u001b[0mresults\u001b[0m\u001b[0;34m,\u001b[0m \u001b[0mres_index\u001b[0m \u001b[0;34m=\u001b[0m \u001b[0mself\u001b[0m\u001b[0;34m.\u001b[0m\u001b[0mapply_series_generator\u001b[0m\u001b[0;34m(\u001b[0m\u001b[0;34m)\u001b[0m\u001b[0;34m\u001b[0m\u001b[0;34m\u001b[0m\u001b[0m\n\u001b[0m\u001b[1;32m    277\u001b[0m \u001b[0;34m\u001b[0m\u001b[0m\n\u001b[1;32m    278\u001b[0m         \u001b[0;31m# wrap results\u001b[0m\u001b[0;34m\u001b[0m\u001b[0;34m\u001b[0m\u001b[0;34m\u001b[0m\u001b[0m\n",
            "\u001b[0;32m/usr/local/lib/python3.6/dist-packages/pandas/core/apply.py\u001b[0m in \u001b[0;36mapply_series_generator\u001b[0;34m(self)\u001b[0m\n\u001b[1;32m    303\u001b[0m                 \u001b[0;32mfor\u001b[0m \u001b[0mi\u001b[0m\u001b[0;34m,\u001b[0m \u001b[0mv\u001b[0m \u001b[0;32min\u001b[0m \u001b[0menumerate\u001b[0m\u001b[0;34m(\u001b[0m\u001b[0mseries_gen\u001b[0m\u001b[0;34m)\u001b[0m\u001b[0;34m:\u001b[0m\u001b[0;34m\u001b[0m\u001b[0;34m\u001b[0m\u001b[0m\n\u001b[1;32m    304\u001b[0m                     \u001b[0;31m# ignore SettingWithCopy here in case the user mutates\u001b[0m\u001b[0;34m\u001b[0m\u001b[0;34m\u001b[0m\u001b[0;34m\u001b[0m\u001b[0m\n\u001b[0;32m--> 305\u001b[0;31m                     \u001b[0mresults\u001b[0m\u001b[0;34m[\u001b[0m\u001b[0mi\u001b[0m\u001b[0;34m]\u001b[0m \u001b[0;34m=\u001b[0m \u001b[0mself\u001b[0m\u001b[0;34m.\u001b[0m\u001b[0mf\u001b[0m\u001b[0;34m(\u001b[0m\u001b[0mv\u001b[0m\u001b[0;34m)\u001b[0m\u001b[0;34m\u001b[0m\u001b[0;34m\u001b[0m\u001b[0m\n\u001b[0m\u001b[1;32m    306\u001b[0m                     \u001b[0;32mif\u001b[0m \u001b[0misinstance\u001b[0m\u001b[0;34m(\u001b[0m\u001b[0mresults\u001b[0m\u001b[0;34m[\u001b[0m\u001b[0mi\u001b[0m\u001b[0;34m]\u001b[0m\u001b[0;34m,\u001b[0m \u001b[0mABCSeries\u001b[0m\u001b[0;34m)\u001b[0m\u001b[0;34m:\u001b[0m\u001b[0;34m\u001b[0m\u001b[0;34m\u001b[0m\u001b[0m\n\u001b[1;32m    307\u001b[0m                         \u001b[0;31m# If we have a view on v, we need to make a copy because\u001b[0m\u001b[0;34m\u001b[0m\u001b[0;34m\u001b[0m\u001b[0;34m\u001b[0m\u001b[0m\n",
            "\u001b[0;32m<ipython-input-16-bc9d91b86ffc>\u001b[0m in \u001b[0;36mcm_to_brand\u001b[0;34m(df)\u001b[0m\n\u001b[1;32m      1\u001b[0m \u001b[0;32mdef\u001b[0m \u001b[0mcm_to_brand\u001b[0m\u001b[0;34m(\u001b[0m\u001b[0mdf\u001b[0m\u001b[0;34m)\u001b[0m\u001b[0;34m:\u001b[0m\u001b[0;34m\u001b[0m\u001b[0;34m\u001b[0m\u001b[0m\n\u001b[0;32m----> 2\u001b[0;31m     \u001b[0mvalue\u001b[0m \u001b[0;34m=\u001b[0m \u001b[0mdf\u001b[0m\u001b[0;34m[\u001b[0m\u001b[0;34m'브랜드평판지수'\u001b[0m\u001b[0;34m]\u001b[0m \u001b[0;34m/\u001b[0m \u001b[0mdf\u001b[0m\u001b[0;34m[\u001b[0m\u001b[0;34m'키'\u001b[0m\u001b[0;34m]\u001b[0m\u001b[0;34m\u001b[0m\u001b[0;34m\u001b[0m\u001b[0m\n\u001b[0m\u001b[1;32m      3\u001b[0m     \u001b[0;32mreturn\u001b[0m \u001b[0mvalue\u001b[0m\u001b[0;34m\u001b[0m\u001b[0;34m\u001b[0m\u001b[0m\n",
            "\u001b[0;32m/usr/local/lib/python3.6/dist-packages/pandas/core/series.py\u001b[0m in \u001b[0;36m__getitem__\u001b[0;34m(self, key)\u001b[0m\n\u001b[1;32m    880\u001b[0m \u001b[0;34m\u001b[0m\u001b[0m\n\u001b[1;32m    881\u001b[0m         \u001b[0;32melif\u001b[0m \u001b[0mkey_is_scalar\u001b[0m\u001b[0;34m:\u001b[0m\u001b[0;34m\u001b[0m\u001b[0;34m\u001b[0m\u001b[0m\n\u001b[0;32m--> 882\u001b[0;31m             \u001b[0;32mreturn\u001b[0m \u001b[0mself\u001b[0m\u001b[0;34m.\u001b[0m\u001b[0m_get_value\u001b[0m\u001b[0;34m(\u001b[0m\u001b[0mkey\u001b[0m\u001b[0;34m)\u001b[0m\u001b[0;34m\u001b[0m\u001b[0;34m\u001b[0m\u001b[0m\n\u001b[0m\u001b[1;32m    883\u001b[0m \u001b[0;34m\u001b[0m\u001b[0m\n\u001b[1;32m    884\u001b[0m         \u001b[0;32mif\u001b[0m \u001b[0mis_hashable\u001b[0m\u001b[0;34m(\u001b[0m\u001b[0mkey\u001b[0m\u001b[0;34m)\u001b[0m\u001b[0;34m:\u001b[0m\u001b[0;34m\u001b[0m\u001b[0;34m\u001b[0m\u001b[0m\n",
            "\u001b[0;32m/usr/local/lib/python3.6/dist-packages/pandas/core/series.py\u001b[0m in \u001b[0;36m_get_value\u001b[0;34m(self, label, takeable)\u001b[0m\n\u001b[1;32m    988\u001b[0m \u001b[0;34m\u001b[0m\u001b[0m\n\u001b[1;32m    989\u001b[0m         \u001b[0;31m# Similar to Index.get_value, but we do not fall back to positional\u001b[0m\u001b[0;34m\u001b[0m\u001b[0;34m\u001b[0m\u001b[0;34m\u001b[0m\u001b[0m\n\u001b[0;32m--> 990\u001b[0;31m         \u001b[0mloc\u001b[0m \u001b[0;34m=\u001b[0m \u001b[0mself\u001b[0m\u001b[0;34m.\u001b[0m\u001b[0mindex\u001b[0m\u001b[0;34m.\u001b[0m\u001b[0mget_loc\u001b[0m\u001b[0;34m(\u001b[0m\u001b[0mlabel\u001b[0m\u001b[0;34m)\u001b[0m\u001b[0;34m\u001b[0m\u001b[0;34m\u001b[0m\u001b[0m\n\u001b[0m\u001b[1;32m    991\u001b[0m         \u001b[0;32mreturn\u001b[0m \u001b[0mself\u001b[0m\u001b[0;34m.\u001b[0m\u001b[0mindex\u001b[0m\u001b[0;34m.\u001b[0m\u001b[0m_get_values_for_loc\u001b[0m\u001b[0;34m(\u001b[0m\u001b[0mself\u001b[0m\u001b[0;34m,\u001b[0m \u001b[0mloc\u001b[0m\u001b[0;34m,\u001b[0m \u001b[0mlabel\u001b[0m\u001b[0;34m)\u001b[0m\u001b[0;34m\u001b[0m\u001b[0;34m\u001b[0m\u001b[0m\n\u001b[1;32m    992\u001b[0m \u001b[0;34m\u001b[0m\u001b[0m\n",
            "\u001b[0;32m/usr/local/lib/python3.6/dist-packages/pandas/core/indexes/range.py\u001b[0m in \u001b[0;36mget_loc\u001b[0;34m(self, key, method, tolerance)\u001b[0m\n\u001b[1;32m    356\u001b[0m                 \u001b[0;32mexcept\u001b[0m \u001b[0mValueError\u001b[0m \u001b[0;32mas\u001b[0m \u001b[0merr\u001b[0m\u001b[0;34m:\u001b[0m\u001b[0;34m\u001b[0m\u001b[0;34m\u001b[0m\u001b[0m\n\u001b[1;32m    357\u001b[0m                     \u001b[0;32mraise\u001b[0m \u001b[0mKeyError\u001b[0m\u001b[0;34m(\u001b[0m\u001b[0mkey\u001b[0m\u001b[0;34m)\u001b[0m \u001b[0;32mfrom\u001b[0m \u001b[0merr\u001b[0m\u001b[0;34m\u001b[0m\u001b[0;34m\u001b[0m\u001b[0m\n\u001b[0;32m--> 358\u001b[0;31m             \u001b[0;32mraise\u001b[0m \u001b[0mKeyError\u001b[0m\u001b[0;34m(\u001b[0m\u001b[0mkey\u001b[0m\u001b[0;34m)\u001b[0m\u001b[0;34m\u001b[0m\u001b[0;34m\u001b[0m\u001b[0m\n\u001b[0m\u001b[1;32m    359\u001b[0m         \u001b[0;32mreturn\u001b[0m \u001b[0msuper\u001b[0m\u001b[0;34m(\u001b[0m\u001b[0;34m)\u001b[0m\u001b[0;34m.\u001b[0m\u001b[0mget_loc\u001b[0m\u001b[0;34m(\u001b[0m\u001b[0mkey\u001b[0m\u001b[0;34m,\u001b[0m \u001b[0mmethod\u001b[0m\u001b[0;34m=\u001b[0m\u001b[0mmethod\u001b[0m\u001b[0;34m,\u001b[0m \u001b[0mtolerance\u001b[0m\u001b[0;34m=\u001b[0m\u001b[0mtolerance\u001b[0m\u001b[0;34m)\u001b[0m\u001b[0;34m\u001b[0m\u001b[0;34m\u001b[0m\u001b[0m\n\u001b[1;32m    360\u001b[0m \u001b[0;34m\u001b[0m\u001b[0m\n",
            "\u001b[0;31mKeyError\u001b[0m: '브랜드평판지수'"
          ]
        }
      ]
    },
    {
      "cell_type": "code",
      "metadata": {
        "colab": {
          "base_uri": "https://localhost:8080/"
        },
        "id": "UoGY2T93La5O",
        "outputId": "85b5cfec-0d91-4958-b921-51ca7674b93d"
      },
      "source": [
        "df.apply(cm_to_brand, axis=1)"
      ],
      "execution_count": 19,
      "outputs": [
        {
          "output_type": "execute_result",
          "data": {
            "text/plain": [
              "0     60617.857143\n",
              "1     56027.949153\n",
              "2     45965.250000\n",
              "3     45356.747191\n",
              "4     47198.815546\n",
              "5     29260.308989\n",
              "6     27371.321997\n",
              "7              NaN\n",
              "8     25503.950893\n",
              "9     24156.128067\n",
              "10             NaN\n",
              "11    19158.617486\n",
              "12    18866.594286\n",
              "13    18603.051136\n",
              "14    16812.885057\n",
              "dtype: float64"
            ]
          },
          "metadata": {
            "tags": []
          },
          "execution_count": 19
        }
      ]
    },
    {
      "cell_type": "code",
      "metadata": {
        "id": "1twBrnA-L_-z"
      },
      "source": [
        "df_new=df.apply(cm_to_brand, axis=1)"
      ],
      "execution_count": 20,
      "outputs": []
    },
    {
      "cell_type": "code",
      "metadata": {
        "id": "RhXhqTELMCr-"
      },
      "source": [
        "df_new['new']=df.apply(cm_to_brand, axis=1)"
      ],
      "execution_count": 22,
      "outputs": []
    },
    {
      "cell_type": "code",
      "metadata": {
        "id": "FxT7v8lrMDo-"
      },
      "source": [
        "df_new = df.copy()"
      ],
      "execution_count": 26,
      "outputs": []
    },
    {
      "cell_type": "code",
      "metadata": {
        "colab": {
          "base_uri": "https://localhost:8080/",
          "height": 498
        },
        "id": "awsBAnAzMJOS",
        "outputId": "b61e208c-ff6b-479e-e077-9fca6c42df44"
      },
      "source": [
        "df_new"
      ],
      "execution_count": 27,
      "outputs": [
        {
          "output_type": "execute_result",
          "data": {
            "text/html": [
              "<div>\n",
              "<style scoped>\n",
              "    .dataframe tbody tr th:only-of-type {\n",
              "        vertical-align: middle;\n",
              "    }\n",
              "\n",
              "    .dataframe tbody tr th {\n",
              "        vertical-align: top;\n",
              "    }\n",
              "\n",
              "    .dataframe thead th {\n",
              "        text-align: right;\n",
              "    }\n",
              "</style>\n",
              "<table border=\"1\" class=\"dataframe\">\n",
              "  <thead>\n",
              "    <tr style=\"text-align: right;\">\n",
              "      <th></th>\n",
              "      <th>이름</th>\n",
              "      <th>그룹</th>\n",
              "      <th>소속사</th>\n",
              "      <th>성별</th>\n",
              "      <th>생년월일</th>\n",
              "      <th>키</th>\n",
              "      <th>혈액형</th>\n",
              "      <th>브랜드평판지수</th>\n",
              "    </tr>\n",
              "  </thead>\n",
              "  <tbody>\n",
              "    <tr>\n",
              "      <th>0</th>\n",
              "      <td>지민</td>\n",
              "      <td>방탄소년단</td>\n",
              "      <td>빅히트</td>\n",
              "      <td>1</td>\n",
              "      <td>1995-10-13</td>\n",
              "      <td>173.6</td>\n",
              "      <td>A</td>\n",
              "      <td>10523260</td>\n",
              "    </tr>\n",
              "    <tr>\n",
              "      <th>1</th>\n",
              "      <td>지드래곤</td>\n",
              "      <td>빅뱅</td>\n",
              "      <td>YG</td>\n",
              "      <td>1</td>\n",
              "      <td>1988-08-18</td>\n",
              "      <td>177.0</td>\n",
              "      <td>A</td>\n",
              "      <td>9916947</td>\n",
              "    </tr>\n",
              "    <tr>\n",
              "      <th>2</th>\n",
              "      <td>강다니엘</td>\n",
              "      <td>NaN</td>\n",
              "      <td>커넥트</td>\n",
              "      <td>1</td>\n",
              "      <td>1996-12-10</td>\n",
              "      <td>180.0</td>\n",
              "      <td>A</td>\n",
              "      <td>8273745</td>\n",
              "    </tr>\n",
              "    <tr>\n",
              "      <th>3</th>\n",
              "      <td>뷔</td>\n",
              "      <td>방탄소년단</td>\n",
              "      <td>빅히트</td>\n",
              "      <td>1</td>\n",
              "      <td>1995-12-30</td>\n",
              "      <td>178.0</td>\n",
              "      <td>AB</td>\n",
              "      <td>8073501</td>\n",
              "    </tr>\n",
              "    <tr>\n",
              "      <th>4</th>\n",
              "      <td>화사</td>\n",
              "      <td>마마무</td>\n",
              "      <td>RBW</td>\n",
              "      <td>0</td>\n",
              "      <td>1995-07-23</td>\n",
              "      <td>162.1</td>\n",
              "      <td>A</td>\n",
              "      <td>7650928</td>\n",
              "    </tr>\n",
              "    <tr>\n",
              "      <th>5</th>\n",
              "      <td>정국</td>\n",
              "      <td>방탄소년단</td>\n",
              "      <td>빅히트</td>\n",
              "      <td>1</td>\n",
              "      <td>1997-09-01</td>\n",
              "      <td>178.0</td>\n",
              "      <td>A</td>\n",
              "      <td>5208335</td>\n",
              "    </tr>\n",
              "    <tr>\n",
              "      <th>6</th>\n",
              "      <td>민현</td>\n",
              "      <td>뉴이스트</td>\n",
              "      <td>플레디스</td>\n",
              "      <td>1</td>\n",
              "      <td>1995-08-09</td>\n",
              "      <td>182.3</td>\n",
              "      <td>O</td>\n",
              "      <td>4989792</td>\n",
              "    </tr>\n",
              "    <tr>\n",
              "      <th>7</th>\n",
              "      <td>소연</td>\n",
              "      <td>아이들</td>\n",
              "      <td>큐브</td>\n",
              "      <td>0</td>\n",
              "      <td>1998-08-26</td>\n",
              "      <td>NaN</td>\n",
              "      <td>B</td>\n",
              "      <td>4668615</td>\n",
              "    </tr>\n",
              "    <tr>\n",
              "      <th>8</th>\n",
              "      <td>진</td>\n",
              "      <td>방탄소년단</td>\n",
              "      <td>빅히트</td>\n",
              "      <td>1</td>\n",
              "      <td>1992-12-04</td>\n",
              "      <td>179.2</td>\n",
              "      <td>O</td>\n",
              "      <td>4570308</td>\n",
              "    </tr>\n",
              "    <tr>\n",
              "      <th>9</th>\n",
              "      <td>하성운</td>\n",
              "      <td>핫샷</td>\n",
              "      <td>스타크루이엔티</td>\n",
              "      <td>1</td>\n",
              "      <td>1994-03-22</td>\n",
              "      <td>167.1</td>\n",
              "      <td>A</td>\n",
              "      <td>4036489</td>\n",
              "    </tr>\n",
              "    <tr>\n",
              "      <th>10</th>\n",
              "      <td>태연</td>\n",
              "      <td>소녀시대</td>\n",
              "      <td>SM</td>\n",
              "      <td>0</td>\n",
              "      <td>1989-03-09</td>\n",
              "      <td>NaN</td>\n",
              "      <td>A</td>\n",
              "      <td>3918661</td>\n",
              "    </tr>\n",
              "    <tr>\n",
              "      <th>11</th>\n",
              "      <td>차은우</td>\n",
              "      <td>아스트로</td>\n",
              "      <td>판타지오</td>\n",
              "      <td>1</td>\n",
              "      <td>1997-03-30</td>\n",
              "      <td>183.0</td>\n",
              "      <td>B</td>\n",
              "      <td>3506027</td>\n",
              "    </tr>\n",
              "    <tr>\n",
              "      <th>12</th>\n",
              "      <td>백호</td>\n",
              "      <td>뉴이스트</td>\n",
              "      <td>플레디스</td>\n",
              "      <td>1</td>\n",
              "      <td>1995-07-21</td>\n",
              "      <td>175.0</td>\n",
              "      <td>AB</td>\n",
              "      <td>3301654</td>\n",
              "    </tr>\n",
              "    <tr>\n",
              "      <th>13</th>\n",
              "      <td>JR</td>\n",
              "      <td>뉴이스트</td>\n",
              "      <td>플레디스</td>\n",
              "      <td>1</td>\n",
              "      <td>1995-06-08</td>\n",
              "      <td>176.0</td>\n",
              "      <td>O</td>\n",
              "      <td>3274137</td>\n",
              "    </tr>\n",
              "    <tr>\n",
              "      <th>14</th>\n",
              "      <td>슈가</td>\n",
              "      <td>방탄소년단</td>\n",
              "      <td>빅히트</td>\n",
              "      <td>1</td>\n",
              "      <td>1993-03-09</td>\n",
              "      <td>174.0</td>\n",
              "      <td>O</td>\n",
              "      <td>2925442</td>\n",
              "    </tr>\n",
              "  </tbody>\n",
              "</table>\n",
              "</div>"
            ],
            "text/plain": [
              "      이름     그룹      소속사  성별        생년월일      키 혈액형   브랜드평판지수\n",
              "0     지민  방탄소년단      빅히트   1  1995-10-13  173.6   A  10523260\n",
              "1   지드래곤     빅뱅       YG   1  1988-08-18  177.0   A   9916947\n",
              "2   강다니엘    NaN      커넥트   1  1996-12-10  180.0   A   8273745\n",
              "3      뷔  방탄소년단      빅히트   1  1995-12-30  178.0  AB   8073501\n",
              "4     화사    마마무      RBW   0  1995-07-23  162.1   A   7650928\n",
              "5     정국  방탄소년단      빅히트   1  1997-09-01  178.0   A   5208335\n",
              "6     민현   뉴이스트     플레디스   1  1995-08-09  182.3   O   4989792\n",
              "7     소연    아이들       큐브   0  1998-08-26    NaN   B   4668615\n",
              "8      진  방탄소년단      빅히트   1  1992-12-04  179.2   O   4570308\n",
              "9    하성운     핫샷  스타크루이엔티   1  1994-03-22  167.1   A   4036489\n",
              "10    태연   소녀시대       SM   0  1989-03-09    NaN   A   3918661\n",
              "11   차은우   아스트로     판타지오   1  1997-03-30  183.0   B   3506027\n",
              "12    백호   뉴이스트     플레디스   1  1995-07-21  175.0  AB   3301654\n",
              "13    JR   뉴이스트     플레디스   1  1995-06-08  176.0   O   3274137\n",
              "14    슈가  방탄소년단      빅히트   1  1993-03-09  174.0   O   2925442"
            ]
          },
          "metadata": {
            "tags": []
          },
          "execution_count": 27
        }
      ]
    },
    {
      "cell_type": "code",
      "metadata": {
        "id": "JFgQ3JunMRhF"
      },
      "source": [
        "df_new['추가']=df.apply(cm_to_brand, axis=1)"
      ],
      "execution_count": 28,
      "outputs": []
    },
    {
      "cell_type": "code",
      "metadata": {
        "colab": {
          "base_uri": "https://localhost:8080/",
          "height": 498
        },
        "id": "ZtpPj4tBMVNu",
        "outputId": "1d889240-4208-4fa5-ca04-49757faa448d"
      },
      "source": [
        "df_new"
      ],
      "execution_count": 29,
      "outputs": [
        {
          "output_type": "execute_result",
          "data": {
            "text/html": [
              "<div>\n",
              "<style scoped>\n",
              "    .dataframe tbody tr th:only-of-type {\n",
              "        vertical-align: middle;\n",
              "    }\n",
              "\n",
              "    .dataframe tbody tr th {\n",
              "        vertical-align: top;\n",
              "    }\n",
              "\n",
              "    .dataframe thead th {\n",
              "        text-align: right;\n",
              "    }\n",
              "</style>\n",
              "<table border=\"1\" class=\"dataframe\">\n",
              "  <thead>\n",
              "    <tr style=\"text-align: right;\">\n",
              "      <th></th>\n",
              "      <th>이름</th>\n",
              "      <th>그룹</th>\n",
              "      <th>소속사</th>\n",
              "      <th>성별</th>\n",
              "      <th>생년월일</th>\n",
              "      <th>키</th>\n",
              "      <th>혈액형</th>\n",
              "      <th>브랜드평판지수</th>\n",
              "      <th>추가</th>\n",
              "    </tr>\n",
              "  </thead>\n",
              "  <tbody>\n",
              "    <tr>\n",
              "      <th>0</th>\n",
              "      <td>지민</td>\n",
              "      <td>방탄소년단</td>\n",
              "      <td>빅히트</td>\n",
              "      <td>1</td>\n",
              "      <td>1995-10-13</td>\n",
              "      <td>173.6</td>\n",
              "      <td>A</td>\n",
              "      <td>10523260</td>\n",
              "      <td>60617.857143</td>\n",
              "    </tr>\n",
              "    <tr>\n",
              "      <th>1</th>\n",
              "      <td>지드래곤</td>\n",
              "      <td>빅뱅</td>\n",
              "      <td>YG</td>\n",
              "      <td>1</td>\n",
              "      <td>1988-08-18</td>\n",
              "      <td>177.0</td>\n",
              "      <td>A</td>\n",
              "      <td>9916947</td>\n",
              "      <td>56027.949153</td>\n",
              "    </tr>\n",
              "    <tr>\n",
              "      <th>2</th>\n",
              "      <td>강다니엘</td>\n",
              "      <td>NaN</td>\n",
              "      <td>커넥트</td>\n",
              "      <td>1</td>\n",
              "      <td>1996-12-10</td>\n",
              "      <td>180.0</td>\n",
              "      <td>A</td>\n",
              "      <td>8273745</td>\n",
              "      <td>45965.250000</td>\n",
              "    </tr>\n",
              "    <tr>\n",
              "      <th>3</th>\n",
              "      <td>뷔</td>\n",
              "      <td>방탄소년단</td>\n",
              "      <td>빅히트</td>\n",
              "      <td>1</td>\n",
              "      <td>1995-12-30</td>\n",
              "      <td>178.0</td>\n",
              "      <td>AB</td>\n",
              "      <td>8073501</td>\n",
              "      <td>45356.747191</td>\n",
              "    </tr>\n",
              "    <tr>\n",
              "      <th>4</th>\n",
              "      <td>화사</td>\n",
              "      <td>마마무</td>\n",
              "      <td>RBW</td>\n",
              "      <td>0</td>\n",
              "      <td>1995-07-23</td>\n",
              "      <td>162.1</td>\n",
              "      <td>A</td>\n",
              "      <td>7650928</td>\n",
              "      <td>47198.815546</td>\n",
              "    </tr>\n",
              "    <tr>\n",
              "      <th>5</th>\n",
              "      <td>정국</td>\n",
              "      <td>방탄소년단</td>\n",
              "      <td>빅히트</td>\n",
              "      <td>1</td>\n",
              "      <td>1997-09-01</td>\n",
              "      <td>178.0</td>\n",
              "      <td>A</td>\n",
              "      <td>5208335</td>\n",
              "      <td>29260.308989</td>\n",
              "    </tr>\n",
              "    <tr>\n",
              "      <th>6</th>\n",
              "      <td>민현</td>\n",
              "      <td>뉴이스트</td>\n",
              "      <td>플레디스</td>\n",
              "      <td>1</td>\n",
              "      <td>1995-08-09</td>\n",
              "      <td>182.3</td>\n",
              "      <td>O</td>\n",
              "      <td>4989792</td>\n",
              "      <td>27371.321997</td>\n",
              "    </tr>\n",
              "    <tr>\n",
              "      <th>7</th>\n",
              "      <td>소연</td>\n",
              "      <td>아이들</td>\n",
              "      <td>큐브</td>\n",
              "      <td>0</td>\n",
              "      <td>1998-08-26</td>\n",
              "      <td>NaN</td>\n",
              "      <td>B</td>\n",
              "      <td>4668615</td>\n",
              "      <td>NaN</td>\n",
              "    </tr>\n",
              "    <tr>\n",
              "      <th>8</th>\n",
              "      <td>진</td>\n",
              "      <td>방탄소년단</td>\n",
              "      <td>빅히트</td>\n",
              "      <td>1</td>\n",
              "      <td>1992-12-04</td>\n",
              "      <td>179.2</td>\n",
              "      <td>O</td>\n",
              "      <td>4570308</td>\n",
              "      <td>25503.950893</td>\n",
              "    </tr>\n",
              "    <tr>\n",
              "      <th>9</th>\n",
              "      <td>하성운</td>\n",
              "      <td>핫샷</td>\n",
              "      <td>스타크루이엔티</td>\n",
              "      <td>1</td>\n",
              "      <td>1994-03-22</td>\n",
              "      <td>167.1</td>\n",
              "      <td>A</td>\n",
              "      <td>4036489</td>\n",
              "      <td>24156.128067</td>\n",
              "    </tr>\n",
              "    <tr>\n",
              "      <th>10</th>\n",
              "      <td>태연</td>\n",
              "      <td>소녀시대</td>\n",
              "      <td>SM</td>\n",
              "      <td>0</td>\n",
              "      <td>1989-03-09</td>\n",
              "      <td>NaN</td>\n",
              "      <td>A</td>\n",
              "      <td>3918661</td>\n",
              "      <td>NaN</td>\n",
              "    </tr>\n",
              "    <tr>\n",
              "      <th>11</th>\n",
              "      <td>차은우</td>\n",
              "      <td>아스트로</td>\n",
              "      <td>판타지오</td>\n",
              "      <td>1</td>\n",
              "      <td>1997-03-30</td>\n",
              "      <td>183.0</td>\n",
              "      <td>B</td>\n",
              "      <td>3506027</td>\n",
              "      <td>19158.617486</td>\n",
              "    </tr>\n",
              "    <tr>\n",
              "      <th>12</th>\n",
              "      <td>백호</td>\n",
              "      <td>뉴이스트</td>\n",
              "      <td>플레디스</td>\n",
              "      <td>1</td>\n",
              "      <td>1995-07-21</td>\n",
              "      <td>175.0</td>\n",
              "      <td>AB</td>\n",
              "      <td>3301654</td>\n",
              "      <td>18866.594286</td>\n",
              "    </tr>\n",
              "    <tr>\n",
              "      <th>13</th>\n",
              "      <td>JR</td>\n",
              "      <td>뉴이스트</td>\n",
              "      <td>플레디스</td>\n",
              "      <td>1</td>\n",
              "      <td>1995-06-08</td>\n",
              "      <td>176.0</td>\n",
              "      <td>O</td>\n",
              "      <td>3274137</td>\n",
              "      <td>18603.051136</td>\n",
              "    </tr>\n",
              "    <tr>\n",
              "      <th>14</th>\n",
              "      <td>슈가</td>\n",
              "      <td>방탄소년단</td>\n",
              "      <td>빅히트</td>\n",
              "      <td>1</td>\n",
              "      <td>1993-03-09</td>\n",
              "      <td>174.0</td>\n",
              "      <td>O</td>\n",
              "      <td>2925442</td>\n",
              "      <td>16812.885057</td>\n",
              "    </tr>\n",
              "  </tbody>\n",
              "</table>\n",
              "</div>"
            ],
            "text/plain": [
              "      이름     그룹      소속사  성별        생년월일      키 혈액형   브랜드평판지수            추가\n",
              "0     지민  방탄소년단      빅히트   1  1995-10-13  173.6   A  10523260  60617.857143\n",
              "1   지드래곤     빅뱅       YG   1  1988-08-18  177.0   A   9916947  56027.949153\n",
              "2   강다니엘    NaN      커넥트   1  1996-12-10  180.0   A   8273745  45965.250000\n",
              "3      뷔  방탄소년단      빅히트   1  1995-12-30  178.0  AB   8073501  45356.747191\n",
              "4     화사    마마무      RBW   0  1995-07-23  162.1   A   7650928  47198.815546\n",
              "5     정국  방탄소년단      빅히트   1  1997-09-01  178.0   A   5208335  29260.308989\n",
              "6     민현   뉴이스트     플레디스   1  1995-08-09  182.3   O   4989792  27371.321997\n",
              "7     소연    아이들       큐브   0  1998-08-26    NaN   B   4668615           NaN\n",
              "8      진  방탄소년단      빅히트   1  1992-12-04  179.2   O   4570308  25503.950893\n",
              "9    하성운     핫샷  스타크루이엔티   1  1994-03-22  167.1   A   4036489  24156.128067\n",
              "10    태연   소녀시대       SM   0  1989-03-09    NaN   A   3918661           NaN\n",
              "11   차은우   아스트로     판타지오   1  1997-03-30  183.0   B   3506027  19158.617486\n",
              "12    백호   뉴이스트     플레디스   1  1995-07-21  175.0  AB   3301654  18866.594286\n",
              "13    JR   뉴이스트     플레디스   1  1995-06-08  176.0   O   3274137  18603.051136\n",
              "14    슈가  방탄소년단      빅히트   1  1993-03-09  174.0   O   2925442  16812.885057"
            ]
          },
          "metadata": {
            "tags": []
          },
          "execution_count": 29
        }
      ]
    },
    {
      "cell_type": "code",
      "metadata": {
        "id": "cP4My9SBMWTf"
      },
      "source": [
        " df = pd.read_csv('http://bit.ly/ds-korean-idol')"
      ],
      "execution_count": 34,
      "outputs": []
    },
    {
      "cell_type": "code",
      "metadata": {
        "id": "Ia_fP2wHPVEC"
      },
      "source": [
        "f = lambda x : 1 if x == '남자' else 0"
      ],
      "execution_count": 35,
      "outputs": []
    },
    {
      "cell_type": "code",
      "metadata": {
        "id": "fu15PBNQPhtd"
      },
      "source": [
        "df['성별']=df['성별'].apply(f)"
      ],
      "execution_count": 38,
      "outputs": []
    },
    {
      "cell_type": "code",
      "metadata": {
        "colab": {
          "base_uri": "https://localhost:8080/",
          "height": 498
        },
        "id": "J6vCvXGVPnYi",
        "outputId": "dcc487c7-126b-4aa4-a2f3-8905ce7e08e1"
      },
      "source": [
        "df"
      ],
      "execution_count": 39,
      "outputs": [
        {
          "output_type": "execute_result",
          "data": {
            "text/html": [
              "<div>\n",
              "<style scoped>\n",
              "    .dataframe tbody tr th:only-of-type {\n",
              "        vertical-align: middle;\n",
              "    }\n",
              "\n",
              "    .dataframe tbody tr th {\n",
              "        vertical-align: top;\n",
              "    }\n",
              "\n",
              "    .dataframe thead th {\n",
              "        text-align: right;\n",
              "    }\n",
              "</style>\n",
              "<table border=\"1\" class=\"dataframe\">\n",
              "  <thead>\n",
              "    <tr style=\"text-align: right;\">\n",
              "      <th></th>\n",
              "      <th>이름</th>\n",
              "      <th>그룹</th>\n",
              "      <th>소속사</th>\n",
              "      <th>성별</th>\n",
              "      <th>생년월일</th>\n",
              "      <th>키</th>\n",
              "      <th>혈액형</th>\n",
              "      <th>브랜드평판지수</th>\n",
              "    </tr>\n",
              "  </thead>\n",
              "  <tbody>\n",
              "    <tr>\n",
              "      <th>0</th>\n",
              "      <td>지민</td>\n",
              "      <td>방탄소년단</td>\n",
              "      <td>빅히트</td>\n",
              "      <td>1</td>\n",
              "      <td>1995-10-13</td>\n",
              "      <td>173.6</td>\n",
              "      <td>A</td>\n",
              "      <td>10523260</td>\n",
              "    </tr>\n",
              "    <tr>\n",
              "      <th>1</th>\n",
              "      <td>지드래곤</td>\n",
              "      <td>빅뱅</td>\n",
              "      <td>YG</td>\n",
              "      <td>1</td>\n",
              "      <td>1988-08-18</td>\n",
              "      <td>177.0</td>\n",
              "      <td>A</td>\n",
              "      <td>9916947</td>\n",
              "    </tr>\n",
              "    <tr>\n",
              "      <th>2</th>\n",
              "      <td>강다니엘</td>\n",
              "      <td>NaN</td>\n",
              "      <td>커넥트</td>\n",
              "      <td>1</td>\n",
              "      <td>1996-12-10</td>\n",
              "      <td>180.0</td>\n",
              "      <td>A</td>\n",
              "      <td>8273745</td>\n",
              "    </tr>\n",
              "    <tr>\n",
              "      <th>3</th>\n",
              "      <td>뷔</td>\n",
              "      <td>방탄소년단</td>\n",
              "      <td>빅히트</td>\n",
              "      <td>1</td>\n",
              "      <td>1995-12-30</td>\n",
              "      <td>178.0</td>\n",
              "      <td>AB</td>\n",
              "      <td>8073501</td>\n",
              "    </tr>\n",
              "    <tr>\n",
              "      <th>4</th>\n",
              "      <td>화사</td>\n",
              "      <td>마마무</td>\n",
              "      <td>RBW</td>\n",
              "      <td>0</td>\n",
              "      <td>1995-07-23</td>\n",
              "      <td>162.1</td>\n",
              "      <td>A</td>\n",
              "      <td>7650928</td>\n",
              "    </tr>\n",
              "    <tr>\n",
              "      <th>5</th>\n",
              "      <td>정국</td>\n",
              "      <td>방탄소년단</td>\n",
              "      <td>빅히트</td>\n",
              "      <td>1</td>\n",
              "      <td>1997-09-01</td>\n",
              "      <td>178.0</td>\n",
              "      <td>A</td>\n",
              "      <td>5208335</td>\n",
              "    </tr>\n",
              "    <tr>\n",
              "      <th>6</th>\n",
              "      <td>민현</td>\n",
              "      <td>뉴이스트</td>\n",
              "      <td>플레디스</td>\n",
              "      <td>1</td>\n",
              "      <td>1995-08-09</td>\n",
              "      <td>182.3</td>\n",
              "      <td>O</td>\n",
              "      <td>4989792</td>\n",
              "    </tr>\n",
              "    <tr>\n",
              "      <th>7</th>\n",
              "      <td>소연</td>\n",
              "      <td>아이들</td>\n",
              "      <td>큐브</td>\n",
              "      <td>0</td>\n",
              "      <td>1998-08-26</td>\n",
              "      <td>NaN</td>\n",
              "      <td>B</td>\n",
              "      <td>4668615</td>\n",
              "    </tr>\n",
              "    <tr>\n",
              "      <th>8</th>\n",
              "      <td>진</td>\n",
              "      <td>방탄소년단</td>\n",
              "      <td>빅히트</td>\n",
              "      <td>1</td>\n",
              "      <td>1992-12-04</td>\n",
              "      <td>179.2</td>\n",
              "      <td>O</td>\n",
              "      <td>4570308</td>\n",
              "    </tr>\n",
              "    <tr>\n",
              "      <th>9</th>\n",
              "      <td>하성운</td>\n",
              "      <td>핫샷</td>\n",
              "      <td>스타크루이엔티</td>\n",
              "      <td>1</td>\n",
              "      <td>1994-03-22</td>\n",
              "      <td>167.1</td>\n",
              "      <td>A</td>\n",
              "      <td>4036489</td>\n",
              "    </tr>\n",
              "    <tr>\n",
              "      <th>10</th>\n",
              "      <td>태연</td>\n",
              "      <td>소녀시대</td>\n",
              "      <td>SM</td>\n",
              "      <td>0</td>\n",
              "      <td>1989-03-09</td>\n",
              "      <td>NaN</td>\n",
              "      <td>A</td>\n",
              "      <td>3918661</td>\n",
              "    </tr>\n",
              "    <tr>\n",
              "      <th>11</th>\n",
              "      <td>차은우</td>\n",
              "      <td>아스트로</td>\n",
              "      <td>판타지오</td>\n",
              "      <td>1</td>\n",
              "      <td>1997-03-30</td>\n",
              "      <td>183.0</td>\n",
              "      <td>B</td>\n",
              "      <td>3506027</td>\n",
              "    </tr>\n",
              "    <tr>\n",
              "      <th>12</th>\n",
              "      <td>백호</td>\n",
              "      <td>뉴이스트</td>\n",
              "      <td>플레디스</td>\n",
              "      <td>1</td>\n",
              "      <td>1995-07-21</td>\n",
              "      <td>175.0</td>\n",
              "      <td>AB</td>\n",
              "      <td>3301654</td>\n",
              "    </tr>\n",
              "    <tr>\n",
              "      <th>13</th>\n",
              "      <td>JR</td>\n",
              "      <td>뉴이스트</td>\n",
              "      <td>플레디스</td>\n",
              "      <td>1</td>\n",
              "      <td>1995-06-08</td>\n",
              "      <td>176.0</td>\n",
              "      <td>O</td>\n",
              "      <td>3274137</td>\n",
              "    </tr>\n",
              "    <tr>\n",
              "      <th>14</th>\n",
              "      <td>슈가</td>\n",
              "      <td>방탄소년단</td>\n",
              "      <td>빅히트</td>\n",
              "      <td>1</td>\n",
              "      <td>1993-03-09</td>\n",
              "      <td>174.0</td>\n",
              "      <td>O</td>\n",
              "      <td>2925442</td>\n",
              "    </tr>\n",
              "  </tbody>\n",
              "</table>\n",
              "</div>"
            ],
            "text/plain": [
              "      이름     그룹      소속사  성별        생년월일      키 혈액형   브랜드평판지수\n",
              "0     지민  방탄소년단      빅히트   1  1995-10-13  173.6   A  10523260\n",
              "1   지드래곤     빅뱅       YG   1  1988-08-18  177.0   A   9916947\n",
              "2   강다니엘    NaN      커넥트   1  1996-12-10  180.0   A   8273745\n",
              "3      뷔  방탄소년단      빅히트   1  1995-12-30  178.0  AB   8073501\n",
              "4     화사    마마무      RBW   0  1995-07-23  162.1   A   7650928\n",
              "5     정국  방탄소년단      빅히트   1  1997-09-01  178.0   A   5208335\n",
              "6     민현   뉴이스트     플레디스   1  1995-08-09  182.3   O   4989792\n",
              "7     소연    아이들       큐브   0  1998-08-26    NaN   B   4668615\n",
              "8      진  방탄소년단      빅히트   1  1992-12-04  179.2   O   4570308\n",
              "9    하성운     핫샷  스타크루이엔티   1  1994-03-22  167.1   A   4036489\n",
              "10    태연   소녀시대       SM   0  1989-03-09    NaN   A   3918661\n",
              "11   차은우   아스트로     판타지오   1  1997-03-30  183.0   B   3506027\n",
              "12    백호   뉴이스트     플레디스   1  1995-07-21  175.0  AB   3301654\n",
              "13    JR   뉴이스트     플레디스   1  1995-06-08  176.0   O   3274137\n",
              "14    슈가  방탄소년단      빅히트   1  1993-03-09  174.0   O   2925442"
            ]
          },
          "metadata": {
            "tags": []
          },
          "execution_count": 39
        }
      ]
    },
    {
      "cell_type": "code",
      "metadata": {
        "id": "GRJ06noePyps"
      },
      "source": [
        "df['키/2'] = df['키'].apply(lambda x: x/2)"
      ],
      "execution_count": 48,
      "outputs": []
    },
    {
      "cell_type": "code",
      "metadata": {
        "colab": {
          "base_uri": "https://localhost:8080/",
          "height": 498
        },
        "id": "LB39cakSQQcf",
        "outputId": "76604f84-ea46-4be8-ddf7-a0b44f4f3b9e"
      },
      "source": [
        "df"
      ],
      "execution_count": 49,
      "outputs": [
        {
          "output_type": "execute_result",
          "data": {
            "text/html": [
              "<div>\n",
              "<style scoped>\n",
              "    .dataframe tbody tr th:only-of-type {\n",
              "        vertical-align: middle;\n",
              "    }\n",
              "\n",
              "    .dataframe tbody tr th {\n",
              "        vertical-align: top;\n",
              "    }\n",
              "\n",
              "    .dataframe thead th {\n",
              "        text-align: right;\n",
              "    }\n",
              "</style>\n",
              "<table border=\"1\" class=\"dataframe\">\n",
              "  <thead>\n",
              "    <tr style=\"text-align: right;\">\n",
              "      <th></th>\n",
              "      <th>이름</th>\n",
              "      <th>그룹</th>\n",
              "      <th>소속사</th>\n",
              "      <th>성별</th>\n",
              "      <th>생년월일</th>\n",
              "      <th>키</th>\n",
              "      <th>혈액형</th>\n",
              "      <th>브랜드평판지수</th>\n",
              "      <th>키/2</th>\n",
              "    </tr>\n",
              "  </thead>\n",
              "  <tbody>\n",
              "    <tr>\n",
              "      <th>0</th>\n",
              "      <td>지민</td>\n",
              "      <td>방탄소년단</td>\n",
              "      <td>빅히트</td>\n",
              "      <td>1</td>\n",
              "      <td>1995-10-13</td>\n",
              "      <td>173.6</td>\n",
              "      <td>A</td>\n",
              "      <td>10523260</td>\n",
              "      <td>86.80</td>\n",
              "    </tr>\n",
              "    <tr>\n",
              "      <th>1</th>\n",
              "      <td>지드래곤</td>\n",
              "      <td>빅뱅</td>\n",
              "      <td>YG</td>\n",
              "      <td>1</td>\n",
              "      <td>1988-08-18</td>\n",
              "      <td>177.0</td>\n",
              "      <td>A</td>\n",
              "      <td>9916947</td>\n",
              "      <td>88.50</td>\n",
              "    </tr>\n",
              "    <tr>\n",
              "      <th>2</th>\n",
              "      <td>강다니엘</td>\n",
              "      <td>NaN</td>\n",
              "      <td>커넥트</td>\n",
              "      <td>1</td>\n",
              "      <td>1996-12-10</td>\n",
              "      <td>180.0</td>\n",
              "      <td>A</td>\n",
              "      <td>8273745</td>\n",
              "      <td>90.00</td>\n",
              "    </tr>\n",
              "    <tr>\n",
              "      <th>3</th>\n",
              "      <td>뷔</td>\n",
              "      <td>방탄소년단</td>\n",
              "      <td>빅히트</td>\n",
              "      <td>1</td>\n",
              "      <td>1995-12-30</td>\n",
              "      <td>178.0</td>\n",
              "      <td>AB</td>\n",
              "      <td>8073501</td>\n",
              "      <td>89.00</td>\n",
              "    </tr>\n",
              "    <tr>\n",
              "      <th>4</th>\n",
              "      <td>화사</td>\n",
              "      <td>마마무</td>\n",
              "      <td>RBW</td>\n",
              "      <td>0</td>\n",
              "      <td>1995-07-23</td>\n",
              "      <td>162.1</td>\n",
              "      <td>A</td>\n",
              "      <td>7650928</td>\n",
              "      <td>81.05</td>\n",
              "    </tr>\n",
              "    <tr>\n",
              "      <th>5</th>\n",
              "      <td>정국</td>\n",
              "      <td>방탄소년단</td>\n",
              "      <td>빅히트</td>\n",
              "      <td>1</td>\n",
              "      <td>1997-09-01</td>\n",
              "      <td>178.0</td>\n",
              "      <td>A</td>\n",
              "      <td>5208335</td>\n",
              "      <td>89.00</td>\n",
              "    </tr>\n",
              "    <tr>\n",
              "      <th>6</th>\n",
              "      <td>민현</td>\n",
              "      <td>뉴이스트</td>\n",
              "      <td>플레디스</td>\n",
              "      <td>1</td>\n",
              "      <td>1995-08-09</td>\n",
              "      <td>182.3</td>\n",
              "      <td>O</td>\n",
              "      <td>4989792</td>\n",
              "      <td>91.15</td>\n",
              "    </tr>\n",
              "    <tr>\n",
              "      <th>7</th>\n",
              "      <td>소연</td>\n",
              "      <td>아이들</td>\n",
              "      <td>큐브</td>\n",
              "      <td>0</td>\n",
              "      <td>1998-08-26</td>\n",
              "      <td>NaN</td>\n",
              "      <td>B</td>\n",
              "      <td>4668615</td>\n",
              "      <td>NaN</td>\n",
              "    </tr>\n",
              "    <tr>\n",
              "      <th>8</th>\n",
              "      <td>진</td>\n",
              "      <td>방탄소년단</td>\n",
              "      <td>빅히트</td>\n",
              "      <td>1</td>\n",
              "      <td>1992-12-04</td>\n",
              "      <td>179.2</td>\n",
              "      <td>O</td>\n",
              "      <td>4570308</td>\n",
              "      <td>89.60</td>\n",
              "    </tr>\n",
              "    <tr>\n",
              "      <th>9</th>\n",
              "      <td>하성운</td>\n",
              "      <td>핫샷</td>\n",
              "      <td>스타크루이엔티</td>\n",
              "      <td>1</td>\n",
              "      <td>1994-03-22</td>\n",
              "      <td>167.1</td>\n",
              "      <td>A</td>\n",
              "      <td>4036489</td>\n",
              "      <td>83.55</td>\n",
              "    </tr>\n",
              "    <tr>\n",
              "      <th>10</th>\n",
              "      <td>태연</td>\n",
              "      <td>소녀시대</td>\n",
              "      <td>SM</td>\n",
              "      <td>0</td>\n",
              "      <td>1989-03-09</td>\n",
              "      <td>NaN</td>\n",
              "      <td>A</td>\n",
              "      <td>3918661</td>\n",
              "      <td>NaN</td>\n",
              "    </tr>\n",
              "    <tr>\n",
              "      <th>11</th>\n",
              "      <td>차은우</td>\n",
              "      <td>아스트로</td>\n",
              "      <td>판타지오</td>\n",
              "      <td>1</td>\n",
              "      <td>1997-03-30</td>\n",
              "      <td>183.0</td>\n",
              "      <td>B</td>\n",
              "      <td>3506027</td>\n",
              "      <td>91.50</td>\n",
              "    </tr>\n",
              "    <tr>\n",
              "      <th>12</th>\n",
              "      <td>백호</td>\n",
              "      <td>뉴이스트</td>\n",
              "      <td>플레디스</td>\n",
              "      <td>1</td>\n",
              "      <td>1995-07-21</td>\n",
              "      <td>175.0</td>\n",
              "      <td>AB</td>\n",
              "      <td>3301654</td>\n",
              "      <td>87.50</td>\n",
              "    </tr>\n",
              "    <tr>\n",
              "      <th>13</th>\n",
              "      <td>JR</td>\n",
              "      <td>뉴이스트</td>\n",
              "      <td>플레디스</td>\n",
              "      <td>1</td>\n",
              "      <td>1995-06-08</td>\n",
              "      <td>176.0</td>\n",
              "      <td>O</td>\n",
              "      <td>3274137</td>\n",
              "      <td>88.00</td>\n",
              "    </tr>\n",
              "    <tr>\n",
              "      <th>14</th>\n",
              "      <td>슈가</td>\n",
              "      <td>방탄소년단</td>\n",
              "      <td>빅히트</td>\n",
              "      <td>1</td>\n",
              "      <td>1993-03-09</td>\n",
              "      <td>174.0</td>\n",
              "      <td>O</td>\n",
              "      <td>2925442</td>\n",
              "      <td>87.00</td>\n",
              "    </tr>\n",
              "  </tbody>\n",
              "</table>\n",
              "</div>"
            ],
            "text/plain": [
              "      이름     그룹      소속사  성별        생년월일      키 혈액형   브랜드평판지수    키/2\n",
              "0     지민  방탄소년단      빅히트   1  1995-10-13  173.6   A  10523260  86.80\n",
              "1   지드래곤     빅뱅       YG   1  1988-08-18  177.0   A   9916947  88.50\n",
              "2   강다니엘    NaN      커넥트   1  1996-12-10  180.0   A   8273745  90.00\n",
              "3      뷔  방탄소년단      빅히트   1  1995-12-30  178.0  AB   8073501  89.00\n",
              "4     화사    마마무      RBW   0  1995-07-23  162.1   A   7650928  81.05\n",
              "5     정국  방탄소년단      빅히트   1  1997-09-01  178.0   A   5208335  89.00\n",
              "6     민현   뉴이스트     플레디스   1  1995-08-09  182.3   O   4989792  91.15\n",
              "7     소연    아이들       큐브   0  1998-08-26    NaN   B   4668615    NaN\n",
              "8      진  방탄소년단      빅히트   1  1992-12-04  179.2   O   4570308  89.60\n",
              "9    하성운     핫샷  스타크루이엔티   1  1994-03-22  167.1   A   4036489  83.55\n",
              "10    태연   소녀시대       SM   0  1989-03-09    NaN   A   3918661    NaN\n",
              "11   차은우   아스트로     판타지오   1  1997-03-30  183.0   B   3506027  91.50\n",
              "12    백호   뉴이스트     플레디스   1  1995-07-21  175.0  AB   3301654  87.50\n",
              "13    JR   뉴이스트     플레디스   1  1995-06-08  176.0   O   3274137  88.00\n",
              "14    슈가  방탄소년단      빅히트   1  1993-03-09  174.0   O   2925442  87.00"
            ]
          },
          "metadata": {
            "tags": []
          },
          "execution_count": 49
        }
      ]
    },
    {
      "cell_type": "code",
      "metadata": {
        "id": "0FRBom44Qh2U"
      },
      "source": [
        "my_map = {\r\n",
        "\r\n",
        "    '남자' : 1,\r\n",
        "    '여자' : 0\r\n",
        "\r\n",
        "}"
      ],
      "execution_count": 50,
      "outputs": []
    },
    {
      "cell_type": "code",
      "metadata": {
        "colab": {
          "base_uri": "https://localhost:8080/",
          "height": 498
        },
        "id": "XxUVRr2kQx_n",
        "outputId": "fb438dcb-5f94-4cc9-9005-49b210bf5f15"
      },
      "source": [
        "df"
      ],
      "execution_count": 51,
      "outputs": [
        {
          "output_type": "execute_result",
          "data": {
            "text/html": [
              "<div>\n",
              "<style scoped>\n",
              "    .dataframe tbody tr th:only-of-type {\n",
              "        vertical-align: middle;\n",
              "    }\n",
              "\n",
              "    .dataframe tbody tr th {\n",
              "        vertical-align: top;\n",
              "    }\n",
              "\n",
              "    .dataframe thead th {\n",
              "        text-align: right;\n",
              "    }\n",
              "</style>\n",
              "<table border=\"1\" class=\"dataframe\">\n",
              "  <thead>\n",
              "    <tr style=\"text-align: right;\">\n",
              "      <th></th>\n",
              "      <th>이름</th>\n",
              "      <th>그룹</th>\n",
              "      <th>소속사</th>\n",
              "      <th>성별</th>\n",
              "      <th>생년월일</th>\n",
              "      <th>키</th>\n",
              "      <th>혈액형</th>\n",
              "      <th>브랜드평판지수</th>\n",
              "      <th>키/2</th>\n",
              "    </tr>\n",
              "  </thead>\n",
              "  <tbody>\n",
              "    <tr>\n",
              "      <th>0</th>\n",
              "      <td>지민</td>\n",
              "      <td>방탄소년단</td>\n",
              "      <td>빅히트</td>\n",
              "      <td>1</td>\n",
              "      <td>1995-10-13</td>\n",
              "      <td>173.6</td>\n",
              "      <td>A</td>\n",
              "      <td>10523260</td>\n",
              "      <td>86.80</td>\n",
              "    </tr>\n",
              "    <tr>\n",
              "      <th>1</th>\n",
              "      <td>지드래곤</td>\n",
              "      <td>빅뱅</td>\n",
              "      <td>YG</td>\n",
              "      <td>1</td>\n",
              "      <td>1988-08-18</td>\n",
              "      <td>177.0</td>\n",
              "      <td>A</td>\n",
              "      <td>9916947</td>\n",
              "      <td>88.50</td>\n",
              "    </tr>\n",
              "    <tr>\n",
              "      <th>2</th>\n",
              "      <td>강다니엘</td>\n",
              "      <td>NaN</td>\n",
              "      <td>커넥트</td>\n",
              "      <td>1</td>\n",
              "      <td>1996-12-10</td>\n",
              "      <td>180.0</td>\n",
              "      <td>A</td>\n",
              "      <td>8273745</td>\n",
              "      <td>90.00</td>\n",
              "    </tr>\n",
              "    <tr>\n",
              "      <th>3</th>\n",
              "      <td>뷔</td>\n",
              "      <td>방탄소년단</td>\n",
              "      <td>빅히트</td>\n",
              "      <td>1</td>\n",
              "      <td>1995-12-30</td>\n",
              "      <td>178.0</td>\n",
              "      <td>AB</td>\n",
              "      <td>8073501</td>\n",
              "      <td>89.00</td>\n",
              "    </tr>\n",
              "    <tr>\n",
              "      <th>4</th>\n",
              "      <td>화사</td>\n",
              "      <td>마마무</td>\n",
              "      <td>RBW</td>\n",
              "      <td>0</td>\n",
              "      <td>1995-07-23</td>\n",
              "      <td>162.1</td>\n",
              "      <td>A</td>\n",
              "      <td>7650928</td>\n",
              "      <td>81.05</td>\n",
              "    </tr>\n",
              "    <tr>\n",
              "      <th>5</th>\n",
              "      <td>정국</td>\n",
              "      <td>방탄소년단</td>\n",
              "      <td>빅히트</td>\n",
              "      <td>1</td>\n",
              "      <td>1997-09-01</td>\n",
              "      <td>178.0</td>\n",
              "      <td>A</td>\n",
              "      <td>5208335</td>\n",
              "      <td>89.00</td>\n",
              "    </tr>\n",
              "    <tr>\n",
              "      <th>6</th>\n",
              "      <td>민현</td>\n",
              "      <td>뉴이스트</td>\n",
              "      <td>플레디스</td>\n",
              "      <td>1</td>\n",
              "      <td>1995-08-09</td>\n",
              "      <td>182.3</td>\n",
              "      <td>O</td>\n",
              "      <td>4989792</td>\n",
              "      <td>91.15</td>\n",
              "    </tr>\n",
              "    <tr>\n",
              "      <th>7</th>\n",
              "      <td>소연</td>\n",
              "      <td>아이들</td>\n",
              "      <td>큐브</td>\n",
              "      <td>0</td>\n",
              "      <td>1998-08-26</td>\n",
              "      <td>NaN</td>\n",
              "      <td>B</td>\n",
              "      <td>4668615</td>\n",
              "      <td>NaN</td>\n",
              "    </tr>\n",
              "    <tr>\n",
              "      <th>8</th>\n",
              "      <td>진</td>\n",
              "      <td>방탄소년단</td>\n",
              "      <td>빅히트</td>\n",
              "      <td>1</td>\n",
              "      <td>1992-12-04</td>\n",
              "      <td>179.2</td>\n",
              "      <td>O</td>\n",
              "      <td>4570308</td>\n",
              "      <td>89.60</td>\n",
              "    </tr>\n",
              "    <tr>\n",
              "      <th>9</th>\n",
              "      <td>하성운</td>\n",
              "      <td>핫샷</td>\n",
              "      <td>스타크루이엔티</td>\n",
              "      <td>1</td>\n",
              "      <td>1994-03-22</td>\n",
              "      <td>167.1</td>\n",
              "      <td>A</td>\n",
              "      <td>4036489</td>\n",
              "      <td>83.55</td>\n",
              "    </tr>\n",
              "    <tr>\n",
              "      <th>10</th>\n",
              "      <td>태연</td>\n",
              "      <td>소녀시대</td>\n",
              "      <td>SM</td>\n",
              "      <td>0</td>\n",
              "      <td>1989-03-09</td>\n",
              "      <td>NaN</td>\n",
              "      <td>A</td>\n",
              "      <td>3918661</td>\n",
              "      <td>NaN</td>\n",
              "    </tr>\n",
              "    <tr>\n",
              "      <th>11</th>\n",
              "      <td>차은우</td>\n",
              "      <td>아스트로</td>\n",
              "      <td>판타지오</td>\n",
              "      <td>1</td>\n",
              "      <td>1997-03-30</td>\n",
              "      <td>183.0</td>\n",
              "      <td>B</td>\n",
              "      <td>3506027</td>\n",
              "      <td>91.50</td>\n",
              "    </tr>\n",
              "    <tr>\n",
              "      <th>12</th>\n",
              "      <td>백호</td>\n",
              "      <td>뉴이스트</td>\n",
              "      <td>플레디스</td>\n",
              "      <td>1</td>\n",
              "      <td>1995-07-21</td>\n",
              "      <td>175.0</td>\n",
              "      <td>AB</td>\n",
              "      <td>3301654</td>\n",
              "      <td>87.50</td>\n",
              "    </tr>\n",
              "    <tr>\n",
              "      <th>13</th>\n",
              "      <td>JR</td>\n",
              "      <td>뉴이스트</td>\n",
              "      <td>플레디스</td>\n",
              "      <td>1</td>\n",
              "      <td>1995-06-08</td>\n",
              "      <td>176.0</td>\n",
              "      <td>O</td>\n",
              "      <td>3274137</td>\n",
              "      <td>88.00</td>\n",
              "    </tr>\n",
              "    <tr>\n",
              "      <th>14</th>\n",
              "      <td>슈가</td>\n",
              "      <td>방탄소년단</td>\n",
              "      <td>빅히트</td>\n",
              "      <td>1</td>\n",
              "      <td>1993-03-09</td>\n",
              "      <td>174.0</td>\n",
              "      <td>O</td>\n",
              "      <td>2925442</td>\n",
              "      <td>87.00</td>\n",
              "    </tr>\n",
              "  </tbody>\n",
              "</table>\n",
              "</div>"
            ],
            "text/plain": [
              "      이름     그룹      소속사  성별        생년월일      키 혈액형   브랜드평판지수    키/2\n",
              "0     지민  방탄소년단      빅히트   1  1995-10-13  173.6   A  10523260  86.80\n",
              "1   지드래곤     빅뱅       YG   1  1988-08-18  177.0   A   9916947  88.50\n",
              "2   강다니엘    NaN      커넥트   1  1996-12-10  180.0   A   8273745  90.00\n",
              "3      뷔  방탄소년단      빅히트   1  1995-12-30  178.0  AB   8073501  89.00\n",
              "4     화사    마마무      RBW   0  1995-07-23  162.1   A   7650928  81.05\n",
              "5     정국  방탄소년단      빅히트   1  1997-09-01  178.0   A   5208335  89.00\n",
              "6     민현   뉴이스트     플레디스   1  1995-08-09  182.3   O   4989792  91.15\n",
              "7     소연    아이들       큐브   0  1998-08-26    NaN   B   4668615    NaN\n",
              "8      진  방탄소년단      빅히트   1  1992-12-04  179.2   O   4570308  89.60\n",
              "9    하성운     핫샷  스타크루이엔티   1  1994-03-22  167.1   A   4036489  83.55\n",
              "10    태연   소녀시대       SM   0  1989-03-09    NaN   A   3918661    NaN\n",
              "11   차은우   아스트로     판타지오   1  1997-03-30  183.0   B   3506027  91.50\n",
              "12    백호   뉴이스트     플레디스   1  1995-07-21  175.0  AB   3301654  87.50\n",
              "13    JR   뉴이스트     플레디스   1  1995-06-08  176.0   O   3274137  88.00\n",
              "14    슈가  방탄소년단      빅히트   1  1993-03-09  174.0   O   2925442  87.00"
            ]
          },
          "metadata": {
            "tags": []
          },
          "execution_count": 51
        }
      ]
    },
    {
      "cell_type": "code",
      "metadata": {
        "id": "XQF-O-9tQ5at"
      },
      "source": [
        " df = pd.read_csv('http://bit.ly/ds-korean-idol')"
      ],
      "execution_count": 52,
      "outputs": []
    },
    {
      "cell_type": "code",
      "metadata": {
        "colab": {
          "base_uri": "https://localhost:8080/",
          "height": 498
        },
        "id": "vTrIB6CNQ9dI",
        "outputId": "3877202b-d46d-4be3-d9ca-a98ce088a69a"
      },
      "source": [
        "df"
      ],
      "execution_count": 53,
      "outputs": [
        {
          "output_type": "execute_result",
          "data": {
            "text/html": [
              "<div>\n",
              "<style scoped>\n",
              "    .dataframe tbody tr th:only-of-type {\n",
              "        vertical-align: middle;\n",
              "    }\n",
              "\n",
              "    .dataframe tbody tr th {\n",
              "        vertical-align: top;\n",
              "    }\n",
              "\n",
              "    .dataframe thead th {\n",
              "        text-align: right;\n",
              "    }\n",
              "</style>\n",
              "<table border=\"1\" class=\"dataframe\">\n",
              "  <thead>\n",
              "    <tr style=\"text-align: right;\">\n",
              "      <th></th>\n",
              "      <th>이름</th>\n",
              "      <th>그룹</th>\n",
              "      <th>소속사</th>\n",
              "      <th>성별</th>\n",
              "      <th>생년월일</th>\n",
              "      <th>키</th>\n",
              "      <th>혈액형</th>\n",
              "      <th>브랜드평판지수</th>\n",
              "    </tr>\n",
              "  </thead>\n",
              "  <tbody>\n",
              "    <tr>\n",
              "      <th>0</th>\n",
              "      <td>지민</td>\n",
              "      <td>방탄소년단</td>\n",
              "      <td>빅히트</td>\n",
              "      <td>남자</td>\n",
              "      <td>1995-10-13</td>\n",
              "      <td>173.6</td>\n",
              "      <td>A</td>\n",
              "      <td>10523260</td>\n",
              "    </tr>\n",
              "    <tr>\n",
              "      <th>1</th>\n",
              "      <td>지드래곤</td>\n",
              "      <td>빅뱅</td>\n",
              "      <td>YG</td>\n",
              "      <td>남자</td>\n",
              "      <td>1988-08-18</td>\n",
              "      <td>177.0</td>\n",
              "      <td>A</td>\n",
              "      <td>9916947</td>\n",
              "    </tr>\n",
              "    <tr>\n",
              "      <th>2</th>\n",
              "      <td>강다니엘</td>\n",
              "      <td>NaN</td>\n",
              "      <td>커넥트</td>\n",
              "      <td>남자</td>\n",
              "      <td>1996-12-10</td>\n",
              "      <td>180.0</td>\n",
              "      <td>A</td>\n",
              "      <td>8273745</td>\n",
              "    </tr>\n",
              "    <tr>\n",
              "      <th>3</th>\n",
              "      <td>뷔</td>\n",
              "      <td>방탄소년단</td>\n",
              "      <td>빅히트</td>\n",
              "      <td>남자</td>\n",
              "      <td>1995-12-30</td>\n",
              "      <td>178.0</td>\n",
              "      <td>AB</td>\n",
              "      <td>8073501</td>\n",
              "    </tr>\n",
              "    <tr>\n",
              "      <th>4</th>\n",
              "      <td>화사</td>\n",
              "      <td>마마무</td>\n",
              "      <td>RBW</td>\n",
              "      <td>여자</td>\n",
              "      <td>1995-07-23</td>\n",
              "      <td>162.1</td>\n",
              "      <td>A</td>\n",
              "      <td>7650928</td>\n",
              "    </tr>\n",
              "    <tr>\n",
              "      <th>5</th>\n",
              "      <td>정국</td>\n",
              "      <td>방탄소년단</td>\n",
              "      <td>빅히트</td>\n",
              "      <td>남자</td>\n",
              "      <td>1997-09-01</td>\n",
              "      <td>178.0</td>\n",
              "      <td>A</td>\n",
              "      <td>5208335</td>\n",
              "    </tr>\n",
              "    <tr>\n",
              "      <th>6</th>\n",
              "      <td>민현</td>\n",
              "      <td>뉴이스트</td>\n",
              "      <td>플레디스</td>\n",
              "      <td>남자</td>\n",
              "      <td>1995-08-09</td>\n",
              "      <td>182.3</td>\n",
              "      <td>O</td>\n",
              "      <td>4989792</td>\n",
              "    </tr>\n",
              "    <tr>\n",
              "      <th>7</th>\n",
              "      <td>소연</td>\n",
              "      <td>아이들</td>\n",
              "      <td>큐브</td>\n",
              "      <td>여자</td>\n",
              "      <td>1998-08-26</td>\n",
              "      <td>NaN</td>\n",
              "      <td>B</td>\n",
              "      <td>4668615</td>\n",
              "    </tr>\n",
              "    <tr>\n",
              "      <th>8</th>\n",
              "      <td>진</td>\n",
              "      <td>방탄소년단</td>\n",
              "      <td>빅히트</td>\n",
              "      <td>남자</td>\n",
              "      <td>1992-12-04</td>\n",
              "      <td>179.2</td>\n",
              "      <td>O</td>\n",
              "      <td>4570308</td>\n",
              "    </tr>\n",
              "    <tr>\n",
              "      <th>9</th>\n",
              "      <td>하성운</td>\n",
              "      <td>핫샷</td>\n",
              "      <td>스타크루이엔티</td>\n",
              "      <td>남자</td>\n",
              "      <td>1994-03-22</td>\n",
              "      <td>167.1</td>\n",
              "      <td>A</td>\n",
              "      <td>4036489</td>\n",
              "    </tr>\n",
              "    <tr>\n",
              "      <th>10</th>\n",
              "      <td>태연</td>\n",
              "      <td>소녀시대</td>\n",
              "      <td>SM</td>\n",
              "      <td>여자</td>\n",
              "      <td>1989-03-09</td>\n",
              "      <td>NaN</td>\n",
              "      <td>A</td>\n",
              "      <td>3918661</td>\n",
              "    </tr>\n",
              "    <tr>\n",
              "      <th>11</th>\n",
              "      <td>차은우</td>\n",
              "      <td>아스트로</td>\n",
              "      <td>판타지오</td>\n",
              "      <td>남자</td>\n",
              "      <td>1997-03-30</td>\n",
              "      <td>183.0</td>\n",
              "      <td>B</td>\n",
              "      <td>3506027</td>\n",
              "    </tr>\n",
              "    <tr>\n",
              "      <th>12</th>\n",
              "      <td>백호</td>\n",
              "      <td>뉴이스트</td>\n",
              "      <td>플레디스</td>\n",
              "      <td>남자</td>\n",
              "      <td>1995-07-21</td>\n",
              "      <td>175.0</td>\n",
              "      <td>AB</td>\n",
              "      <td>3301654</td>\n",
              "    </tr>\n",
              "    <tr>\n",
              "      <th>13</th>\n",
              "      <td>JR</td>\n",
              "      <td>뉴이스트</td>\n",
              "      <td>플레디스</td>\n",
              "      <td>남자</td>\n",
              "      <td>1995-06-08</td>\n",
              "      <td>176.0</td>\n",
              "      <td>O</td>\n",
              "      <td>3274137</td>\n",
              "    </tr>\n",
              "    <tr>\n",
              "      <th>14</th>\n",
              "      <td>슈가</td>\n",
              "      <td>방탄소년단</td>\n",
              "      <td>빅히트</td>\n",
              "      <td>남자</td>\n",
              "      <td>1993-03-09</td>\n",
              "      <td>174.0</td>\n",
              "      <td>O</td>\n",
              "      <td>2925442</td>\n",
              "    </tr>\n",
              "  </tbody>\n",
              "</table>\n",
              "</div>"
            ],
            "text/plain": [
              "      이름     그룹      소속사  성별        생년월일      키 혈액형   브랜드평판지수\n",
              "0     지민  방탄소년단      빅히트  남자  1995-10-13  173.6   A  10523260\n",
              "1   지드래곤     빅뱅       YG  남자  1988-08-18  177.0   A   9916947\n",
              "2   강다니엘    NaN      커넥트  남자  1996-12-10  180.0   A   8273745\n",
              "3      뷔  방탄소년단      빅히트  남자  1995-12-30  178.0  AB   8073501\n",
              "4     화사    마마무      RBW  여자  1995-07-23  162.1   A   7650928\n",
              "5     정국  방탄소년단      빅히트  남자  1997-09-01  178.0   A   5208335\n",
              "6     민현   뉴이스트     플레디스  남자  1995-08-09  182.3   O   4989792\n",
              "7     소연    아이들       큐브  여자  1998-08-26    NaN   B   4668615\n",
              "8      진  방탄소년단      빅히트  남자  1992-12-04  179.2   O   4570308\n",
              "9    하성운     핫샷  스타크루이엔티  남자  1994-03-22  167.1   A   4036489\n",
              "10    태연   소녀시대       SM  여자  1989-03-09    NaN   A   3918661\n",
              "11   차은우   아스트로     판타지오  남자  1997-03-30  183.0   B   3506027\n",
              "12    백호   뉴이스트     플레디스  남자  1995-07-21  175.0  AB   3301654\n",
              "13    JR   뉴이스트     플레디스  남자  1995-06-08  176.0   O   3274137\n",
              "14    슈가  방탄소년단      빅히트  남자  1993-03-09  174.0   O   2925442"
            ]
          },
          "metadata": {
            "tags": []
          },
          "execution_count": 53
        }
      ]
    },
    {
      "cell_type": "code",
      "metadata": {
        "colab": {
          "base_uri": "https://localhost:8080/"
        },
        "id": "K0zPFuQtQ96k",
        "outputId": "25f5fefc-36dc-40c4-887a-1c16ff102184"
      },
      "source": [
        "df['성별'].map(my_map)"
      ],
      "execution_count": 54,
      "outputs": [
        {
          "output_type": "execute_result",
          "data": {
            "text/plain": [
              "0     1\n",
              "1     1\n",
              "2     1\n",
              "3     1\n",
              "4     0\n",
              "5     1\n",
              "6     1\n",
              "7     0\n",
              "8     1\n",
              "9     1\n",
              "10    0\n",
              "11    1\n",
              "12    1\n",
              "13    1\n",
              "14    1\n",
              "Name: 성별, dtype: int64"
            ]
          },
          "metadata": {
            "tags": []
          },
          "execution_count": 54
        }
      ]
    },
    {
      "cell_type": "code",
      "metadata": {
        "id": "pGy-YNOnRCGJ"
      },
      "source": [
        "my_map = {\r\n",
        "\r\n",
        "    '남자': 'male',\r\n",
        "    '여자': 'female'\r\n",
        "\r\n",
        "}"
      ],
      "execution_count": 57,
      "outputs": []
    },
    {
      "cell_type": "code",
      "metadata": {
        "colab": {
          "base_uri": "https://localhost:8080/"
        },
        "id": "q_KVBa6rRK1T",
        "outputId": "64a8ea73-bfcc-4a22-9fc6-3bfea237efab"
      },
      "source": [
        "my_map"
      ],
      "execution_count": 58,
      "outputs": [
        {
          "output_type": "execute_result",
          "data": {
            "text/plain": [
              "{'남자': 'male', '여자': 'female'}"
            ]
          },
          "metadata": {
            "tags": []
          },
          "execution_count": 58
        }
      ]
    },
    {
      "cell_type": "code",
      "metadata": {
        "colab": {
          "base_uri": "https://localhost:8080/",
          "height": 498
        },
        "id": "gwegfUeDRTUw",
        "outputId": "ff43f214-2b79-4a8d-d3e9-4a97bcd0780f"
      },
      "source": [
        "df"
      ],
      "execution_count": 59,
      "outputs": [
        {
          "output_type": "execute_result",
          "data": {
            "text/html": [
              "<div>\n",
              "<style scoped>\n",
              "    .dataframe tbody tr th:only-of-type {\n",
              "        vertical-align: middle;\n",
              "    }\n",
              "\n",
              "    .dataframe tbody tr th {\n",
              "        vertical-align: top;\n",
              "    }\n",
              "\n",
              "    .dataframe thead th {\n",
              "        text-align: right;\n",
              "    }\n",
              "</style>\n",
              "<table border=\"1\" class=\"dataframe\">\n",
              "  <thead>\n",
              "    <tr style=\"text-align: right;\">\n",
              "      <th></th>\n",
              "      <th>이름</th>\n",
              "      <th>그룹</th>\n",
              "      <th>소속사</th>\n",
              "      <th>성별</th>\n",
              "      <th>생년월일</th>\n",
              "      <th>키</th>\n",
              "      <th>혈액형</th>\n",
              "      <th>브랜드평판지수</th>\n",
              "    </tr>\n",
              "  </thead>\n",
              "  <tbody>\n",
              "    <tr>\n",
              "      <th>0</th>\n",
              "      <td>지민</td>\n",
              "      <td>방탄소년단</td>\n",
              "      <td>빅히트</td>\n",
              "      <td>남자</td>\n",
              "      <td>1995-10-13</td>\n",
              "      <td>173.6</td>\n",
              "      <td>A</td>\n",
              "      <td>10523260</td>\n",
              "    </tr>\n",
              "    <tr>\n",
              "      <th>1</th>\n",
              "      <td>지드래곤</td>\n",
              "      <td>빅뱅</td>\n",
              "      <td>YG</td>\n",
              "      <td>남자</td>\n",
              "      <td>1988-08-18</td>\n",
              "      <td>177.0</td>\n",
              "      <td>A</td>\n",
              "      <td>9916947</td>\n",
              "    </tr>\n",
              "    <tr>\n",
              "      <th>2</th>\n",
              "      <td>강다니엘</td>\n",
              "      <td>NaN</td>\n",
              "      <td>커넥트</td>\n",
              "      <td>남자</td>\n",
              "      <td>1996-12-10</td>\n",
              "      <td>180.0</td>\n",
              "      <td>A</td>\n",
              "      <td>8273745</td>\n",
              "    </tr>\n",
              "    <tr>\n",
              "      <th>3</th>\n",
              "      <td>뷔</td>\n",
              "      <td>방탄소년단</td>\n",
              "      <td>빅히트</td>\n",
              "      <td>남자</td>\n",
              "      <td>1995-12-30</td>\n",
              "      <td>178.0</td>\n",
              "      <td>AB</td>\n",
              "      <td>8073501</td>\n",
              "    </tr>\n",
              "    <tr>\n",
              "      <th>4</th>\n",
              "      <td>화사</td>\n",
              "      <td>마마무</td>\n",
              "      <td>RBW</td>\n",
              "      <td>여자</td>\n",
              "      <td>1995-07-23</td>\n",
              "      <td>162.1</td>\n",
              "      <td>A</td>\n",
              "      <td>7650928</td>\n",
              "    </tr>\n",
              "    <tr>\n",
              "      <th>5</th>\n",
              "      <td>정국</td>\n",
              "      <td>방탄소년단</td>\n",
              "      <td>빅히트</td>\n",
              "      <td>남자</td>\n",
              "      <td>1997-09-01</td>\n",
              "      <td>178.0</td>\n",
              "      <td>A</td>\n",
              "      <td>5208335</td>\n",
              "    </tr>\n",
              "    <tr>\n",
              "      <th>6</th>\n",
              "      <td>민현</td>\n",
              "      <td>뉴이스트</td>\n",
              "      <td>플레디스</td>\n",
              "      <td>남자</td>\n",
              "      <td>1995-08-09</td>\n",
              "      <td>182.3</td>\n",
              "      <td>O</td>\n",
              "      <td>4989792</td>\n",
              "    </tr>\n",
              "    <tr>\n",
              "      <th>7</th>\n",
              "      <td>소연</td>\n",
              "      <td>아이들</td>\n",
              "      <td>큐브</td>\n",
              "      <td>여자</td>\n",
              "      <td>1998-08-26</td>\n",
              "      <td>NaN</td>\n",
              "      <td>B</td>\n",
              "      <td>4668615</td>\n",
              "    </tr>\n",
              "    <tr>\n",
              "      <th>8</th>\n",
              "      <td>진</td>\n",
              "      <td>방탄소년단</td>\n",
              "      <td>빅히트</td>\n",
              "      <td>남자</td>\n",
              "      <td>1992-12-04</td>\n",
              "      <td>179.2</td>\n",
              "      <td>O</td>\n",
              "      <td>4570308</td>\n",
              "    </tr>\n",
              "    <tr>\n",
              "      <th>9</th>\n",
              "      <td>하성운</td>\n",
              "      <td>핫샷</td>\n",
              "      <td>스타크루이엔티</td>\n",
              "      <td>남자</td>\n",
              "      <td>1994-03-22</td>\n",
              "      <td>167.1</td>\n",
              "      <td>A</td>\n",
              "      <td>4036489</td>\n",
              "    </tr>\n",
              "    <tr>\n",
              "      <th>10</th>\n",
              "      <td>태연</td>\n",
              "      <td>소녀시대</td>\n",
              "      <td>SM</td>\n",
              "      <td>여자</td>\n",
              "      <td>1989-03-09</td>\n",
              "      <td>NaN</td>\n",
              "      <td>A</td>\n",
              "      <td>3918661</td>\n",
              "    </tr>\n",
              "    <tr>\n",
              "      <th>11</th>\n",
              "      <td>차은우</td>\n",
              "      <td>아스트로</td>\n",
              "      <td>판타지오</td>\n",
              "      <td>남자</td>\n",
              "      <td>1997-03-30</td>\n",
              "      <td>183.0</td>\n",
              "      <td>B</td>\n",
              "      <td>3506027</td>\n",
              "    </tr>\n",
              "    <tr>\n",
              "      <th>12</th>\n",
              "      <td>백호</td>\n",
              "      <td>뉴이스트</td>\n",
              "      <td>플레디스</td>\n",
              "      <td>남자</td>\n",
              "      <td>1995-07-21</td>\n",
              "      <td>175.0</td>\n",
              "      <td>AB</td>\n",
              "      <td>3301654</td>\n",
              "    </tr>\n",
              "    <tr>\n",
              "      <th>13</th>\n",
              "      <td>JR</td>\n",
              "      <td>뉴이스트</td>\n",
              "      <td>플레디스</td>\n",
              "      <td>남자</td>\n",
              "      <td>1995-06-08</td>\n",
              "      <td>176.0</td>\n",
              "      <td>O</td>\n",
              "      <td>3274137</td>\n",
              "    </tr>\n",
              "    <tr>\n",
              "      <th>14</th>\n",
              "      <td>슈가</td>\n",
              "      <td>방탄소년단</td>\n",
              "      <td>빅히트</td>\n",
              "      <td>남자</td>\n",
              "      <td>1993-03-09</td>\n",
              "      <td>174.0</td>\n",
              "      <td>O</td>\n",
              "      <td>2925442</td>\n",
              "    </tr>\n",
              "  </tbody>\n",
              "</table>\n",
              "</div>"
            ],
            "text/plain": [
              "      이름     그룹      소속사  성별        생년월일      키 혈액형   브랜드평판지수\n",
              "0     지민  방탄소년단      빅히트  남자  1995-10-13  173.6   A  10523260\n",
              "1   지드래곤     빅뱅       YG  남자  1988-08-18  177.0   A   9916947\n",
              "2   강다니엘    NaN      커넥트  남자  1996-12-10  180.0   A   8273745\n",
              "3      뷔  방탄소년단      빅히트  남자  1995-12-30  178.0  AB   8073501\n",
              "4     화사    마마무      RBW  여자  1995-07-23  162.1   A   7650928\n",
              "5     정국  방탄소년단      빅히트  남자  1997-09-01  178.0   A   5208335\n",
              "6     민현   뉴이스트     플레디스  남자  1995-08-09  182.3   O   4989792\n",
              "7     소연    아이들       큐브  여자  1998-08-26    NaN   B   4668615\n",
              "8      진  방탄소년단      빅히트  남자  1992-12-04  179.2   O   4570308\n",
              "9    하성운     핫샷  스타크루이엔티  남자  1994-03-22  167.1   A   4036489\n",
              "10    태연   소녀시대       SM  여자  1989-03-09    NaN   A   3918661\n",
              "11   차은우   아스트로     판타지오  남자  1997-03-30  183.0   B   3506027\n",
              "12    백호   뉴이스트     플레디스  남자  1995-07-21  175.0  AB   3301654\n",
              "13    JR   뉴이스트     플레디스  남자  1995-06-08  176.0   O   3274137\n",
              "14    슈가  방탄소년단      빅히트  남자  1993-03-09  174.0   O   2925442"
            ]
          },
          "metadata": {
            "tags": []
          },
          "execution_count": 59
        }
      ]
    },
    {
      "cell_type": "code",
      "metadata": {
        "id": "BM_ecP6lRT7e"
      },
      "source": [
        "df['성별'] =  df['성별'].map(my_map)"
      ],
      "execution_count": 60,
      "outputs": []
    },
    {
      "cell_type": "code",
      "metadata": {
        "colab": {
          "base_uri": "https://localhost:8080/",
          "height": 498
        },
        "id": "5flQloSVRaqe",
        "outputId": "b3753961-b62e-48e8-8379-2b423f2ccf52"
      },
      "source": [
        "df"
      ],
      "execution_count": 61,
      "outputs": [
        {
          "output_type": "execute_result",
          "data": {
            "text/html": [
              "<div>\n",
              "<style scoped>\n",
              "    .dataframe tbody tr th:only-of-type {\n",
              "        vertical-align: middle;\n",
              "    }\n",
              "\n",
              "    .dataframe tbody tr th {\n",
              "        vertical-align: top;\n",
              "    }\n",
              "\n",
              "    .dataframe thead th {\n",
              "        text-align: right;\n",
              "    }\n",
              "</style>\n",
              "<table border=\"1\" class=\"dataframe\">\n",
              "  <thead>\n",
              "    <tr style=\"text-align: right;\">\n",
              "      <th></th>\n",
              "      <th>이름</th>\n",
              "      <th>그룹</th>\n",
              "      <th>소속사</th>\n",
              "      <th>성별</th>\n",
              "      <th>생년월일</th>\n",
              "      <th>키</th>\n",
              "      <th>혈액형</th>\n",
              "      <th>브랜드평판지수</th>\n",
              "    </tr>\n",
              "  </thead>\n",
              "  <tbody>\n",
              "    <tr>\n",
              "      <th>0</th>\n",
              "      <td>지민</td>\n",
              "      <td>방탄소년단</td>\n",
              "      <td>빅히트</td>\n",
              "      <td>male</td>\n",
              "      <td>1995-10-13</td>\n",
              "      <td>173.6</td>\n",
              "      <td>A</td>\n",
              "      <td>10523260</td>\n",
              "    </tr>\n",
              "    <tr>\n",
              "      <th>1</th>\n",
              "      <td>지드래곤</td>\n",
              "      <td>빅뱅</td>\n",
              "      <td>YG</td>\n",
              "      <td>male</td>\n",
              "      <td>1988-08-18</td>\n",
              "      <td>177.0</td>\n",
              "      <td>A</td>\n",
              "      <td>9916947</td>\n",
              "    </tr>\n",
              "    <tr>\n",
              "      <th>2</th>\n",
              "      <td>강다니엘</td>\n",
              "      <td>NaN</td>\n",
              "      <td>커넥트</td>\n",
              "      <td>male</td>\n",
              "      <td>1996-12-10</td>\n",
              "      <td>180.0</td>\n",
              "      <td>A</td>\n",
              "      <td>8273745</td>\n",
              "    </tr>\n",
              "    <tr>\n",
              "      <th>3</th>\n",
              "      <td>뷔</td>\n",
              "      <td>방탄소년단</td>\n",
              "      <td>빅히트</td>\n",
              "      <td>male</td>\n",
              "      <td>1995-12-30</td>\n",
              "      <td>178.0</td>\n",
              "      <td>AB</td>\n",
              "      <td>8073501</td>\n",
              "    </tr>\n",
              "    <tr>\n",
              "      <th>4</th>\n",
              "      <td>화사</td>\n",
              "      <td>마마무</td>\n",
              "      <td>RBW</td>\n",
              "      <td>female</td>\n",
              "      <td>1995-07-23</td>\n",
              "      <td>162.1</td>\n",
              "      <td>A</td>\n",
              "      <td>7650928</td>\n",
              "    </tr>\n",
              "    <tr>\n",
              "      <th>5</th>\n",
              "      <td>정국</td>\n",
              "      <td>방탄소년단</td>\n",
              "      <td>빅히트</td>\n",
              "      <td>male</td>\n",
              "      <td>1997-09-01</td>\n",
              "      <td>178.0</td>\n",
              "      <td>A</td>\n",
              "      <td>5208335</td>\n",
              "    </tr>\n",
              "    <tr>\n",
              "      <th>6</th>\n",
              "      <td>민현</td>\n",
              "      <td>뉴이스트</td>\n",
              "      <td>플레디스</td>\n",
              "      <td>male</td>\n",
              "      <td>1995-08-09</td>\n",
              "      <td>182.3</td>\n",
              "      <td>O</td>\n",
              "      <td>4989792</td>\n",
              "    </tr>\n",
              "    <tr>\n",
              "      <th>7</th>\n",
              "      <td>소연</td>\n",
              "      <td>아이들</td>\n",
              "      <td>큐브</td>\n",
              "      <td>female</td>\n",
              "      <td>1998-08-26</td>\n",
              "      <td>NaN</td>\n",
              "      <td>B</td>\n",
              "      <td>4668615</td>\n",
              "    </tr>\n",
              "    <tr>\n",
              "      <th>8</th>\n",
              "      <td>진</td>\n",
              "      <td>방탄소년단</td>\n",
              "      <td>빅히트</td>\n",
              "      <td>male</td>\n",
              "      <td>1992-12-04</td>\n",
              "      <td>179.2</td>\n",
              "      <td>O</td>\n",
              "      <td>4570308</td>\n",
              "    </tr>\n",
              "    <tr>\n",
              "      <th>9</th>\n",
              "      <td>하성운</td>\n",
              "      <td>핫샷</td>\n",
              "      <td>스타크루이엔티</td>\n",
              "      <td>male</td>\n",
              "      <td>1994-03-22</td>\n",
              "      <td>167.1</td>\n",
              "      <td>A</td>\n",
              "      <td>4036489</td>\n",
              "    </tr>\n",
              "    <tr>\n",
              "      <th>10</th>\n",
              "      <td>태연</td>\n",
              "      <td>소녀시대</td>\n",
              "      <td>SM</td>\n",
              "      <td>female</td>\n",
              "      <td>1989-03-09</td>\n",
              "      <td>NaN</td>\n",
              "      <td>A</td>\n",
              "      <td>3918661</td>\n",
              "    </tr>\n",
              "    <tr>\n",
              "      <th>11</th>\n",
              "      <td>차은우</td>\n",
              "      <td>아스트로</td>\n",
              "      <td>판타지오</td>\n",
              "      <td>male</td>\n",
              "      <td>1997-03-30</td>\n",
              "      <td>183.0</td>\n",
              "      <td>B</td>\n",
              "      <td>3506027</td>\n",
              "    </tr>\n",
              "    <tr>\n",
              "      <th>12</th>\n",
              "      <td>백호</td>\n",
              "      <td>뉴이스트</td>\n",
              "      <td>플레디스</td>\n",
              "      <td>male</td>\n",
              "      <td>1995-07-21</td>\n",
              "      <td>175.0</td>\n",
              "      <td>AB</td>\n",
              "      <td>3301654</td>\n",
              "    </tr>\n",
              "    <tr>\n",
              "      <th>13</th>\n",
              "      <td>JR</td>\n",
              "      <td>뉴이스트</td>\n",
              "      <td>플레디스</td>\n",
              "      <td>male</td>\n",
              "      <td>1995-06-08</td>\n",
              "      <td>176.0</td>\n",
              "      <td>O</td>\n",
              "      <td>3274137</td>\n",
              "    </tr>\n",
              "    <tr>\n",
              "      <th>14</th>\n",
              "      <td>슈가</td>\n",
              "      <td>방탄소년단</td>\n",
              "      <td>빅히트</td>\n",
              "      <td>male</td>\n",
              "      <td>1993-03-09</td>\n",
              "      <td>174.0</td>\n",
              "      <td>O</td>\n",
              "      <td>2925442</td>\n",
              "    </tr>\n",
              "  </tbody>\n",
              "</table>\n",
              "</div>"
            ],
            "text/plain": [
              "      이름     그룹      소속사      성별        생년월일      키 혈액형   브랜드평판지수\n",
              "0     지민  방탄소년단      빅히트    male  1995-10-13  173.6   A  10523260\n",
              "1   지드래곤     빅뱅       YG    male  1988-08-18  177.0   A   9916947\n",
              "2   강다니엘    NaN      커넥트    male  1996-12-10  180.0   A   8273745\n",
              "3      뷔  방탄소년단      빅히트    male  1995-12-30  178.0  AB   8073501\n",
              "4     화사    마마무      RBW  female  1995-07-23  162.1   A   7650928\n",
              "5     정국  방탄소년단      빅히트    male  1997-09-01  178.0   A   5208335\n",
              "6     민현   뉴이스트     플레디스    male  1995-08-09  182.3   O   4989792\n",
              "7     소연    아이들       큐브  female  1998-08-26    NaN   B   4668615\n",
              "8      진  방탄소년단      빅히트    male  1992-12-04  179.2   O   4570308\n",
              "9    하성운     핫샷  스타크루이엔티    male  1994-03-22  167.1   A   4036489\n",
              "10    태연   소녀시대       SM  female  1989-03-09    NaN   A   3918661\n",
              "11   차은우   아스트로     판타지오    male  1997-03-30  183.0   B   3506027\n",
              "12    백호   뉴이스트     플레디스    male  1995-07-21  175.0  AB   3301654\n",
              "13    JR   뉴이스트     플레디스    male  1995-06-08  176.0   O   3274137\n",
              "14    슈가  방탄소년단      빅히트    male  1993-03-09  174.0   O   2925442"
            ]
          },
          "metadata": {
            "tags": []
          },
          "execution_count": 61
        }
      ]
    },
    {
      "cell_type": "code",
      "metadata": {
        "id": "_E06CRmwRbLQ"
      },
      "source": [
        "import pandas as pd\r\n",
        "import numpy as np"
      ],
      "execution_count": 62,
      "outputs": []
    },
    {
      "cell_type": "code",
      "metadata": {
        "id": "pKVfsgn-RqPA"
      },
      "source": [
        "df = pd.DataFrame({'통계': [60, 70, 80, 85, 75], '미술': [50, 55, 80, 100, 95], '체육': [70, 65, 50, 95, 100] })"
      ],
      "execution_count": 63,
      "outputs": []
    },
    {
      "cell_type": "code",
      "metadata": {
        "colab": {
          "base_uri": "https://localhost:8080/",
          "height": 198
        },
        "id": "nS8q-D53RsRa",
        "outputId": "024e7bf0-871e-41e3-b477-4e0f637db274"
      },
      "source": [
        "df"
      ],
      "execution_count": 64,
      "outputs": [
        {
          "output_type": "execute_result",
          "data": {
            "text/html": [
              "<div>\n",
              "<style scoped>\n",
              "    .dataframe tbody tr th:only-of-type {\n",
              "        vertical-align: middle;\n",
              "    }\n",
              "\n",
              "    .dataframe tbody tr th {\n",
              "        vertical-align: top;\n",
              "    }\n",
              "\n",
              "    .dataframe thead th {\n",
              "        text-align: right;\n",
              "    }\n",
              "</style>\n",
              "<table border=\"1\" class=\"dataframe\">\n",
              "  <thead>\n",
              "    <tr style=\"text-align: right;\">\n",
              "      <th></th>\n",
              "      <th>통계</th>\n",
              "      <th>미술</th>\n",
              "      <th>체육</th>\n",
              "    </tr>\n",
              "  </thead>\n",
              "  <tbody>\n",
              "    <tr>\n",
              "      <th>0</th>\n",
              "      <td>60</td>\n",
              "      <td>50</td>\n",
              "      <td>70</td>\n",
              "    </tr>\n",
              "    <tr>\n",
              "      <th>1</th>\n",
              "      <td>70</td>\n",
              "      <td>55</td>\n",
              "      <td>65</td>\n",
              "    </tr>\n",
              "    <tr>\n",
              "      <th>2</th>\n",
              "      <td>80</td>\n",
              "      <td>80</td>\n",
              "      <td>50</td>\n",
              "    </tr>\n",
              "    <tr>\n",
              "      <th>3</th>\n",
              "      <td>85</td>\n",
              "      <td>100</td>\n",
              "      <td>95</td>\n",
              "    </tr>\n",
              "    <tr>\n",
              "      <th>4</th>\n",
              "      <td>75</td>\n",
              "      <td>95</td>\n",
              "      <td>100</td>\n",
              "    </tr>\n",
              "  </tbody>\n",
              "</table>\n",
              "</div>"
            ],
            "text/plain": [
              "   통계   미술   체육\n",
              "0  60   50   70\n",
              "1  70   55   65\n",
              "2  80   80   50\n",
              "3  85  100   95\n",
              "4  75   95  100"
            ]
          },
          "metadata": {
            "tags": []
          },
          "execution_count": 64
        }
      ]
    },
    {
      "cell_type": "code",
      "metadata": {
        "colab": {
          "base_uri": "https://localhost:8080/"
        },
        "id": "pUeLz5lvRszo",
        "outputId": "56950c43-dd33-4935-a242-d12a28e32a56"
      },
      "source": [
        "type(df['통계'])"
      ],
      "execution_count": 65,
      "outputs": [
        {
          "output_type": "execute_result",
          "data": {
            "text/plain": [
              "pandas.core.series.Series"
            ]
          },
          "metadata": {
            "tags": []
          },
          "execution_count": 65
        }
      ]
    },
    {
      "cell_type": "code",
      "metadata": {
        "colab": {
          "base_uri": "https://localhost:8080/"
        },
        "id": "1TzY4hoTR0q8",
        "outputId": "c14d9e5f-491e-465c-d77d-f7cae706b4b4"
      },
      "source": [
        "df['통계'] + df['미술'] + df['체육']"
      ],
      "execution_count": 66,
      "outputs": [
        {
          "output_type": "execute_result",
          "data": {
            "text/plain": [
              "0    180\n",
              "1    190\n",
              "2    210\n",
              "3    280\n",
              "4    270\n",
              "dtype: int64"
            ]
          },
          "metadata": {
            "tags": []
          },
          "execution_count": 66
        }
      ]
    },
    {
      "cell_type": "code",
      "metadata": {
        "colab": {
          "base_uri": "https://localhost:8080/"
        },
        "id": "hxpe4V-fR286",
        "outputId": "ac17987d-a526-4aec-8e8f-7715901cd211"
      },
      "source": [
        "df['통계'] - df['미술']"
      ],
      "execution_count": 67,
      "outputs": [
        {
          "output_type": "execute_result",
          "data": {
            "text/plain": [
              "0    10\n",
              "1    15\n",
              "2     0\n",
              "3   -15\n",
              "4   -20\n",
              "dtype: int64"
            ]
          },
          "metadata": {
            "tags": []
          },
          "execution_count": 67
        }
      ]
    },
    {
      "cell_type": "code",
      "metadata": {
        "colab": {
          "base_uri": "https://localhost:8080/"
        },
        "id": "9z3rceGLR8WZ",
        "outputId": "2de595f0-f322-4160-a0cf-72b33aea9d99"
      },
      "source": [
        "df['통계'] * df['미술']"
      ],
      "execution_count": 68,
      "outputs": [
        {
          "output_type": "execute_result",
          "data": {
            "text/plain": [
              "0    3000\n",
              "1    3850\n",
              "2    6400\n",
              "3    8500\n",
              "4    7125\n",
              "dtype: int64"
            ]
          },
          "metadata": {
            "tags": []
          },
          "execution_count": 68
        }
      ]
    },
    {
      "cell_type": "code",
      "metadata": {
        "colab": {
          "base_uri": "https://localhost:8080/"
        },
        "id": "dGJMPvkbR-HM",
        "outputId": "e481f184-6ce1-438d-f504-3844598e35bd"
      },
      "source": [
        "df['통계'] / df['미술']"
      ],
      "execution_count": 69,
      "outputs": [
        {
          "output_type": "execute_result",
          "data": {
            "text/plain": [
              "0    1.200000\n",
              "1    1.272727\n",
              "2    1.000000\n",
              "3    0.850000\n",
              "4    0.789474\n",
              "dtype: float64"
            ]
          },
          "metadata": {
            "tags": []
          },
          "execution_count": 69
        }
      ]
    },
    {
      "cell_type": "code",
      "metadata": {
        "colab": {
          "base_uri": "https://localhost:8080/"
        },
        "id": "_SXWMjdRR_7q",
        "outputId": "101dc423-fc57-4786-cc2e-5f73d0d836b1"
      },
      "source": [
        "df['통계'] % df['미술']"
      ],
      "execution_count": 70,
      "outputs": [
        {
          "output_type": "execute_result",
          "data": {
            "text/plain": [
              "0    10\n",
              "1    15\n",
              "2     0\n",
              "3    85\n",
              "4    75\n",
              "dtype: int64"
            ]
          },
          "metadata": {
            "tags": []
          },
          "execution_count": 70
        }
      ]
    },
    {
      "cell_type": "code",
      "metadata": {
        "id": "T2BFo9p1SAvp"
      },
      "source": [
        ""
      ],
      "execution_count": null,
      "outputs": []
    },
    {
      "cell_type": "code",
      "metadata": {
        "id": "lp4xWdX7yJyZ",
        "colab": {
          "base_uri": "https://localhost:8080/"
        },
        "outputId": "605c2f26-5d24-42cf-97b6-ee2ca5160d3e"
      },
      "source": [
        "df['통계'] + 10"
      ],
      "execution_count": 72,
      "outputs": [
        {
          "output_type": "execute_result",
          "data": {
            "text/plain": [
              "0    70\n",
              "1    80\n",
              "2    90\n",
              "3    95\n",
              "4    85\n",
              "Name: 통계, dtype: int64"
            ]
          },
          "metadata": {
            "tags": []
          },
          "execution_count": 72
        }
      ]
    },
    {
      "cell_type": "code",
      "metadata": {
        "id": "DDphwC4TyOzw",
        "colab": {
          "base_uri": "https://localhost:8080/"
        },
        "outputId": "f57520c5-e9ed-4bbe-84a5-a0689cfd354d"
      },
      "source": [
        "df['통계'] - 10"
      ],
      "execution_count": 73,
      "outputs": [
        {
          "output_type": "execute_result",
          "data": {
            "text/plain": [
              "0    50\n",
              "1    60\n",
              "2    70\n",
              "3    75\n",
              "4    65\n",
              "Name: 통계, dtype: int64"
            ]
          },
          "metadata": {
            "tags": []
          },
          "execution_count": 73
        }
      ]
    },
    {
      "cell_type": "code",
      "metadata": {
        "id": "TNvGDq5MyQUS",
        "colab": {
          "base_uri": "https://localhost:8080/"
        },
        "outputId": "79c3a130-6b58-4e4d-8f18-3e3ea82cd467"
      },
      "source": [
        "df['통계'] * 10"
      ],
      "execution_count": 74,
      "outputs": [
        {
          "output_type": "execute_result",
          "data": {
            "text/plain": [
              "0    600\n",
              "1    700\n",
              "2    800\n",
              "3    850\n",
              "4    750\n",
              "Name: 통계, dtype: int64"
            ]
          },
          "metadata": {
            "tags": []
          },
          "execution_count": 74
        }
      ]
    },
    {
      "cell_type": "code",
      "metadata": {
        "id": "CpOvw7fVyRfB",
        "colab": {
          "base_uri": "https://localhost:8080/"
        },
        "outputId": "828b495d-f7a7-45b1-f85a-a46ea69a4265"
      },
      "source": [
        "df['통계'] / 10"
      ],
      "execution_count": 75,
      "outputs": [
        {
          "output_type": "execute_result",
          "data": {
            "text/plain": [
              "0    6.0\n",
              "1    7.0\n",
              "2    8.0\n",
              "3    8.5\n",
              "4    7.5\n",
              "Name: 통계, dtype: float64"
            ]
          },
          "metadata": {
            "tags": []
          },
          "execution_count": 75
        }
      ]
    },
    {
      "cell_type": "code",
      "metadata": {
        "id": "efPPD3gfySp7",
        "colab": {
          "base_uri": "https://localhost:8080/"
        },
        "outputId": "5b205c2b-f487-46b9-9579-d3e4f0466d5c"
      },
      "source": [
        "df['통계'] % 10"
      ],
      "execution_count": 76,
      "outputs": [
        {
          "output_type": "execute_result",
          "data": {
            "text/plain": [
              "0    0\n",
              "1    0\n",
              "2    0\n",
              "3    5\n",
              "4    5\n",
              "Name: 통계, dtype: int64"
            ]
          },
          "metadata": {
            "tags": []
          },
          "execution_count": 76
        }
      ]
    },
    {
      "cell_type": "code",
      "metadata": {
        "id": "AB7DdDhcSD2Q"
      },
      "source": [
        "df = pd.DataFrame({'통계': [60, 70, 80, 85, 75], '미술': [50, 55, 80, 100, 95], '체육': [70, 65, 50, 95, 100] })"
      ],
      "execution_count": 77,
      "outputs": []
    },
    {
      "cell_type": "code",
      "metadata": {
        "colab": {
          "base_uri": "https://localhost:8080/",
          "height": 198
        },
        "id": "1pSHcpBcSN-C",
        "outputId": "f6a513ce-12ed-4e5b-9b25-1f6c48762030"
      },
      "source": [
        "df"
      ],
      "execution_count": 78,
      "outputs": [
        {
          "output_type": "execute_result",
          "data": {
            "text/html": [
              "<div>\n",
              "<style scoped>\n",
              "    .dataframe tbody tr th:only-of-type {\n",
              "        vertical-align: middle;\n",
              "    }\n",
              "\n",
              "    .dataframe tbody tr th {\n",
              "        vertical-align: top;\n",
              "    }\n",
              "\n",
              "    .dataframe thead th {\n",
              "        text-align: right;\n",
              "    }\n",
              "</style>\n",
              "<table border=\"1\" class=\"dataframe\">\n",
              "  <thead>\n",
              "    <tr style=\"text-align: right;\">\n",
              "      <th></th>\n",
              "      <th>통계</th>\n",
              "      <th>미술</th>\n",
              "      <th>체육</th>\n",
              "    </tr>\n",
              "  </thead>\n",
              "  <tbody>\n",
              "    <tr>\n",
              "      <th>0</th>\n",
              "      <td>60</td>\n",
              "      <td>50</td>\n",
              "      <td>70</td>\n",
              "    </tr>\n",
              "    <tr>\n",
              "      <th>1</th>\n",
              "      <td>70</td>\n",
              "      <td>55</td>\n",
              "      <td>65</td>\n",
              "    </tr>\n",
              "    <tr>\n",
              "      <th>2</th>\n",
              "      <td>80</td>\n",
              "      <td>80</td>\n",
              "      <td>50</td>\n",
              "    </tr>\n",
              "    <tr>\n",
              "      <th>3</th>\n",
              "      <td>85</td>\n",
              "      <td>100</td>\n",
              "      <td>95</td>\n",
              "    </tr>\n",
              "    <tr>\n",
              "      <th>4</th>\n",
              "      <td>75</td>\n",
              "      <td>95</td>\n",
              "      <td>100</td>\n",
              "    </tr>\n",
              "  </tbody>\n",
              "</table>\n",
              "</div>"
            ],
            "text/plain": [
              "   통계   미술   체육\n",
              "0  60   50   70\n",
              "1  70   55   65\n",
              "2  80   80   50\n",
              "3  85  100   95\n",
              "4  75   95  100"
            ]
          },
          "metadata": {
            "tags": []
          },
          "execution_count": 78
        }
      ]
    },
    {
      "cell_type": "code",
      "metadata": {
        "id": "XQAOtoVqSOdh"
      },
      "source": [
        "df['통계미술합계'] = df['통계'] + df['미술'] + 10"
      ],
      "execution_count": 79,
      "outputs": []
    },
    {
      "cell_type": "code",
      "metadata": {
        "colab": {
          "base_uri": "https://localhost:8080/",
          "height": 198
        },
        "id": "a6nwILEiSQLe",
        "outputId": "75b32506-9ccd-452d-c928-6001bbadbef1"
      },
      "source": [
        "df"
      ],
      "execution_count": 80,
      "outputs": [
        {
          "output_type": "execute_result",
          "data": {
            "text/html": [
              "<div>\n",
              "<style scoped>\n",
              "    .dataframe tbody tr th:only-of-type {\n",
              "        vertical-align: middle;\n",
              "    }\n",
              "\n",
              "    .dataframe tbody tr th {\n",
              "        vertical-align: top;\n",
              "    }\n",
              "\n",
              "    .dataframe thead th {\n",
              "        text-align: right;\n",
              "    }\n",
              "</style>\n",
              "<table border=\"1\" class=\"dataframe\">\n",
              "  <thead>\n",
              "    <tr style=\"text-align: right;\">\n",
              "      <th></th>\n",
              "      <th>통계</th>\n",
              "      <th>미술</th>\n",
              "      <th>체육</th>\n",
              "      <th>통계미술합계</th>\n",
              "    </tr>\n",
              "  </thead>\n",
              "  <tbody>\n",
              "    <tr>\n",
              "      <th>0</th>\n",
              "      <td>60</td>\n",
              "      <td>50</td>\n",
              "      <td>70</td>\n",
              "      <td>120</td>\n",
              "    </tr>\n",
              "    <tr>\n",
              "      <th>1</th>\n",
              "      <td>70</td>\n",
              "      <td>55</td>\n",
              "      <td>65</td>\n",
              "      <td>135</td>\n",
              "    </tr>\n",
              "    <tr>\n",
              "      <th>2</th>\n",
              "      <td>80</td>\n",
              "      <td>80</td>\n",
              "      <td>50</td>\n",
              "      <td>170</td>\n",
              "    </tr>\n",
              "    <tr>\n",
              "      <th>3</th>\n",
              "      <td>85</td>\n",
              "      <td>100</td>\n",
              "      <td>95</td>\n",
              "      <td>195</td>\n",
              "    </tr>\n",
              "    <tr>\n",
              "      <th>4</th>\n",
              "      <td>75</td>\n",
              "      <td>95</td>\n",
              "      <td>100</td>\n",
              "      <td>180</td>\n",
              "    </tr>\n",
              "  </tbody>\n",
              "</table>\n",
              "</div>"
            ],
            "text/plain": [
              "   통계   미술   체육  통계미술합계\n",
              "0  60   50   70     120\n",
              "1  70   55   65     135\n",
              "2  80   80   50     170\n",
              "3  85  100   95     195\n",
              "4  75   95  100     180"
            ]
          },
          "metadata": {
            "tags": []
          },
          "execution_count": 80
        }
      ]
    },
    {
      "cell_type": "code",
      "metadata": {
        "colab": {
          "base_uri": "https://localhost:8080/"
        },
        "id": "hiamrbbHSRNp",
        "outputId": "df112eb5-6092-4e41-a861-92a5f7aad3b9"
      },
      "source": [
        "df['통계'] + df['미술'] - df['체육']"
      ],
      "execution_count": 81,
      "outputs": [
        {
          "output_type": "execute_result",
          "data": {
            "text/plain": [
              "0     40\n",
              "1     60\n",
              "2    110\n",
              "3     90\n",
              "4     70\n",
              "dtype: int64"
            ]
          },
          "metadata": {
            "tags": []
          },
          "execution_count": 81
        }
      ]
    },
    {
      "cell_type": "code",
      "metadata": {
        "colab": {
          "base_uri": "https://localhost:8080/"
        },
        "id": "uqwt0-H7SXdb",
        "outputId": "508f5b32-03af-4e74-be94-d40fdc009c55"
      },
      "source": [
        "df.mean(axis=0)"
      ],
      "execution_count": 82,
      "outputs": [
        {
          "output_type": "execute_result",
          "data": {
            "text/plain": [
              "통계         74.0\n",
              "미술         76.0\n",
              "체육         76.0\n",
              "통계미술합계    160.0\n",
              "dtype: float64"
            ]
          },
          "metadata": {
            "tags": []
          },
          "execution_count": 82
        }
      ]
    },
    {
      "cell_type": "code",
      "metadata": {
        "colab": {
          "base_uri": "https://localhost:8080/",
          "height": 198
        },
        "id": "MSEZi__mSa_X",
        "outputId": "6873e543-15ce-4389-e0c9-863dd46731e1"
      },
      "source": [
        "df"
      ],
      "execution_count": 83,
      "outputs": [
        {
          "output_type": "execute_result",
          "data": {
            "text/html": [
              "<div>\n",
              "<style scoped>\n",
              "    .dataframe tbody tr th:only-of-type {\n",
              "        vertical-align: middle;\n",
              "    }\n",
              "\n",
              "    .dataframe tbody tr th {\n",
              "        vertical-align: top;\n",
              "    }\n",
              "\n",
              "    .dataframe thead th {\n",
              "        text-align: right;\n",
              "    }\n",
              "</style>\n",
              "<table border=\"1\" class=\"dataframe\">\n",
              "  <thead>\n",
              "    <tr style=\"text-align: right;\">\n",
              "      <th></th>\n",
              "      <th>통계</th>\n",
              "      <th>미술</th>\n",
              "      <th>체육</th>\n",
              "      <th>통계미술합계</th>\n",
              "    </tr>\n",
              "  </thead>\n",
              "  <tbody>\n",
              "    <tr>\n",
              "      <th>0</th>\n",
              "      <td>60</td>\n",
              "      <td>50</td>\n",
              "      <td>70</td>\n",
              "      <td>120</td>\n",
              "    </tr>\n",
              "    <tr>\n",
              "      <th>1</th>\n",
              "      <td>70</td>\n",
              "      <td>55</td>\n",
              "      <td>65</td>\n",
              "      <td>135</td>\n",
              "    </tr>\n",
              "    <tr>\n",
              "      <th>2</th>\n",
              "      <td>80</td>\n",
              "      <td>80</td>\n",
              "      <td>50</td>\n",
              "      <td>170</td>\n",
              "    </tr>\n",
              "    <tr>\n",
              "      <th>3</th>\n",
              "      <td>85</td>\n",
              "      <td>100</td>\n",
              "      <td>95</td>\n",
              "      <td>195</td>\n",
              "    </tr>\n",
              "    <tr>\n",
              "      <th>4</th>\n",
              "      <td>75</td>\n",
              "      <td>95</td>\n",
              "      <td>100</td>\n",
              "      <td>180</td>\n",
              "    </tr>\n",
              "  </tbody>\n",
              "</table>\n",
              "</div>"
            ],
            "text/plain": [
              "   통계   미술   체육  통계미술합계\n",
              "0  60   50   70     120\n",
              "1  70   55   65     135\n",
              "2  80   80   50     170\n",
              "3  85  100   95     195\n",
              "4  75   95  100     180"
            ]
          },
          "metadata": {
            "tags": []
          },
          "execution_count": 83
        }
      ]
    },
    {
      "cell_type": "code",
      "metadata": {
        "colab": {
          "base_uri": "https://localhost:8080/"
        },
        "id": "Rq4NlqrRScaQ",
        "outputId": "4a7bd0ab-d078-4a9d-f5db-75c259eb8ebd"
      },
      "source": [
        "df.mean(axis=1)"
      ],
      "execution_count": 85,
      "outputs": [
        {
          "output_type": "execute_result",
          "data": {
            "text/plain": [
              "0     75.00\n",
              "1     81.25\n",
              "2     95.00\n",
              "3    118.75\n",
              "4    112.50\n",
              "dtype: float64"
            ]
          },
          "metadata": {
            "tags": []
          },
          "execution_count": 85
        }
      ]
    },
    {
      "cell_type": "code",
      "metadata": {
        "colab": {
          "base_uri": "https://localhost:8080/"
        },
        "id": "7QtOriAqSdbp",
        "outputId": "f7e84812-fc21-4f30-86a9-c1d0b1901f63"
      },
      "source": [
        "df.mean()"
      ],
      "execution_count": 86,
      "outputs": [
        {
          "output_type": "execute_result",
          "data": {
            "text/plain": [
              "통계         74.0\n",
              "미술         76.0\n",
              "체육         76.0\n",
              "통계미술합계    160.0\n",
              "dtype: float64"
            ]
          },
          "metadata": {
            "tags": []
          },
          "execution_count": 86
        }
      ]
    },
    {
      "cell_type": "code",
      "metadata": {
        "id": "7lJZ1PquSnd3"
      },
      "source": [
        "df = pd.DataFrame({'통계': [60, 70, 80, 85, 75], '미술': [50, 55, 80, 100, 95], '체육': [70, 65, 50, 95, 100] })"
      ],
      "execution_count": 87,
      "outputs": []
    },
    {
      "cell_type": "code",
      "metadata": {
        "colab": {
          "base_uri": "https://localhost:8080/",
          "height": 198
        },
        "id": "Pd1Q08itStFh",
        "outputId": "6c05dc15-5adf-4ab4-f409-55f120fbbd1c"
      },
      "source": [
        "df"
      ],
      "execution_count": 88,
      "outputs": [
        {
          "output_type": "execute_result",
          "data": {
            "text/html": [
              "<div>\n",
              "<style scoped>\n",
              "    .dataframe tbody tr th:only-of-type {\n",
              "        vertical-align: middle;\n",
              "    }\n",
              "\n",
              "    .dataframe tbody tr th {\n",
              "        vertical-align: top;\n",
              "    }\n",
              "\n",
              "    .dataframe thead th {\n",
              "        text-align: right;\n",
              "    }\n",
              "</style>\n",
              "<table border=\"1\" class=\"dataframe\">\n",
              "  <thead>\n",
              "    <tr style=\"text-align: right;\">\n",
              "      <th></th>\n",
              "      <th>통계</th>\n",
              "      <th>미술</th>\n",
              "      <th>체육</th>\n",
              "    </tr>\n",
              "  </thead>\n",
              "  <tbody>\n",
              "    <tr>\n",
              "      <th>0</th>\n",
              "      <td>60</td>\n",
              "      <td>50</td>\n",
              "      <td>70</td>\n",
              "    </tr>\n",
              "    <tr>\n",
              "      <th>1</th>\n",
              "      <td>70</td>\n",
              "      <td>55</td>\n",
              "      <td>65</td>\n",
              "    </tr>\n",
              "    <tr>\n",
              "      <th>2</th>\n",
              "      <td>80</td>\n",
              "      <td>80</td>\n",
              "      <td>50</td>\n",
              "    </tr>\n",
              "    <tr>\n",
              "      <th>3</th>\n",
              "      <td>85</td>\n",
              "      <td>100</td>\n",
              "      <td>95</td>\n",
              "    </tr>\n",
              "    <tr>\n",
              "      <th>4</th>\n",
              "      <td>75</td>\n",
              "      <td>95</td>\n",
              "      <td>100</td>\n",
              "    </tr>\n",
              "  </tbody>\n",
              "</table>\n",
              "</div>"
            ],
            "text/plain": [
              "   통계   미술   체육\n",
              "0  60   50   70\n",
              "1  70   55   65\n",
              "2  80   80   50\n",
              "3  85  100   95\n",
              "4  75   95  100"
            ]
          },
          "metadata": {
            "tags": []
          },
          "execution_count": 88
        }
      ]
    },
    {
      "cell_type": "code",
      "metadata": {
        "id": "0_kPRntkz2fl",
        "colab": {
          "base_uri": "https://localhost:8080/"
        },
        "outputId": "e589655c-da9f-4f46-8ce8-83f94a8bcc4a"
      },
      "source": [
        "df.sum(axis=0)"
      ],
      "execution_count": 89,
      "outputs": [
        {
          "output_type": "execute_result",
          "data": {
            "text/plain": [
              "통계    370\n",
              "미술    380\n",
              "체육    380\n",
              "dtype: int64"
            ]
          },
          "metadata": {
            "tags": []
          },
          "execution_count": 89
        }
      ]
    },
    {
      "cell_type": "code",
      "metadata": {
        "id": "oEx6W02Rzh_o",
        "colab": {
          "base_uri": "https://localhost:8080/"
        },
        "outputId": "39bbd6f3-745b-4174-b0dd-7c9d2b330053"
      },
      "source": [
        "df.mean(axis=0)"
      ],
      "execution_count": 90,
      "outputs": [
        {
          "output_type": "execute_result",
          "data": {
            "text/plain": [
              "통계    74.0\n",
              "미술    76.0\n",
              "체육    76.0\n",
              "dtype: float64"
            ]
          },
          "metadata": {
            "tags": []
          },
          "execution_count": 90
        }
      ]
    },
    {
      "cell_type": "code",
      "metadata": {
        "id": "Me_W6e07z1Bx",
        "colab": {
          "base_uri": "https://localhost:8080/"
        },
        "outputId": "cf46551c-e3e8-495c-d9a6-090a79d694be"
      },
      "source": [
        "df.sum(axis=1)"
      ],
      "execution_count": 91,
      "outputs": [
        {
          "output_type": "execute_result",
          "data": {
            "text/plain": [
              "0    180\n",
              "1    190\n",
              "2    210\n",
              "3    280\n",
              "4    270\n",
              "dtype: int64"
            ]
          },
          "metadata": {
            "tags": []
          },
          "execution_count": 91
        }
      ]
    },
    {
      "cell_type": "code",
      "metadata": {
        "id": "mZ1zeP8ez5t9",
        "colab": {
          "base_uri": "https://localhost:8080/"
        },
        "outputId": "59cc2d6f-ea37-45ed-fcb0-9cdb650314f3"
      },
      "source": [
        "df.mean(axis=1)"
      ],
      "execution_count": 92,
      "outputs": [
        {
          "output_type": "execute_result",
          "data": {
            "text/plain": [
              "0    60.000000\n",
              "1    63.333333\n",
              "2    70.000000\n",
              "3    93.333333\n",
              "4    90.000000\n",
              "dtype: float64"
            ]
          },
          "metadata": {
            "tags": []
          },
          "execution_count": 92
        }
      ]
    },
    {
      "cell_type": "code",
      "metadata": {
        "id": "W67CS9r_ycHf"
      },
      "source": [
        "df = pd.DataFrame({'통계': [60, 70, np.nan , 85, 75], '미술': [50, np.nan , 80, 100, 95], '체육': [70, 65, 50, np.nan , 100] })"
      ],
      "execution_count": 94,
      "outputs": []
    },
    {
      "cell_type": "code",
      "metadata": {
        "id": "ggaOTtUzyfoY",
        "colab": {
          "base_uri": "https://localhost:8080/",
          "height": 198
        },
        "outputId": "21d487c7-9732-4cf3-b381-971b807a3832"
      },
      "source": [
        "df"
      ],
      "execution_count": 95,
      "outputs": [
        {
          "output_type": "execute_result",
          "data": {
            "text/html": [
              "<div>\n",
              "<style scoped>\n",
              "    .dataframe tbody tr th:only-of-type {\n",
              "        vertical-align: middle;\n",
              "    }\n",
              "\n",
              "    .dataframe tbody tr th {\n",
              "        vertical-align: top;\n",
              "    }\n",
              "\n",
              "    .dataframe thead th {\n",
              "        text-align: right;\n",
              "    }\n",
              "</style>\n",
              "<table border=\"1\" class=\"dataframe\">\n",
              "  <thead>\n",
              "    <tr style=\"text-align: right;\">\n",
              "      <th></th>\n",
              "      <th>통계</th>\n",
              "      <th>미술</th>\n",
              "      <th>체육</th>\n",
              "    </tr>\n",
              "  </thead>\n",
              "  <tbody>\n",
              "    <tr>\n",
              "      <th>0</th>\n",
              "      <td>60.0</td>\n",
              "      <td>50.0</td>\n",
              "      <td>70.0</td>\n",
              "    </tr>\n",
              "    <tr>\n",
              "      <th>1</th>\n",
              "      <td>70.0</td>\n",
              "      <td>NaN</td>\n",
              "      <td>65.0</td>\n",
              "    </tr>\n",
              "    <tr>\n",
              "      <th>2</th>\n",
              "      <td>NaN</td>\n",
              "      <td>80.0</td>\n",
              "      <td>50.0</td>\n",
              "    </tr>\n",
              "    <tr>\n",
              "      <th>3</th>\n",
              "      <td>85.0</td>\n",
              "      <td>100.0</td>\n",
              "      <td>NaN</td>\n",
              "    </tr>\n",
              "    <tr>\n",
              "      <th>4</th>\n",
              "      <td>75.0</td>\n",
              "      <td>95.0</td>\n",
              "      <td>100.0</td>\n",
              "    </tr>\n",
              "  </tbody>\n",
              "</table>\n",
              "</div>"
            ],
            "text/plain": [
              "     통계     미술     체육\n",
              "0  60.0   50.0   70.0\n",
              "1  70.0    NaN   65.0\n",
              "2   NaN   80.0   50.0\n",
              "3  85.0  100.0    NaN\n",
              "4  75.0   95.0  100.0"
            ]
          },
          "metadata": {
            "tags": []
          },
          "execution_count": 95
        }
      ]
    },
    {
      "cell_type": "code",
      "metadata": {
        "id": "ummq88Layl7O",
        "colab": {
          "base_uri": "https://localhost:8080/"
        },
        "outputId": "79b5e587-5799-4b54-bad0-816cfdfb7b8c"
      },
      "source": [
        "df['통계'] / 2"
      ],
      "execution_count": 96,
      "outputs": [
        {
          "output_type": "execute_result",
          "data": {
            "text/plain": [
              "0    30.0\n",
              "1    35.0\n",
              "2     NaN\n",
              "3    42.5\n",
              "4    37.5\n",
              "Name: 통계, dtype: float64"
            ]
          },
          "metadata": {
            "tags": []
          },
          "execution_count": 96
        }
      ]
    },
    {
      "cell_type": "code",
      "metadata": {
        "id": "KlTdqyqXyqh8",
        "colab": {
          "base_uri": "https://localhost:8080/"
        },
        "outputId": "062b573f-69ae-4358-9d7e-85d9ac3715a8"
      },
      "source": [
        "1000 / df['통계'] "
      ],
      "execution_count": 97,
      "outputs": [
        {
          "output_type": "execute_result",
          "data": {
            "text/plain": [
              "0    16.666667\n",
              "1    14.285714\n",
              "2          NaN\n",
              "3    11.764706\n",
              "4    13.333333\n",
              "Name: 통계, dtype: float64"
            ]
          },
          "metadata": {
            "tags": []
          },
          "execution_count": 97
        }
      ]
    },
    {
      "cell_type": "code",
      "metadata": {
        "id": "8hVQ-dqPyt3d",
        "colab": {
          "base_uri": "https://localhost:8080/"
        },
        "outputId": "ed57734a-cca2-4cdd-c492-b200539f3c61"
      },
      "source": [
        "df['통계'] / np.nan"
      ],
      "execution_count": 98,
      "outputs": [
        {
          "output_type": "execute_result",
          "data": {
            "text/plain": [
              "0   NaN\n",
              "1   NaN\n",
              "2   NaN\n",
              "3   NaN\n",
              "4   NaN\n",
              "Name: 통계, dtype: float64"
            ]
          },
          "metadata": {
            "tags": []
          },
          "execution_count": 98
        }
      ]
    },
    {
      "cell_type": "code",
      "metadata": {
        "id": "U2wSGZL3yzGb",
        "colab": {
          "base_uri": "https://localhost:8080/"
        },
        "outputId": "5d4e824c-e903-4477-c157-c84da86172a4"
      },
      "source": [
        "np.nan / df['통계']"
      ],
      "execution_count": 99,
      "outputs": [
        {
          "output_type": "execute_result",
          "data": {
            "text/plain": [
              "0   NaN\n",
              "1   NaN\n",
              "2   NaN\n",
              "3   NaN\n",
              "4   NaN\n",
              "Name: 통계, dtype: float64"
            ]
          },
          "metadata": {
            "tags": []
          },
          "execution_count": 99
        }
      ]
    },
    {
      "cell_type": "code",
      "metadata": {
        "id": "F7XcGDhj0J8i"
      },
      "source": [
        "df1 = pd.DataFrame({'통계': [60, 70, 80, 85, 75], '미술': [50, 55, 80, 100, 95], '체육': [70, 65, 50, 95, 100] })"
      ],
      "execution_count": 100,
      "outputs": []
    },
    {
      "cell_type": "code",
      "metadata": {
        "id": "8WruI_hkzEHS"
      },
      "source": [
        "df2 = pd.DataFrame({'통계': ['good', 'bad', 'ok' , 'good', 'ok'], '미술': [50, 60 , 80, 100, 95], '체육': [70, 65, 50, 70 , 100] })"
      ],
      "execution_count": 101,
      "outputs": []
    },
    {
      "cell_type": "code",
      "metadata": {
        "id": "_Q3t7Uhr0OPn",
        "colab": {
          "base_uri": "https://localhost:8080/",
          "height": 198
        },
        "outputId": "e9148543-6969-4e6c-bba9-4432c7dbce87"
      },
      "source": [
        "df1"
      ],
      "execution_count": 102,
      "outputs": [
        {
          "output_type": "execute_result",
          "data": {
            "text/html": [
              "<div>\n",
              "<style scoped>\n",
              "    .dataframe tbody tr th:only-of-type {\n",
              "        vertical-align: middle;\n",
              "    }\n",
              "\n",
              "    .dataframe tbody tr th {\n",
              "        vertical-align: top;\n",
              "    }\n",
              "\n",
              "    .dataframe thead th {\n",
              "        text-align: right;\n",
              "    }\n",
              "</style>\n",
              "<table border=\"1\" class=\"dataframe\">\n",
              "  <thead>\n",
              "    <tr style=\"text-align: right;\">\n",
              "      <th></th>\n",
              "      <th>통계</th>\n",
              "      <th>미술</th>\n",
              "      <th>체육</th>\n",
              "    </tr>\n",
              "  </thead>\n",
              "  <tbody>\n",
              "    <tr>\n",
              "      <th>0</th>\n",
              "      <td>60</td>\n",
              "      <td>50</td>\n",
              "      <td>70</td>\n",
              "    </tr>\n",
              "    <tr>\n",
              "      <th>1</th>\n",
              "      <td>70</td>\n",
              "      <td>55</td>\n",
              "      <td>65</td>\n",
              "    </tr>\n",
              "    <tr>\n",
              "      <th>2</th>\n",
              "      <td>80</td>\n",
              "      <td>80</td>\n",
              "      <td>50</td>\n",
              "    </tr>\n",
              "    <tr>\n",
              "      <th>3</th>\n",
              "      <td>85</td>\n",
              "      <td>100</td>\n",
              "      <td>95</td>\n",
              "    </tr>\n",
              "    <tr>\n",
              "      <th>4</th>\n",
              "      <td>75</td>\n",
              "      <td>95</td>\n",
              "      <td>100</td>\n",
              "    </tr>\n",
              "  </tbody>\n",
              "</table>\n",
              "</div>"
            ],
            "text/plain": [
              "   통계   미술   체육\n",
              "0  60   50   70\n",
              "1  70   55   65\n",
              "2  80   80   50\n",
              "3  85  100   95\n",
              "4  75   95  100"
            ]
          },
          "metadata": {
            "tags": []
          },
          "execution_count": 102
        }
      ]
    },
    {
      "cell_type": "code",
      "metadata": {
        "id": "X5sACc-s0Pf-",
        "colab": {
          "base_uri": "https://localhost:8080/",
          "height": 198
        },
        "outputId": "8d129e87-7a75-494b-a2b8-0bb14b4389c1"
      },
      "source": [
        "df2"
      ],
      "execution_count": 103,
      "outputs": [
        {
          "output_type": "execute_result",
          "data": {
            "text/html": [
              "<div>\n",
              "<style scoped>\n",
              "    .dataframe tbody tr th:only-of-type {\n",
              "        vertical-align: middle;\n",
              "    }\n",
              "\n",
              "    .dataframe tbody tr th {\n",
              "        vertical-align: top;\n",
              "    }\n",
              "\n",
              "    .dataframe thead th {\n",
              "        text-align: right;\n",
              "    }\n",
              "</style>\n",
              "<table border=\"1\" class=\"dataframe\">\n",
              "  <thead>\n",
              "    <tr style=\"text-align: right;\">\n",
              "      <th></th>\n",
              "      <th>통계</th>\n",
              "      <th>미술</th>\n",
              "      <th>체육</th>\n",
              "    </tr>\n",
              "  </thead>\n",
              "  <tbody>\n",
              "    <tr>\n",
              "      <th>0</th>\n",
              "      <td>good</td>\n",
              "      <td>50</td>\n",
              "      <td>70</td>\n",
              "    </tr>\n",
              "    <tr>\n",
              "      <th>1</th>\n",
              "      <td>bad</td>\n",
              "      <td>60</td>\n",
              "      <td>65</td>\n",
              "    </tr>\n",
              "    <tr>\n",
              "      <th>2</th>\n",
              "      <td>ok</td>\n",
              "      <td>80</td>\n",
              "      <td>50</td>\n",
              "    </tr>\n",
              "    <tr>\n",
              "      <th>3</th>\n",
              "      <td>good</td>\n",
              "      <td>100</td>\n",
              "      <td>70</td>\n",
              "    </tr>\n",
              "    <tr>\n",
              "      <th>4</th>\n",
              "      <td>ok</td>\n",
              "      <td>95</td>\n",
              "      <td>100</td>\n",
              "    </tr>\n",
              "  </tbody>\n",
              "</table>\n",
              "</div>"
            ],
            "text/plain": [
              "     통계   미술   체육\n",
              "0  good   50   70\n",
              "1   bad   60   65\n",
              "2    ok   80   50\n",
              "3  good  100   70\n",
              "4    ok   95  100"
            ]
          },
          "metadata": {
            "tags": []
          },
          "execution_count": 103
        }
      ]
    },
    {
      "cell_type": "code",
      "metadata": {
        "colab": {
          "base_uri": "https://localhost:8080/",
          "height": 451
        },
        "id": "mEaywpDdTA7e",
        "outputId": "9bf1d931-1181-478d-bc1c-d65d51d2dd5f"
      },
      "source": [
        "df1 + df2"
      ],
      "execution_count": 104,
      "outputs": [
        {
          "output_type": "error",
          "ename": "TypeError",
          "evalue": "ignored",
          "traceback": [
            "\u001b[0;31m---------------------------------------------------------------------------\u001b[0m",
            "\u001b[0;31mTypeError\u001b[0m                                 Traceback (most recent call last)",
            "\u001b[0;32m/usr/local/lib/python3.6/dist-packages/pandas/core/ops/array_ops.py\u001b[0m in \u001b[0;36mna_arithmetic_op\u001b[0;34m(left, right, op, is_cmp)\u001b[0m\n\u001b[1;32m    142\u001b[0m     \u001b[0;32mtry\u001b[0m\u001b[0;34m:\u001b[0m\u001b[0;34m\u001b[0m\u001b[0;34m\u001b[0m\u001b[0m\n\u001b[0;32m--> 143\u001b[0;31m         \u001b[0mresult\u001b[0m \u001b[0;34m=\u001b[0m \u001b[0mexpressions\u001b[0m\u001b[0;34m.\u001b[0m\u001b[0mevaluate\u001b[0m\u001b[0;34m(\u001b[0m\u001b[0mop\u001b[0m\u001b[0;34m,\u001b[0m \u001b[0mleft\u001b[0m\u001b[0;34m,\u001b[0m \u001b[0mright\u001b[0m\u001b[0;34m)\u001b[0m\u001b[0;34m\u001b[0m\u001b[0;34m\u001b[0m\u001b[0m\n\u001b[0m\u001b[1;32m    144\u001b[0m     \u001b[0;32mexcept\u001b[0m \u001b[0mTypeError\u001b[0m\u001b[0;34m:\u001b[0m\u001b[0;34m\u001b[0m\u001b[0;34m\u001b[0m\u001b[0m\n",
            "\u001b[0;32m/usr/local/lib/python3.6/dist-packages/pandas/core/computation/expressions.py\u001b[0m in \u001b[0;36mevaluate\u001b[0;34m(op, a, b, use_numexpr)\u001b[0m\n\u001b[1;32m    232\u001b[0m         \u001b[0;32mif\u001b[0m \u001b[0muse_numexpr\u001b[0m\u001b[0;34m:\u001b[0m\u001b[0;34m\u001b[0m\u001b[0;34m\u001b[0m\u001b[0m\n\u001b[0;32m--> 233\u001b[0;31m             \u001b[0;32mreturn\u001b[0m \u001b[0m_evaluate\u001b[0m\u001b[0;34m(\u001b[0m\u001b[0mop\u001b[0m\u001b[0;34m,\u001b[0m \u001b[0mop_str\u001b[0m\u001b[0;34m,\u001b[0m \u001b[0ma\u001b[0m\u001b[0;34m,\u001b[0m \u001b[0mb\u001b[0m\u001b[0;34m)\u001b[0m  \u001b[0;31m# type: ignore\u001b[0m\u001b[0;34m\u001b[0m\u001b[0;34m\u001b[0m\u001b[0m\n\u001b[0m\u001b[1;32m    234\u001b[0m     \u001b[0;32mreturn\u001b[0m \u001b[0m_evaluate_standard\u001b[0m\u001b[0;34m(\u001b[0m\u001b[0mop\u001b[0m\u001b[0;34m,\u001b[0m \u001b[0mop_str\u001b[0m\u001b[0;34m,\u001b[0m \u001b[0ma\u001b[0m\u001b[0;34m,\u001b[0m \u001b[0mb\u001b[0m\u001b[0;34m)\u001b[0m\u001b[0;34m\u001b[0m\u001b[0;34m\u001b[0m\u001b[0m\n",
            "\u001b[0;32m/usr/local/lib/python3.6/dist-packages/pandas/core/computation/expressions.py\u001b[0m in \u001b[0;36m_evaluate_numexpr\u001b[0;34m(op, op_str, a, b)\u001b[0m\n\u001b[1;32m    118\u001b[0m     \u001b[0;32mif\u001b[0m \u001b[0mresult\u001b[0m \u001b[0;32mis\u001b[0m \u001b[0;32mNone\u001b[0m\u001b[0;34m:\u001b[0m\u001b[0;34m\u001b[0m\u001b[0;34m\u001b[0m\u001b[0m\n\u001b[0;32m--> 119\u001b[0;31m         \u001b[0mresult\u001b[0m \u001b[0;34m=\u001b[0m \u001b[0m_evaluate_standard\u001b[0m\u001b[0;34m(\u001b[0m\u001b[0mop\u001b[0m\u001b[0;34m,\u001b[0m \u001b[0mop_str\u001b[0m\u001b[0;34m,\u001b[0m \u001b[0ma\u001b[0m\u001b[0;34m,\u001b[0m \u001b[0mb\u001b[0m\u001b[0;34m)\u001b[0m\u001b[0;34m\u001b[0m\u001b[0;34m\u001b[0m\u001b[0m\n\u001b[0m\u001b[1;32m    120\u001b[0m \u001b[0;34m\u001b[0m\u001b[0m\n",
            "\u001b[0;32m/usr/local/lib/python3.6/dist-packages/pandas/core/computation/expressions.py\u001b[0m in \u001b[0;36m_evaluate_standard\u001b[0;34m(op, op_str, a, b)\u001b[0m\n\u001b[1;32m     67\u001b[0m     \u001b[0;32mwith\u001b[0m \u001b[0mnp\u001b[0m\u001b[0;34m.\u001b[0m\u001b[0merrstate\u001b[0m\u001b[0;34m(\u001b[0m\u001b[0mall\u001b[0m\u001b[0;34m=\u001b[0m\u001b[0;34m\"ignore\"\u001b[0m\u001b[0;34m)\u001b[0m\u001b[0;34m:\u001b[0m\u001b[0;34m\u001b[0m\u001b[0;34m\u001b[0m\u001b[0m\n\u001b[0;32m---> 68\u001b[0;31m         \u001b[0;32mreturn\u001b[0m \u001b[0mop\u001b[0m\u001b[0;34m(\u001b[0m\u001b[0ma\u001b[0m\u001b[0;34m,\u001b[0m \u001b[0mb\u001b[0m\u001b[0;34m)\u001b[0m\u001b[0;34m\u001b[0m\u001b[0;34m\u001b[0m\u001b[0m\n\u001b[0m\u001b[1;32m     69\u001b[0m \u001b[0;34m\u001b[0m\u001b[0m\n",
            "\u001b[0;31mTypeError\u001b[0m: unsupported operand type(s) for +: 'int' and 'str'",
            "\nDuring handling of the above exception, another exception occurred:\n",
            "\u001b[0;31mTypeError\u001b[0m                                 Traceback (most recent call last)",
            "\u001b[0;32m<ipython-input-104-fa4784095cc3>\u001b[0m in \u001b[0;36m<module>\u001b[0;34m()\u001b[0m\n\u001b[0;32m----> 1\u001b[0;31m \u001b[0mdf1\u001b[0m \u001b[0;34m+\u001b[0m \u001b[0mdf2\u001b[0m\u001b[0;34m\u001b[0m\u001b[0;34m\u001b[0m\u001b[0m\n\u001b[0m",
            "\u001b[0;32m/usr/local/lib/python3.6/dist-packages/pandas/core/ops/__init__.py\u001b[0m in \u001b[0;36mf\u001b[0;34m(self, other, axis, level, fill_value)\u001b[0m\n\u001b[1;32m    653\u001b[0m         \u001b[0;32mif\u001b[0m \u001b[0misinstance\u001b[0m\u001b[0;34m(\u001b[0m\u001b[0mother\u001b[0m\u001b[0;34m,\u001b[0m \u001b[0mABCDataFrame\u001b[0m\u001b[0;34m)\u001b[0m\u001b[0;34m:\u001b[0m\u001b[0;34m\u001b[0m\u001b[0;34m\u001b[0m\u001b[0m\n\u001b[1;32m    654\u001b[0m             \u001b[0;31m# Another DataFrame\u001b[0m\u001b[0;34m\u001b[0m\u001b[0;34m\u001b[0m\u001b[0;34m\u001b[0m\u001b[0m\n\u001b[0;32m--> 655\u001b[0;31m             \u001b[0mnew_data\u001b[0m \u001b[0;34m=\u001b[0m \u001b[0mself\u001b[0m\u001b[0;34m.\u001b[0m\u001b[0m_combine_frame\u001b[0m\u001b[0;34m(\u001b[0m\u001b[0mother\u001b[0m\u001b[0;34m,\u001b[0m \u001b[0mna_op\u001b[0m\u001b[0;34m,\u001b[0m \u001b[0mfill_value\u001b[0m\u001b[0;34m)\u001b[0m\u001b[0;34m\u001b[0m\u001b[0;34m\u001b[0m\u001b[0m\n\u001b[0m\u001b[1;32m    656\u001b[0m \u001b[0;34m\u001b[0m\u001b[0m\n\u001b[1;32m    657\u001b[0m         \u001b[0;32melif\u001b[0m \u001b[0misinstance\u001b[0m\u001b[0;34m(\u001b[0m\u001b[0mother\u001b[0m\u001b[0;34m,\u001b[0m \u001b[0mABCSeries\u001b[0m\u001b[0;34m)\u001b[0m\u001b[0;34m:\u001b[0m\u001b[0;34m\u001b[0m\u001b[0;34m\u001b[0m\u001b[0m\n",
            "\u001b[0;32m/usr/local/lib/python3.6/dist-packages/pandas/core/frame.py\u001b[0m in \u001b[0;36m_combine_frame\u001b[0;34m(self, other, func, fill_value)\u001b[0m\n\u001b[1;32m   5868\u001b[0m                 \u001b[0;32mreturn\u001b[0m \u001b[0mfunc\u001b[0m\u001b[0;34m(\u001b[0m\u001b[0mleft\u001b[0m\u001b[0;34m,\u001b[0m \u001b[0mright\u001b[0m\u001b[0;34m)\u001b[0m\u001b[0;34m\u001b[0m\u001b[0;34m\u001b[0m\u001b[0m\n\u001b[1;32m   5869\u001b[0m \u001b[0;34m\u001b[0m\u001b[0m\n\u001b[0;32m-> 5870\u001b[0;31m         \u001b[0mnew_data\u001b[0m \u001b[0;34m=\u001b[0m \u001b[0mops\u001b[0m\u001b[0;34m.\u001b[0m\u001b[0mdispatch_to_series\u001b[0m\u001b[0;34m(\u001b[0m\u001b[0mself\u001b[0m\u001b[0;34m,\u001b[0m \u001b[0mother\u001b[0m\u001b[0;34m,\u001b[0m \u001b[0m_arith_op\u001b[0m\u001b[0;34m)\u001b[0m\u001b[0;34m\u001b[0m\u001b[0;34m\u001b[0m\u001b[0m\n\u001b[0m\u001b[1;32m   5871\u001b[0m         \u001b[0;32mreturn\u001b[0m \u001b[0mnew_data\u001b[0m\u001b[0;34m\u001b[0m\u001b[0;34m\u001b[0m\u001b[0m\n\u001b[1;32m   5872\u001b[0m \u001b[0;34m\u001b[0m\u001b[0m\n",
            "\u001b[0;32m/usr/local/lib/python3.6/dist-packages/pandas/core/ops/__init__.py\u001b[0m in \u001b[0;36mdispatch_to_series\u001b[0;34m(left, right, func, axis)\u001b[0m\n\u001b[1;32m    273\u001b[0m         \u001b[0;31m#  _frame_arith_method_with_reindex\u001b[0m\u001b[0;34m\u001b[0m\u001b[0;34m\u001b[0m\u001b[0;34m\u001b[0m\u001b[0m\n\u001b[1;32m    274\u001b[0m \u001b[0;34m\u001b[0m\u001b[0m\n\u001b[0;32m--> 275\u001b[0;31m         \u001b[0mbm\u001b[0m \u001b[0;34m=\u001b[0m \u001b[0mleft\u001b[0m\u001b[0;34m.\u001b[0m\u001b[0m_mgr\u001b[0m\u001b[0;34m.\u001b[0m\u001b[0moperate_blockwise\u001b[0m\u001b[0;34m(\u001b[0m\u001b[0mright\u001b[0m\u001b[0;34m.\u001b[0m\u001b[0m_mgr\u001b[0m\u001b[0;34m,\u001b[0m \u001b[0marray_op\u001b[0m\u001b[0;34m)\u001b[0m\u001b[0;34m\u001b[0m\u001b[0;34m\u001b[0m\u001b[0m\n\u001b[0m\u001b[1;32m    276\u001b[0m         \u001b[0;32mreturn\u001b[0m \u001b[0mtype\u001b[0m\u001b[0;34m(\u001b[0m\u001b[0mleft\u001b[0m\u001b[0;34m)\u001b[0m\u001b[0;34m(\u001b[0m\u001b[0mbm\u001b[0m\u001b[0;34m)\u001b[0m\u001b[0;34m\u001b[0m\u001b[0;34m\u001b[0m\u001b[0m\n\u001b[1;32m    277\u001b[0m \u001b[0;34m\u001b[0m\u001b[0m\n",
            "\u001b[0;32m/usr/local/lib/python3.6/dist-packages/pandas/core/internals/managers.py\u001b[0m in \u001b[0;36moperate_blockwise\u001b[0;34m(self, other, array_op)\u001b[0m\n\u001b[1;32m    365\u001b[0m         \u001b[0mApply\u001b[0m \u001b[0marray_op\u001b[0m \u001b[0mblockwise\u001b[0m \u001b[0;32mwith\u001b[0m \u001b[0manother\u001b[0m \u001b[0;34m(\u001b[0m\u001b[0maligned\u001b[0m\u001b[0;34m)\u001b[0m \u001b[0mBlockManager\u001b[0m\u001b[0;34m.\u001b[0m\u001b[0;34m\u001b[0m\u001b[0;34m\u001b[0m\u001b[0m\n\u001b[1;32m    366\u001b[0m         \"\"\"\n\u001b[0;32m--> 367\u001b[0;31m         \u001b[0;32mreturn\u001b[0m \u001b[0moperate_blockwise\u001b[0m\u001b[0;34m(\u001b[0m\u001b[0mself\u001b[0m\u001b[0;34m,\u001b[0m \u001b[0mother\u001b[0m\u001b[0;34m,\u001b[0m \u001b[0marray_op\u001b[0m\u001b[0;34m)\u001b[0m\u001b[0;34m\u001b[0m\u001b[0;34m\u001b[0m\u001b[0m\n\u001b[0m\u001b[1;32m    368\u001b[0m \u001b[0;34m\u001b[0m\u001b[0m\n\u001b[1;32m    369\u001b[0m     \u001b[0;32mdef\u001b[0m \u001b[0mapply\u001b[0m\u001b[0;34m(\u001b[0m\u001b[0mself\u001b[0m\u001b[0;34m:\u001b[0m \u001b[0mT\u001b[0m\u001b[0;34m,\u001b[0m \u001b[0mf\u001b[0m\u001b[0;34m,\u001b[0m \u001b[0malign_keys\u001b[0m\u001b[0;34m=\u001b[0m\u001b[0;32mNone\u001b[0m\u001b[0;34m,\u001b[0m \u001b[0;34m**\u001b[0m\u001b[0mkwargs\u001b[0m\u001b[0;34m)\u001b[0m \u001b[0;34m->\u001b[0m \u001b[0mT\u001b[0m\u001b[0;34m:\u001b[0m\u001b[0;34m\u001b[0m\u001b[0;34m\u001b[0m\u001b[0m\n",
            "\u001b[0;32m/usr/local/lib/python3.6/dist-packages/pandas/core/internals/ops.py\u001b[0m in \u001b[0;36moperate_blockwise\u001b[0;34m(left, right, array_op)\u001b[0m\n\u001b[1;32m     36\u001b[0m             \u001b[0mlvals\u001b[0m\u001b[0;34m,\u001b[0m \u001b[0mrvals\u001b[0m \u001b[0;34m=\u001b[0m \u001b[0m_get_same_shape_values\u001b[0m\u001b[0;34m(\u001b[0m\u001b[0mblk\u001b[0m\u001b[0;34m,\u001b[0m \u001b[0mrblk\u001b[0m\u001b[0;34m,\u001b[0m \u001b[0mleft_ea\u001b[0m\u001b[0;34m,\u001b[0m \u001b[0mright_ea\u001b[0m\u001b[0;34m)\u001b[0m\u001b[0;34m\u001b[0m\u001b[0;34m\u001b[0m\u001b[0m\n\u001b[1;32m     37\u001b[0m \u001b[0;34m\u001b[0m\u001b[0m\n\u001b[0;32m---> 38\u001b[0;31m             \u001b[0mres_values\u001b[0m \u001b[0;34m=\u001b[0m \u001b[0marray_op\u001b[0m\u001b[0;34m(\u001b[0m\u001b[0mlvals\u001b[0m\u001b[0;34m,\u001b[0m \u001b[0mrvals\u001b[0m\u001b[0;34m)\u001b[0m\u001b[0;34m\u001b[0m\u001b[0;34m\u001b[0m\u001b[0m\n\u001b[0m\u001b[1;32m     39\u001b[0m             \u001b[0;32mif\u001b[0m \u001b[0mleft_ea\u001b[0m \u001b[0;32mand\u001b[0m \u001b[0;32mnot\u001b[0m \u001b[0mright_ea\u001b[0m \u001b[0;32mand\u001b[0m \u001b[0mhasattr\u001b[0m\u001b[0;34m(\u001b[0m\u001b[0mres_values\u001b[0m\u001b[0;34m,\u001b[0m \u001b[0;34m\"reshape\"\u001b[0m\u001b[0;34m)\u001b[0m\u001b[0;34m:\u001b[0m\u001b[0;34m\u001b[0m\u001b[0;34m\u001b[0m\u001b[0m\n\u001b[1;32m     40\u001b[0m                 \u001b[0mres_values\u001b[0m \u001b[0;34m=\u001b[0m \u001b[0mres_values\u001b[0m\u001b[0;34m.\u001b[0m\u001b[0mreshape\u001b[0m\u001b[0;34m(\u001b[0m\u001b[0;36m1\u001b[0m\u001b[0;34m,\u001b[0m \u001b[0;34m-\u001b[0m\u001b[0;36m1\u001b[0m\u001b[0;34m)\u001b[0m\u001b[0;34m\u001b[0m\u001b[0;34m\u001b[0m\u001b[0m\n",
            "\u001b[0;32m/usr/local/lib/python3.6/dist-packages/pandas/core/ops/array_ops.py\u001b[0m in \u001b[0;36marithmetic_op\u001b[0;34m(left, right, op)\u001b[0m\n\u001b[1;32m    188\u001b[0m     \u001b[0;32melse\u001b[0m\u001b[0;34m:\u001b[0m\u001b[0;34m\u001b[0m\u001b[0;34m\u001b[0m\u001b[0m\n\u001b[1;32m    189\u001b[0m         \u001b[0;32mwith\u001b[0m \u001b[0mnp\u001b[0m\u001b[0;34m.\u001b[0m\u001b[0merrstate\u001b[0m\u001b[0;34m(\u001b[0m\u001b[0mall\u001b[0m\u001b[0;34m=\u001b[0m\u001b[0;34m\"ignore\"\u001b[0m\u001b[0;34m)\u001b[0m\u001b[0;34m:\u001b[0m\u001b[0;34m\u001b[0m\u001b[0;34m\u001b[0m\u001b[0m\n\u001b[0;32m--> 190\u001b[0;31m             \u001b[0mres_values\u001b[0m \u001b[0;34m=\u001b[0m \u001b[0mna_arithmetic_op\u001b[0m\u001b[0;34m(\u001b[0m\u001b[0mlvalues\u001b[0m\u001b[0;34m,\u001b[0m \u001b[0mrvalues\u001b[0m\u001b[0;34m,\u001b[0m \u001b[0mop\u001b[0m\u001b[0;34m)\u001b[0m\u001b[0;34m\u001b[0m\u001b[0;34m\u001b[0m\u001b[0m\n\u001b[0m\u001b[1;32m    191\u001b[0m \u001b[0;34m\u001b[0m\u001b[0m\n\u001b[1;32m    192\u001b[0m     \u001b[0;32mreturn\u001b[0m \u001b[0mres_values\u001b[0m\u001b[0;34m\u001b[0m\u001b[0;34m\u001b[0m\u001b[0m\n",
            "\u001b[0;32m/usr/local/lib/python3.6/dist-packages/pandas/core/ops/array_ops.py\u001b[0m in \u001b[0;36mna_arithmetic_op\u001b[0;34m(left, right, op, is_cmp)\u001b[0m\n\u001b[1;32m    148\u001b[0m             \u001b[0;31m#  will handle complex numbers incorrectly, see GH#32047\u001b[0m\u001b[0;34m\u001b[0m\u001b[0;34m\u001b[0m\u001b[0;34m\u001b[0m\u001b[0m\n\u001b[1;32m    149\u001b[0m             \u001b[0;32mraise\u001b[0m\u001b[0;34m\u001b[0m\u001b[0;34m\u001b[0m\u001b[0m\n\u001b[0;32m--> 150\u001b[0;31m         \u001b[0mresult\u001b[0m \u001b[0;34m=\u001b[0m \u001b[0mmasked_arith_op\u001b[0m\u001b[0;34m(\u001b[0m\u001b[0mleft\u001b[0m\u001b[0;34m,\u001b[0m \u001b[0mright\u001b[0m\u001b[0;34m,\u001b[0m \u001b[0mop\u001b[0m\u001b[0;34m)\u001b[0m\u001b[0;34m\u001b[0m\u001b[0;34m\u001b[0m\u001b[0m\n\u001b[0m\u001b[1;32m    151\u001b[0m \u001b[0;34m\u001b[0m\u001b[0m\n\u001b[1;32m    152\u001b[0m     \u001b[0;32mif\u001b[0m \u001b[0mis_cmp\u001b[0m \u001b[0;32mand\u001b[0m \u001b[0;34m(\u001b[0m\u001b[0mis_scalar\u001b[0m\u001b[0;34m(\u001b[0m\u001b[0mresult\u001b[0m\u001b[0;34m)\u001b[0m \u001b[0;32mor\u001b[0m \u001b[0mresult\u001b[0m \u001b[0;32mis\u001b[0m \u001b[0mNotImplemented\u001b[0m\u001b[0;34m)\u001b[0m\u001b[0;34m:\u001b[0m\u001b[0;34m\u001b[0m\u001b[0;34m\u001b[0m\u001b[0m\n",
            "\u001b[0;32m/usr/local/lib/python3.6/dist-packages/pandas/core/ops/array_ops.py\u001b[0m in \u001b[0;36mmasked_arith_op\u001b[0;34m(x, y, op)\u001b[0m\n\u001b[1;32m     90\u001b[0m         \u001b[0;32mif\u001b[0m \u001b[0mmask\u001b[0m\u001b[0;34m.\u001b[0m\u001b[0many\u001b[0m\u001b[0;34m(\u001b[0m\u001b[0;34m)\u001b[0m\u001b[0;34m:\u001b[0m\u001b[0;34m\u001b[0m\u001b[0;34m\u001b[0m\u001b[0m\n\u001b[1;32m     91\u001b[0m             \u001b[0;32mwith\u001b[0m \u001b[0mnp\u001b[0m\u001b[0;34m.\u001b[0m\u001b[0merrstate\u001b[0m\u001b[0;34m(\u001b[0m\u001b[0mall\u001b[0m\u001b[0;34m=\u001b[0m\u001b[0;34m\"ignore\"\u001b[0m\u001b[0;34m)\u001b[0m\u001b[0;34m:\u001b[0m\u001b[0;34m\u001b[0m\u001b[0;34m\u001b[0m\u001b[0m\n\u001b[0;32m---> 92\u001b[0;31m                 \u001b[0mresult\u001b[0m\u001b[0;34m[\u001b[0m\u001b[0mmask\u001b[0m\u001b[0;34m]\u001b[0m \u001b[0;34m=\u001b[0m \u001b[0mop\u001b[0m\u001b[0;34m(\u001b[0m\u001b[0mxrav\u001b[0m\u001b[0;34m[\u001b[0m\u001b[0mmask\u001b[0m\u001b[0;34m]\u001b[0m\u001b[0;34m,\u001b[0m \u001b[0myrav\u001b[0m\u001b[0;34m[\u001b[0m\u001b[0mmask\u001b[0m\u001b[0;34m]\u001b[0m\u001b[0;34m)\u001b[0m\u001b[0;34m\u001b[0m\u001b[0;34m\u001b[0m\u001b[0m\n\u001b[0m\u001b[1;32m     93\u001b[0m \u001b[0;34m\u001b[0m\u001b[0m\n\u001b[1;32m     94\u001b[0m     \u001b[0;32melse\u001b[0m\u001b[0;34m:\u001b[0m\u001b[0;34m\u001b[0m\u001b[0;34m\u001b[0m\u001b[0m\n",
            "\u001b[0;31mTypeError\u001b[0m: unsupported operand type(s) for +: 'int' and 'str'"
          ]
        }
      ]
    },
    {
      "cell_type": "code",
      "metadata": {
        "id": "q5jxzMrb14Wi",
        "colab": {
          "base_uri": "https://localhost:8080/",
          "height": 198
        },
        "outputId": "9d447a6c-561d-4e95-f88a-e2fa1f5654e9"
      },
      "source": [
        "df1 + 10"
      ],
      "execution_count": 105,
      "outputs": [
        {
          "output_type": "execute_result",
          "data": {
            "text/html": [
              "<div>\n",
              "<style scoped>\n",
              "    .dataframe tbody tr th:only-of-type {\n",
              "        vertical-align: middle;\n",
              "    }\n",
              "\n",
              "    .dataframe tbody tr th {\n",
              "        vertical-align: top;\n",
              "    }\n",
              "\n",
              "    .dataframe thead th {\n",
              "        text-align: right;\n",
              "    }\n",
              "</style>\n",
              "<table border=\"1\" class=\"dataframe\">\n",
              "  <thead>\n",
              "    <tr style=\"text-align: right;\">\n",
              "      <th></th>\n",
              "      <th>통계</th>\n",
              "      <th>미술</th>\n",
              "      <th>체육</th>\n",
              "    </tr>\n",
              "  </thead>\n",
              "  <tbody>\n",
              "    <tr>\n",
              "      <th>0</th>\n",
              "      <td>70</td>\n",
              "      <td>60</td>\n",
              "      <td>80</td>\n",
              "    </tr>\n",
              "    <tr>\n",
              "      <th>1</th>\n",
              "      <td>80</td>\n",
              "      <td>65</td>\n",
              "      <td>75</td>\n",
              "    </tr>\n",
              "    <tr>\n",
              "      <th>2</th>\n",
              "      <td>90</td>\n",
              "      <td>90</td>\n",
              "      <td>60</td>\n",
              "    </tr>\n",
              "    <tr>\n",
              "      <th>3</th>\n",
              "      <td>95</td>\n",
              "      <td>110</td>\n",
              "      <td>105</td>\n",
              "    </tr>\n",
              "    <tr>\n",
              "      <th>4</th>\n",
              "      <td>85</td>\n",
              "      <td>105</td>\n",
              "      <td>110</td>\n",
              "    </tr>\n",
              "  </tbody>\n",
              "</table>\n",
              "</div>"
            ],
            "text/plain": [
              "   통계   미술   체육\n",
              "0  70   60   80\n",
              "1  80   65   75\n",
              "2  90   90   60\n",
              "3  95  110  105\n",
              "4  85  105  110"
            ]
          },
          "metadata": {
            "tags": []
          },
          "execution_count": 105
        }
      ]
    },
    {
      "cell_type": "code",
      "metadata": {
        "id": "mZK4Hokz182D",
        "colab": {
          "base_uri": "https://localhost:8080/",
          "height": 451
        },
        "outputId": "977be04d-d014-4a41-d13b-42edecaabafe"
      },
      "source": [
        "df2 + 10"
      ],
      "execution_count": 106,
      "outputs": [
        {
          "output_type": "error",
          "ename": "TypeError",
          "evalue": "ignored",
          "traceback": [
            "\u001b[0;31m---------------------------------------------------------------------------\u001b[0m",
            "\u001b[0;31mTypeError\u001b[0m                                 Traceback (most recent call last)",
            "\u001b[0;32m/usr/local/lib/python3.6/dist-packages/pandas/core/ops/array_ops.py\u001b[0m in \u001b[0;36mna_arithmetic_op\u001b[0;34m(left, right, op, is_cmp)\u001b[0m\n\u001b[1;32m    142\u001b[0m     \u001b[0;32mtry\u001b[0m\u001b[0;34m:\u001b[0m\u001b[0;34m\u001b[0m\u001b[0;34m\u001b[0m\u001b[0m\n\u001b[0;32m--> 143\u001b[0;31m         \u001b[0mresult\u001b[0m \u001b[0;34m=\u001b[0m \u001b[0mexpressions\u001b[0m\u001b[0;34m.\u001b[0m\u001b[0mevaluate\u001b[0m\u001b[0;34m(\u001b[0m\u001b[0mop\u001b[0m\u001b[0;34m,\u001b[0m \u001b[0mleft\u001b[0m\u001b[0;34m,\u001b[0m \u001b[0mright\u001b[0m\u001b[0;34m)\u001b[0m\u001b[0;34m\u001b[0m\u001b[0;34m\u001b[0m\u001b[0m\n\u001b[0m\u001b[1;32m    144\u001b[0m     \u001b[0;32mexcept\u001b[0m \u001b[0mTypeError\u001b[0m\u001b[0;34m:\u001b[0m\u001b[0;34m\u001b[0m\u001b[0;34m\u001b[0m\u001b[0m\n",
            "\u001b[0;32m/usr/local/lib/python3.6/dist-packages/pandas/core/computation/expressions.py\u001b[0m in \u001b[0;36mevaluate\u001b[0;34m(op, a, b, use_numexpr)\u001b[0m\n\u001b[1;32m    232\u001b[0m         \u001b[0;32mif\u001b[0m \u001b[0muse_numexpr\u001b[0m\u001b[0;34m:\u001b[0m\u001b[0;34m\u001b[0m\u001b[0;34m\u001b[0m\u001b[0m\n\u001b[0;32m--> 233\u001b[0;31m             \u001b[0;32mreturn\u001b[0m \u001b[0m_evaluate\u001b[0m\u001b[0;34m(\u001b[0m\u001b[0mop\u001b[0m\u001b[0;34m,\u001b[0m \u001b[0mop_str\u001b[0m\u001b[0;34m,\u001b[0m \u001b[0ma\u001b[0m\u001b[0;34m,\u001b[0m \u001b[0mb\u001b[0m\u001b[0;34m)\u001b[0m  \u001b[0;31m# type: ignore\u001b[0m\u001b[0;34m\u001b[0m\u001b[0;34m\u001b[0m\u001b[0m\n\u001b[0m\u001b[1;32m    234\u001b[0m     \u001b[0;32mreturn\u001b[0m \u001b[0m_evaluate_standard\u001b[0m\u001b[0;34m(\u001b[0m\u001b[0mop\u001b[0m\u001b[0;34m,\u001b[0m \u001b[0mop_str\u001b[0m\u001b[0;34m,\u001b[0m \u001b[0ma\u001b[0m\u001b[0;34m,\u001b[0m \u001b[0mb\u001b[0m\u001b[0;34m)\u001b[0m\u001b[0;34m\u001b[0m\u001b[0;34m\u001b[0m\u001b[0m\n",
            "\u001b[0;32m/usr/local/lib/python3.6/dist-packages/pandas/core/computation/expressions.py\u001b[0m in \u001b[0;36m_evaluate_numexpr\u001b[0;34m(op, op_str, a, b)\u001b[0m\n\u001b[1;32m    118\u001b[0m     \u001b[0;32mif\u001b[0m \u001b[0mresult\u001b[0m \u001b[0;32mis\u001b[0m \u001b[0;32mNone\u001b[0m\u001b[0;34m:\u001b[0m\u001b[0;34m\u001b[0m\u001b[0;34m\u001b[0m\u001b[0m\n\u001b[0;32m--> 119\u001b[0;31m         \u001b[0mresult\u001b[0m \u001b[0;34m=\u001b[0m \u001b[0m_evaluate_standard\u001b[0m\u001b[0;34m(\u001b[0m\u001b[0mop\u001b[0m\u001b[0;34m,\u001b[0m \u001b[0mop_str\u001b[0m\u001b[0;34m,\u001b[0m \u001b[0ma\u001b[0m\u001b[0;34m,\u001b[0m \u001b[0mb\u001b[0m\u001b[0;34m)\u001b[0m\u001b[0;34m\u001b[0m\u001b[0;34m\u001b[0m\u001b[0m\n\u001b[0m\u001b[1;32m    120\u001b[0m \u001b[0;34m\u001b[0m\u001b[0m\n",
            "\u001b[0;32m/usr/local/lib/python3.6/dist-packages/pandas/core/computation/expressions.py\u001b[0m in \u001b[0;36m_evaluate_standard\u001b[0;34m(op, op_str, a, b)\u001b[0m\n\u001b[1;32m     67\u001b[0m     \u001b[0;32mwith\u001b[0m \u001b[0mnp\u001b[0m\u001b[0;34m.\u001b[0m\u001b[0merrstate\u001b[0m\u001b[0;34m(\u001b[0m\u001b[0mall\u001b[0m\u001b[0;34m=\u001b[0m\u001b[0;34m\"ignore\"\u001b[0m\u001b[0;34m)\u001b[0m\u001b[0;34m:\u001b[0m\u001b[0;34m\u001b[0m\u001b[0;34m\u001b[0m\u001b[0m\n\u001b[0;32m---> 68\u001b[0;31m         \u001b[0;32mreturn\u001b[0m \u001b[0mop\u001b[0m\u001b[0;34m(\u001b[0m\u001b[0ma\u001b[0m\u001b[0;34m,\u001b[0m \u001b[0mb\u001b[0m\u001b[0;34m)\u001b[0m\u001b[0;34m\u001b[0m\u001b[0;34m\u001b[0m\u001b[0m\n\u001b[0m\u001b[1;32m     69\u001b[0m \u001b[0;34m\u001b[0m\u001b[0m\n",
            "\u001b[0;31mTypeError\u001b[0m: must be str, not int",
            "\nDuring handling of the above exception, another exception occurred:\n",
            "\u001b[0;31mTypeError\u001b[0m                                 Traceback (most recent call last)",
            "\u001b[0;32m<ipython-input-106-07ab6372712b>\u001b[0m in \u001b[0;36m<module>\u001b[0;34m()\u001b[0m\n\u001b[0;32m----> 1\u001b[0;31m \u001b[0mdf2\u001b[0m \u001b[0;34m+\u001b[0m \u001b[0;36m10\u001b[0m\u001b[0;34m\u001b[0m\u001b[0;34m\u001b[0m\u001b[0m\n\u001b[0m",
            "\u001b[0;32m/usr/local/lib/python3.6/dist-packages/pandas/core/ops/__init__.py\u001b[0m in \u001b[0;36mf\u001b[0;34m(self, other, axis, level, fill_value)\u001b[0m\n\u001b[1;32m    662\u001b[0m                 \u001b[0mself\u001b[0m \u001b[0;34m=\u001b[0m \u001b[0mself\u001b[0m\u001b[0;34m.\u001b[0m\u001b[0mfillna\u001b[0m\u001b[0;34m(\u001b[0m\u001b[0mfill_value\u001b[0m\u001b[0;34m)\u001b[0m\u001b[0;34m\u001b[0m\u001b[0;34m\u001b[0m\u001b[0m\n\u001b[1;32m    663\u001b[0m \u001b[0;34m\u001b[0m\u001b[0m\n\u001b[0;32m--> 664\u001b[0;31m             \u001b[0mnew_data\u001b[0m \u001b[0;34m=\u001b[0m \u001b[0mdispatch_to_series\u001b[0m\u001b[0;34m(\u001b[0m\u001b[0mself\u001b[0m\u001b[0;34m,\u001b[0m \u001b[0mother\u001b[0m\u001b[0;34m,\u001b[0m \u001b[0mop\u001b[0m\u001b[0;34m)\u001b[0m\u001b[0;34m\u001b[0m\u001b[0;34m\u001b[0m\u001b[0m\n\u001b[0m\u001b[1;32m    665\u001b[0m \u001b[0;34m\u001b[0m\u001b[0m\n\u001b[1;32m    666\u001b[0m         \u001b[0;32mreturn\u001b[0m \u001b[0mself\u001b[0m\u001b[0;34m.\u001b[0m\u001b[0m_construct_result\u001b[0m\u001b[0;34m(\u001b[0m\u001b[0mnew_data\u001b[0m\u001b[0;34m)\u001b[0m\u001b[0;34m\u001b[0m\u001b[0;34m\u001b[0m\u001b[0m\n",
            "\u001b[0;32m/usr/local/lib/python3.6/dist-packages/pandas/core/ops/__init__.py\u001b[0m in \u001b[0;36mdispatch_to_series\u001b[0;34m(left, right, func, axis)\u001b[0m\n\u001b[1;32m    263\u001b[0m     \u001b[0;32mif\u001b[0m \u001b[0;32mnot\u001b[0m \u001b[0mis_list_like\u001b[0m\u001b[0;34m(\u001b[0m\u001b[0mright\u001b[0m\u001b[0;34m)\u001b[0m\u001b[0;34m:\u001b[0m\u001b[0;34m\u001b[0m\u001b[0;34m\u001b[0m\u001b[0m\n\u001b[1;32m    264\u001b[0m         \u001b[0;31m# i.e. scalar, faster than checking np.ndim(right) == 0\u001b[0m\u001b[0;34m\u001b[0m\u001b[0;34m\u001b[0m\u001b[0;34m\u001b[0m\u001b[0m\n\u001b[0;32m--> 265\u001b[0;31m         \u001b[0mbm\u001b[0m \u001b[0;34m=\u001b[0m \u001b[0mleft\u001b[0m\u001b[0;34m.\u001b[0m\u001b[0m_mgr\u001b[0m\u001b[0;34m.\u001b[0m\u001b[0mapply\u001b[0m\u001b[0;34m(\u001b[0m\u001b[0marray_op\u001b[0m\u001b[0;34m,\u001b[0m \u001b[0mright\u001b[0m\u001b[0;34m=\u001b[0m\u001b[0mright\u001b[0m\u001b[0;34m)\u001b[0m\u001b[0;34m\u001b[0m\u001b[0;34m\u001b[0m\u001b[0m\n\u001b[0m\u001b[1;32m    266\u001b[0m         \u001b[0;32mreturn\u001b[0m \u001b[0mtype\u001b[0m\u001b[0;34m(\u001b[0m\u001b[0mleft\u001b[0m\u001b[0;34m)\u001b[0m\u001b[0;34m(\u001b[0m\u001b[0mbm\u001b[0m\u001b[0;34m)\u001b[0m\u001b[0;34m\u001b[0m\u001b[0;34m\u001b[0m\u001b[0m\n\u001b[1;32m    267\u001b[0m \u001b[0;34m\u001b[0m\u001b[0m\n",
            "\u001b[0;32m/usr/local/lib/python3.6/dist-packages/pandas/core/internals/managers.py\u001b[0m in \u001b[0;36mapply\u001b[0;34m(self, f, align_keys, **kwargs)\u001b[0m\n\u001b[1;32m    405\u001b[0m \u001b[0;34m\u001b[0m\u001b[0m\n\u001b[1;32m    406\u001b[0m             \u001b[0;32mif\u001b[0m \u001b[0mcallable\u001b[0m\u001b[0;34m(\u001b[0m\u001b[0mf\u001b[0m\u001b[0;34m)\u001b[0m\u001b[0;34m:\u001b[0m\u001b[0;34m\u001b[0m\u001b[0;34m\u001b[0m\u001b[0m\n\u001b[0;32m--> 407\u001b[0;31m                 \u001b[0mapplied\u001b[0m \u001b[0;34m=\u001b[0m \u001b[0mb\u001b[0m\u001b[0;34m.\u001b[0m\u001b[0mapply\u001b[0m\u001b[0;34m(\u001b[0m\u001b[0mf\u001b[0m\u001b[0;34m,\u001b[0m \u001b[0;34m**\u001b[0m\u001b[0mkwargs\u001b[0m\u001b[0;34m)\u001b[0m\u001b[0;34m\u001b[0m\u001b[0;34m\u001b[0m\u001b[0m\n\u001b[0m\u001b[1;32m    408\u001b[0m             \u001b[0;32melse\u001b[0m\u001b[0;34m:\u001b[0m\u001b[0;34m\u001b[0m\u001b[0;34m\u001b[0m\u001b[0m\n\u001b[1;32m    409\u001b[0m                 \u001b[0mapplied\u001b[0m \u001b[0;34m=\u001b[0m \u001b[0mgetattr\u001b[0m\u001b[0;34m(\u001b[0m\u001b[0mb\u001b[0m\u001b[0;34m,\u001b[0m \u001b[0mf\u001b[0m\u001b[0;34m)\u001b[0m\u001b[0;34m(\u001b[0m\u001b[0;34m**\u001b[0m\u001b[0mkwargs\u001b[0m\u001b[0;34m)\u001b[0m\u001b[0;34m\u001b[0m\u001b[0;34m\u001b[0m\u001b[0m\n",
            "\u001b[0;32m/usr/local/lib/python3.6/dist-packages/pandas/core/internals/blocks.py\u001b[0m in \u001b[0;36mapply\u001b[0;34m(self, func, **kwargs)\u001b[0m\n\u001b[1;32m    344\u001b[0m         \"\"\"\n\u001b[1;32m    345\u001b[0m         \u001b[0;32mwith\u001b[0m \u001b[0mnp\u001b[0m\u001b[0;34m.\u001b[0m\u001b[0merrstate\u001b[0m\u001b[0;34m(\u001b[0m\u001b[0mall\u001b[0m\u001b[0;34m=\u001b[0m\u001b[0;34m\"ignore\"\u001b[0m\u001b[0;34m)\u001b[0m\u001b[0;34m:\u001b[0m\u001b[0;34m\u001b[0m\u001b[0;34m\u001b[0m\u001b[0m\n\u001b[0;32m--> 346\u001b[0;31m             \u001b[0mresult\u001b[0m \u001b[0;34m=\u001b[0m \u001b[0mfunc\u001b[0m\u001b[0;34m(\u001b[0m\u001b[0mself\u001b[0m\u001b[0;34m.\u001b[0m\u001b[0mvalues\u001b[0m\u001b[0;34m,\u001b[0m \u001b[0;34m**\u001b[0m\u001b[0mkwargs\u001b[0m\u001b[0;34m)\u001b[0m\u001b[0;34m\u001b[0m\u001b[0;34m\u001b[0m\u001b[0m\n\u001b[0m\u001b[1;32m    347\u001b[0m \u001b[0;34m\u001b[0m\u001b[0m\n\u001b[1;32m    348\u001b[0m         \u001b[0;32mreturn\u001b[0m \u001b[0mself\u001b[0m\u001b[0;34m.\u001b[0m\u001b[0m_split_op_result\u001b[0m\u001b[0;34m(\u001b[0m\u001b[0mresult\u001b[0m\u001b[0;34m)\u001b[0m\u001b[0;34m\u001b[0m\u001b[0;34m\u001b[0m\u001b[0m\n",
            "\u001b[0;32m/usr/local/lib/python3.6/dist-packages/pandas/core/ops/array_ops.py\u001b[0m in \u001b[0;36marithmetic_op\u001b[0;34m(left, right, op)\u001b[0m\n\u001b[1;32m    188\u001b[0m     \u001b[0;32melse\u001b[0m\u001b[0;34m:\u001b[0m\u001b[0;34m\u001b[0m\u001b[0;34m\u001b[0m\u001b[0m\n\u001b[1;32m    189\u001b[0m         \u001b[0;32mwith\u001b[0m \u001b[0mnp\u001b[0m\u001b[0;34m.\u001b[0m\u001b[0merrstate\u001b[0m\u001b[0;34m(\u001b[0m\u001b[0mall\u001b[0m\u001b[0;34m=\u001b[0m\u001b[0;34m\"ignore\"\u001b[0m\u001b[0;34m)\u001b[0m\u001b[0;34m:\u001b[0m\u001b[0;34m\u001b[0m\u001b[0;34m\u001b[0m\u001b[0m\n\u001b[0;32m--> 190\u001b[0;31m             \u001b[0mres_values\u001b[0m \u001b[0;34m=\u001b[0m \u001b[0mna_arithmetic_op\u001b[0m\u001b[0;34m(\u001b[0m\u001b[0mlvalues\u001b[0m\u001b[0;34m,\u001b[0m \u001b[0mrvalues\u001b[0m\u001b[0;34m,\u001b[0m \u001b[0mop\u001b[0m\u001b[0;34m)\u001b[0m\u001b[0;34m\u001b[0m\u001b[0;34m\u001b[0m\u001b[0m\n\u001b[0m\u001b[1;32m    191\u001b[0m \u001b[0;34m\u001b[0m\u001b[0m\n\u001b[1;32m    192\u001b[0m     \u001b[0;32mreturn\u001b[0m \u001b[0mres_values\u001b[0m\u001b[0;34m\u001b[0m\u001b[0;34m\u001b[0m\u001b[0m\n",
            "\u001b[0;32m/usr/local/lib/python3.6/dist-packages/pandas/core/ops/array_ops.py\u001b[0m in \u001b[0;36mna_arithmetic_op\u001b[0;34m(left, right, op, is_cmp)\u001b[0m\n\u001b[1;32m    148\u001b[0m             \u001b[0;31m#  will handle complex numbers incorrectly, see GH#32047\u001b[0m\u001b[0;34m\u001b[0m\u001b[0;34m\u001b[0m\u001b[0;34m\u001b[0m\u001b[0m\n\u001b[1;32m    149\u001b[0m             \u001b[0;32mraise\u001b[0m\u001b[0;34m\u001b[0m\u001b[0;34m\u001b[0m\u001b[0m\n\u001b[0;32m--> 150\u001b[0;31m         \u001b[0mresult\u001b[0m \u001b[0;34m=\u001b[0m \u001b[0mmasked_arith_op\u001b[0m\u001b[0;34m(\u001b[0m\u001b[0mleft\u001b[0m\u001b[0;34m,\u001b[0m \u001b[0mright\u001b[0m\u001b[0;34m,\u001b[0m \u001b[0mop\u001b[0m\u001b[0;34m)\u001b[0m\u001b[0;34m\u001b[0m\u001b[0;34m\u001b[0m\u001b[0m\n\u001b[0m\u001b[1;32m    151\u001b[0m \u001b[0;34m\u001b[0m\u001b[0m\n\u001b[1;32m    152\u001b[0m     \u001b[0;32mif\u001b[0m \u001b[0mis_cmp\u001b[0m \u001b[0;32mand\u001b[0m \u001b[0;34m(\u001b[0m\u001b[0mis_scalar\u001b[0m\u001b[0;34m(\u001b[0m\u001b[0mresult\u001b[0m\u001b[0;34m)\u001b[0m \u001b[0;32mor\u001b[0m \u001b[0mresult\u001b[0m \u001b[0;32mis\u001b[0m \u001b[0mNotImplemented\u001b[0m\u001b[0;34m)\u001b[0m\u001b[0;34m:\u001b[0m\u001b[0;34m\u001b[0m\u001b[0;34m\u001b[0m\u001b[0m\n",
            "\u001b[0;32m/usr/local/lib/python3.6/dist-packages/pandas/core/ops/array_ops.py\u001b[0m in \u001b[0;36mmasked_arith_op\u001b[0;34m(x, y, op)\u001b[0m\n\u001b[1;32m    110\u001b[0m         \u001b[0;32mif\u001b[0m \u001b[0mmask\u001b[0m\u001b[0;34m.\u001b[0m\u001b[0many\u001b[0m\u001b[0;34m(\u001b[0m\u001b[0;34m)\u001b[0m\u001b[0;34m:\u001b[0m\u001b[0;34m\u001b[0m\u001b[0;34m\u001b[0m\u001b[0m\n\u001b[1;32m    111\u001b[0m             \u001b[0;32mwith\u001b[0m \u001b[0mnp\u001b[0m\u001b[0;34m.\u001b[0m\u001b[0merrstate\u001b[0m\u001b[0;34m(\u001b[0m\u001b[0mall\u001b[0m\u001b[0;34m=\u001b[0m\u001b[0;34m\"ignore\"\u001b[0m\u001b[0;34m)\u001b[0m\u001b[0;34m:\u001b[0m\u001b[0;34m\u001b[0m\u001b[0;34m\u001b[0m\u001b[0m\n\u001b[0;32m--> 112\u001b[0;31m                 \u001b[0mresult\u001b[0m\u001b[0;34m[\u001b[0m\u001b[0mmask\u001b[0m\u001b[0;34m]\u001b[0m \u001b[0;34m=\u001b[0m \u001b[0mop\u001b[0m\u001b[0;34m(\u001b[0m\u001b[0mxrav\u001b[0m\u001b[0;34m[\u001b[0m\u001b[0mmask\u001b[0m\u001b[0;34m]\u001b[0m\u001b[0;34m,\u001b[0m \u001b[0my\u001b[0m\u001b[0;34m)\u001b[0m\u001b[0;34m\u001b[0m\u001b[0;34m\u001b[0m\u001b[0m\n\u001b[0m\u001b[1;32m    113\u001b[0m \u001b[0;34m\u001b[0m\u001b[0m\n\u001b[1;32m    114\u001b[0m     \u001b[0mresult\u001b[0m\u001b[0;34m,\u001b[0m \u001b[0m_\u001b[0m \u001b[0;34m=\u001b[0m \u001b[0mmaybe_upcast_putmask\u001b[0m\u001b[0;34m(\u001b[0m\u001b[0mresult\u001b[0m\u001b[0;34m,\u001b[0m \u001b[0;34m~\u001b[0m\u001b[0mmask\u001b[0m\u001b[0;34m,\u001b[0m \u001b[0mnp\u001b[0m\u001b[0;34m.\u001b[0m\u001b[0mnan\u001b[0m\u001b[0;34m)\u001b[0m\u001b[0;34m\u001b[0m\u001b[0;34m\u001b[0m\u001b[0m\n",
            "\u001b[0;31mTypeError\u001b[0m: must be str, not int"
          ]
        }
      ]
    },
    {
      "cell_type": "code",
      "metadata": {
        "id": "ReiTq6nc0rcr"
      },
      "source": [
        "df1 = pd.DataFrame({'미술': [10, 20, 30, 40, 50], '통계':[60, 70, 80, 90, 100] })\n",
        "df2 = pd.DataFrame({'통계': [10, 20, 30, 40, 50], '미술': [60, 70, 80, 90, 100] })"
      ],
      "execution_count": 107,
      "outputs": []
    },
    {
      "cell_type": "code",
      "metadata": {
        "id": "D7En0RHbb3s3",
        "colab": {
          "base_uri": "https://localhost:8080/",
          "height": 198
        },
        "outputId": "d854f0c0-2e9e-4781-9a6d-59ea460e46f6"
      },
      "source": [
        "df1"
      ],
      "execution_count": 108,
      "outputs": [
        {
          "output_type": "execute_result",
          "data": {
            "text/html": [
              "<div>\n",
              "<style scoped>\n",
              "    .dataframe tbody tr th:only-of-type {\n",
              "        vertical-align: middle;\n",
              "    }\n",
              "\n",
              "    .dataframe tbody tr th {\n",
              "        vertical-align: top;\n",
              "    }\n",
              "\n",
              "    .dataframe thead th {\n",
              "        text-align: right;\n",
              "    }\n",
              "</style>\n",
              "<table border=\"1\" class=\"dataframe\">\n",
              "  <thead>\n",
              "    <tr style=\"text-align: right;\">\n",
              "      <th></th>\n",
              "      <th>미술</th>\n",
              "      <th>통계</th>\n",
              "    </tr>\n",
              "  </thead>\n",
              "  <tbody>\n",
              "    <tr>\n",
              "      <th>0</th>\n",
              "      <td>10</td>\n",
              "      <td>60</td>\n",
              "    </tr>\n",
              "    <tr>\n",
              "      <th>1</th>\n",
              "      <td>20</td>\n",
              "      <td>70</td>\n",
              "    </tr>\n",
              "    <tr>\n",
              "      <th>2</th>\n",
              "      <td>30</td>\n",
              "      <td>80</td>\n",
              "    </tr>\n",
              "    <tr>\n",
              "      <th>3</th>\n",
              "      <td>40</td>\n",
              "      <td>90</td>\n",
              "    </tr>\n",
              "    <tr>\n",
              "      <th>4</th>\n",
              "      <td>50</td>\n",
              "      <td>100</td>\n",
              "    </tr>\n",
              "  </tbody>\n",
              "</table>\n",
              "</div>"
            ],
            "text/plain": [
              "   미술   통계\n",
              "0  10   60\n",
              "1  20   70\n",
              "2  30   80\n",
              "3  40   90\n",
              "4  50  100"
            ]
          },
          "metadata": {
            "tags": []
          },
          "execution_count": 108
        }
      ]
    },
    {
      "cell_type": "code",
      "metadata": {
        "id": "ihEf0BiBb4xk",
        "colab": {
          "base_uri": "https://localhost:8080/",
          "height": 198
        },
        "outputId": "fffa2425-ca7b-4d26-8753-3b8180ef83c6"
      },
      "source": [
        "df2"
      ],
      "execution_count": 109,
      "outputs": [
        {
          "output_type": "execute_result",
          "data": {
            "text/html": [
              "<div>\n",
              "<style scoped>\n",
              "    .dataframe tbody tr th:only-of-type {\n",
              "        vertical-align: middle;\n",
              "    }\n",
              "\n",
              "    .dataframe tbody tr th {\n",
              "        vertical-align: top;\n",
              "    }\n",
              "\n",
              "    .dataframe thead th {\n",
              "        text-align: right;\n",
              "    }\n",
              "</style>\n",
              "<table border=\"1\" class=\"dataframe\">\n",
              "  <thead>\n",
              "    <tr style=\"text-align: right;\">\n",
              "      <th></th>\n",
              "      <th>통계</th>\n",
              "      <th>미술</th>\n",
              "    </tr>\n",
              "  </thead>\n",
              "  <tbody>\n",
              "    <tr>\n",
              "      <th>0</th>\n",
              "      <td>10</td>\n",
              "      <td>60</td>\n",
              "    </tr>\n",
              "    <tr>\n",
              "      <th>1</th>\n",
              "      <td>20</td>\n",
              "      <td>70</td>\n",
              "    </tr>\n",
              "    <tr>\n",
              "      <th>2</th>\n",
              "      <td>30</td>\n",
              "      <td>80</td>\n",
              "    </tr>\n",
              "    <tr>\n",
              "      <th>3</th>\n",
              "      <td>40</td>\n",
              "      <td>90</td>\n",
              "    </tr>\n",
              "    <tr>\n",
              "      <th>4</th>\n",
              "      <td>50</td>\n",
              "      <td>100</td>\n",
              "    </tr>\n",
              "  </tbody>\n",
              "</table>\n",
              "</div>"
            ],
            "text/plain": [
              "   통계   미술\n",
              "0  10   60\n",
              "1  20   70\n",
              "2  30   80\n",
              "3  40   90\n",
              "4  50  100"
            ]
          },
          "metadata": {
            "tags": []
          },
          "execution_count": 109
        }
      ]
    },
    {
      "cell_type": "code",
      "metadata": {
        "id": "Z7rkdkOX0bkA",
        "colab": {
          "base_uri": "https://localhost:8080/",
          "height": 198
        },
        "outputId": "8ea10820-46b2-48d6-e04c-1275d1c8e66f"
      },
      "source": [
        "df1 + df2"
      ],
      "execution_count": 110,
      "outputs": [
        {
          "output_type": "execute_result",
          "data": {
            "text/html": [
              "<div>\n",
              "<style scoped>\n",
              "    .dataframe tbody tr th:only-of-type {\n",
              "        vertical-align: middle;\n",
              "    }\n",
              "\n",
              "    .dataframe tbody tr th {\n",
              "        vertical-align: top;\n",
              "    }\n",
              "\n",
              "    .dataframe thead th {\n",
              "        text-align: right;\n",
              "    }\n",
              "</style>\n",
              "<table border=\"1\" class=\"dataframe\">\n",
              "  <thead>\n",
              "    <tr style=\"text-align: right;\">\n",
              "      <th></th>\n",
              "      <th>미술</th>\n",
              "      <th>통계</th>\n",
              "    </tr>\n",
              "  </thead>\n",
              "  <tbody>\n",
              "    <tr>\n",
              "      <th>0</th>\n",
              "      <td>70</td>\n",
              "      <td>70</td>\n",
              "    </tr>\n",
              "    <tr>\n",
              "      <th>1</th>\n",
              "      <td>90</td>\n",
              "      <td>90</td>\n",
              "    </tr>\n",
              "    <tr>\n",
              "      <th>2</th>\n",
              "      <td>110</td>\n",
              "      <td>110</td>\n",
              "    </tr>\n",
              "    <tr>\n",
              "      <th>3</th>\n",
              "      <td>130</td>\n",
              "      <td>130</td>\n",
              "    </tr>\n",
              "    <tr>\n",
              "      <th>4</th>\n",
              "      <td>150</td>\n",
              "      <td>150</td>\n",
              "    </tr>\n",
              "  </tbody>\n",
              "</table>\n",
              "</div>"
            ],
            "text/plain": [
              "    미술   통계\n",
              "0   70   70\n",
              "1   90   90\n",
              "2  110  110\n",
              "3  130  130\n",
              "4  150  150"
            ]
          },
          "metadata": {
            "tags": []
          },
          "execution_count": 110
        }
      ]
    },
    {
      "cell_type": "code",
      "metadata": {
        "id": "lbo4LRrJTMiK"
      },
      "source": [
        "df1 = pd.DataFrame({'미술': [10, 20, 30, 40, 50, 60], '통계':[60, 70, 80, 90, 100, 110] })\r\n",
        "df2 = pd.DataFrame({'통계': [10, 20, 30, 40, 50], '미술': [60, 70, 80, 90, 100] })"
      ],
      "execution_count": 111,
      "outputs": []
    },
    {
      "cell_type": "code",
      "metadata": {
        "colab": {
          "base_uri": "https://localhost:8080/",
          "height": 228
        },
        "id": "WX0UUaI3Tr7o",
        "outputId": "3ed5f5b8-38e2-4704-bb69-58859f346821"
      },
      "source": [
        "df1"
      ],
      "execution_count": 112,
      "outputs": [
        {
          "output_type": "execute_result",
          "data": {
            "text/html": [
              "<div>\n",
              "<style scoped>\n",
              "    .dataframe tbody tr th:only-of-type {\n",
              "        vertical-align: middle;\n",
              "    }\n",
              "\n",
              "    .dataframe tbody tr th {\n",
              "        vertical-align: top;\n",
              "    }\n",
              "\n",
              "    .dataframe thead th {\n",
              "        text-align: right;\n",
              "    }\n",
              "</style>\n",
              "<table border=\"1\" class=\"dataframe\">\n",
              "  <thead>\n",
              "    <tr style=\"text-align: right;\">\n",
              "      <th></th>\n",
              "      <th>미술</th>\n",
              "      <th>통계</th>\n",
              "    </tr>\n",
              "  </thead>\n",
              "  <tbody>\n",
              "    <tr>\n",
              "      <th>0</th>\n",
              "      <td>10</td>\n",
              "      <td>60</td>\n",
              "    </tr>\n",
              "    <tr>\n",
              "      <th>1</th>\n",
              "      <td>20</td>\n",
              "      <td>70</td>\n",
              "    </tr>\n",
              "    <tr>\n",
              "      <th>2</th>\n",
              "      <td>30</td>\n",
              "      <td>80</td>\n",
              "    </tr>\n",
              "    <tr>\n",
              "      <th>3</th>\n",
              "      <td>40</td>\n",
              "      <td>90</td>\n",
              "    </tr>\n",
              "    <tr>\n",
              "      <th>4</th>\n",
              "      <td>50</td>\n",
              "      <td>100</td>\n",
              "    </tr>\n",
              "    <tr>\n",
              "      <th>5</th>\n",
              "      <td>60</td>\n",
              "      <td>110</td>\n",
              "    </tr>\n",
              "  </tbody>\n",
              "</table>\n",
              "</div>"
            ],
            "text/plain": [
              "   미술   통계\n",
              "0  10   60\n",
              "1  20   70\n",
              "2  30   80\n",
              "3  40   90\n",
              "4  50  100\n",
              "5  60  110"
            ]
          },
          "metadata": {
            "tags": []
          },
          "execution_count": 112
        }
      ]
    },
    {
      "cell_type": "code",
      "metadata": {
        "colab": {
          "base_uri": "https://localhost:8080/",
          "height": 198
        },
        "id": "m1CbP4nATsk1",
        "outputId": "d6d5046c-04cc-4f59-8039-3ac1ed7b7ed2"
      },
      "source": [
        "df2"
      ],
      "execution_count": 113,
      "outputs": [
        {
          "output_type": "execute_result",
          "data": {
            "text/html": [
              "<div>\n",
              "<style scoped>\n",
              "    .dataframe tbody tr th:only-of-type {\n",
              "        vertical-align: middle;\n",
              "    }\n",
              "\n",
              "    .dataframe tbody tr th {\n",
              "        vertical-align: top;\n",
              "    }\n",
              "\n",
              "    .dataframe thead th {\n",
              "        text-align: right;\n",
              "    }\n",
              "</style>\n",
              "<table border=\"1\" class=\"dataframe\">\n",
              "  <thead>\n",
              "    <tr style=\"text-align: right;\">\n",
              "      <th></th>\n",
              "      <th>통계</th>\n",
              "      <th>미술</th>\n",
              "    </tr>\n",
              "  </thead>\n",
              "  <tbody>\n",
              "    <tr>\n",
              "      <th>0</th>\n",
              "      <td>10</td>\n",
              "      <td>60</td>\n",
              "    </tr>\n",
              "    <tr>\n",
              "      <th>1</th>\n",
              "      <td>20</td>\n",
              "      <td>70</td>\n",
              "    </tr>\n",
              "    <tr>\n",
              "      <th>2</th>\n",
              "      <td>30</td>\n",
              "      <td>80</td>\n",
              "    </tr>\n",
              "    <tr>\n",
              "      <th>3</th>\n",
              "      <td>40</td>\n",
              "      <td>90</td>\n",
              "    </tr>\n",
              "    <tr>\n",
              "      <th>4</th>\n",
              "      <td>50</td>\n",
              "      <td>100</td>\n",
              "    </tr>\n",
              "  </tbody>\n",
              "</table>\n",
              "</div>"
            ],
            "text/plain": [
              "   통계   미술\n",
              "0  10   60\n",
              "1  20   70\n",
              "2  30   80\n",
              "3  40   90\n",
              "4  50  100"
            ]
          },
          "metadata": {
            "tags": []
          },
          "execution_count": 113
        }
      ]
    },
    {
      "cell_type": "code",
      "metadata": {
        "colab": {
          "base_uri": "https://localhost:8080/",
          "height": 228
        },
        "id": "oLeEba9XTszm",
        "outputId": "b5ce2190-a6c6-4bf1-fa47-548e49e032d6"
      },
      "source": [
        "df1 * df2"
      ],
      "execution_count": 114,
      "outputs": [
        {
          "output_type": "execute_result",
          "data": {
            "text/html": [
              "<div>\n",
              "<style scoped>\n",
              "    .dataframe tbody tr th:only-of-type {\n",
              "        vertical-align: middle;\n",
              "    }\n",
              "\n",
              "    .dataframe tbody tr th {\n",
              "        vertical-align: top;\n",
              "    }\n",
              "\n",
              "    .dataframe thead th {\n",
              "        text-align: right;\n",
              "    }\n",
              "</style>\n",
              "<table border=\"1\" class=\"dataframe\">\n",
              "  <thead>\n",
              "    <tr style=\"text-align: right;\">\n",
              "      <th></th>\n",
              "      <th>미술</th>\n",
              "      <th>통계</th>\n",
              "    </tr>\n",
              "  </thead>\n",
              "  <tbody>\n",
              "    <tr>\n",
              "      <th>0</th>\n",
              "      <td>600.0</td>\n",
              "      <td>600.0</td>\n",
              "    </tr>\n",
              "    <tr>\n",
              "      <th>1</th>\n",
              "      <td>1400.0</td>\n",
              "      <td>1400.0</td>\n",
              "    </tr>\n",
              "    <tr>\n",
              "      <th>2</th>\n",
              "      <td>2400.0</td>\n",
              "      <td>2400.0</td>\n",
              "    </tr>\n",
              "    <tr>\n",
              "      <th>3</th>\n",
              "      <td>3600.0</td>\n",
              "      <td>3600.0</td>\n",
              "    </tr>\n",
              "    <tr>\n",
              "      <th>4</th>\n",
              "      <td>5000.0</td>\n",
              "      <td>5000.0</td>\n",
              "    </tr>\n",
              "    <tr>\n",
              "      <th>5</th>\n",
              "      <td>NaN</td>\n",
              "      <td>NaN</td>\n",
              "    </tr>\n",
              "  </tbody>\n",
              "</table>\n",
              "</div>"
            ],
            "text/plain": [
              "       미술      통계\n",
              "0   600.0   600.0\n",
              "1  1400.0  1400.0\n",
              "2  2400.0  2400.0\n",
              "3  3600.0  3600.0\n",
              "4  5000.0  5000.0\n",
              "5     NaN     NaN"
            ]
          },
          "metadata": {
            "tags": []
          },
          "execution_count": 114
        }
      ]
    },
    {
      "cell_type": "code",
      "metadata": {
        "colab": {
          "base_uri": "https://localhost:8080/",
          "height": 228
        },
        "id": "hhCXWpjnTvjF",
        "outputId": "2b54775d-29f4-43e9-8254-52b59304887c"
      },
      "source": [
        "df1+df2"
      ],
      "execution_count": 116,
      "outputs": [
        {
          "output_type": "execute_result",
          "data": {
            "text/html": [
              "<div>\n",
              "<style scoped>\n",
              "    .dataframe tbody tr th:only-of-type {\n",
              "        vertical-align: middle;\n",
              "    }\n",
              "\n",
              "    .dataframe tbody tr th {\n",
              "        vertical-align: top;\n",
              "    }\n",
              "\n",
              "    .dataframe thead th {\n",
              "        text-align: right;\n",
              "    }\n",
              "</style>\n",
              "<table border=\"1\" class=\"dataframe\">\n",
              "  <thead>\n",
              "    <tr style=\"text-align: right;\">\n",
              "      <th></th>\n",
              "      <th>미술</th>\n",
              "      <th>통계</th>\n",
              "    </tr>\n",
              "  </thead>\n",
              "  <tbody>\n",
              "    <tr>\n",
              "      <th>0</th>\n",
              "      <td>70.0</td>\n",
              "      <td>70.0</td>\n",
              "    </tr>\n",
              "    <tr>\n",
              "      <th>1</th>\n",
              "      <td>90.0</td>\n",
              "      <td>90.0</td>\n",
              "    </tr>\n",
              "    <tr>\n",
              "      <th>2</th>\n",
              "      <td>110.0</td>\n",
              "      <td>110.0</td>\n",
              "    </tr>\n",
              "    <tr>\n",
              "      <th>3</th>\n",
              "      <td>130.0</td>\n",
              "      <td>130.0</td>\n",
              "    </tr>\n",
              "    <tr>\n",
              "      <th>4</th>\n",
              "      <td>150.0</td>\n",
              "      <td>150.0</td>\n",
              "    </tr>\n",
              "    <tr>\n",
              "      <th>5</th>\n",
              "      <td>NaN</td>\n",
              "      <td>NaN</td>\n",
              "    </tr>\n",
              "  </tbody>\n",
              "</table>\n",
              "</div>"
            ],
            "text/plain": [
              "      미술     통계\n",
              "0   70.0   70.0\n",
              "1   90.0   90.0\n",
              "2  110.0  110.0\n",
              "3  130.0  130.0\n",
              "4  150.0  150.0\n",
              "5    NaN    NaN"
            ]
          },
          "metadata": {
            "tags": []
          },
          "execution_count": 116
        }
      ]
    },
    {
      "cell_type": "code",
      "metadata": {
        "id": "5FS5jFW0Ty0u"
      },
      "source": [
        ""
      ],
      "execution_count": null,
      "outputs": []
    }
  ]
}