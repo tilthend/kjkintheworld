{
 "cells": [
  {
   "cell_type": "code",
   "execution_count": 10,
   "metadata": {},
   "outputs": [],
   "source": [
    "import csv\n",
    "f = open('subwaytime.csv')\n",
    "data = csv.reader(f)\n",
    "\n",
    "next(data)\n",
    "next(data)\n",
    "\n",
    "for row in data :\n",
    "    row[4:] = map(int, row[4:])\n"
   ]
  },
  {
   "cell_type": "markdown",
   "metadata": {},
   "source": [
    "#### 시간대별 유동인구"
   ]
  },
  {
   "cell_type": "code",
   "execution_count": 11,
   "metadata": {
    "scrolled": true
   },
   "outputs": [
    {
     "name": "stdout",
     "output_type": "stream",
     "text": [
      "603\n",
      "[32647, 5769, 5827, 5353, 4655, 4260, 14146, 16191, 20120, 36708, 4179, 6630, 4989, 2675, 6015, 24579, 35818, 24173, 4652, 18069, 23387, 50670, 62032, 71461, 35736, 98855, 49915, 15899, 14589, 19630, 13472, 34104, 22402, 15120, 21629, 68325, 74941, 119938, 77573, 196657, 84362, 131660, 62905, 124463, 40788, 38651, 43187, 41226, 56956, 30389, 18083, 25684, 14438, 7098, 5689, 2957, 2819, 30745, 43464, 4365, 15544, 80336, 129343, 49337, 61550, 57010, 13944, 14763, 11958, 5204, 1601, 1768, 0, 4907, 23910, 25179, 21796, 14822, 9814, 10669, 21795, 7426, 23750, 30333, 14477, 8145, 23457, 3446, 24991, 20594, 31460, 18116, 19880, 23600, 108507, 46972, 92483, 77340, 42514, 29350, 16167, 5002, 6106, 7184, 3122, 4610, 10982, 15984, 4802, 9963, 11841, 4439, 44028, 61139, 2143, 50285, 84853, 51985, 90345, 119351, 6849, 10878, 19272, 16490, 28359, 35915, 9510, 23034, 34637, 14192, 44764, 37510, 30914, 75351, 23629, 74926, 17160, 29358, 60515, 35794, 64933, 36668, 13237, 45126, 8864, 9845, 20351, 2608, 12272, 11786, 6429, 24111, 5258, 1565, 11762, 8325, 23611, 10116, 12277, 89931, 48749, 117548, 101603, 106829, 81151, 27481, 52544, 60185, 34948, 37907, 5207, 25688, 34809, 37132, 22270, 6115, 23462, 41022, 13492, 7446, 2779, 4457, 26, 6318, 23470, 26828, 17331, 35792, 23852, 31182, 22917, 20596, 0, 29225, 18445, 22659, 25576, 53626, 44531, 22543, 17094, 30504, 11321, 18568, 20425, 8277, 4268, 4603, 4167, 53131, 16331, 16299, 68699, 28210, 50360, 28262, 18247, 21148, 6144, 16352, 31239, 18654, 18534, 1975, 715, 18788, 14468, 74237, 53579, 78558, 3994, 18066, 7457, 2556, 7939, 8051, 21974, 0, 22242, 12863, 4908, 5995, 4112, 17041, 38419, 50477, 49167, 30522, 16623, 25205, 23214, 28125, 13271, 7921, 40567, 20649, 17933, 34691, 18821, 16242, 15549, 44802, 18038, 24836, 7230, 34396, 0, 69348, 43575, 50863, 6619, 21370, 15906, 9054, 25492, 58801, 51303, 21053, 19524, 27448, 4701, 57307, 48951, 2104, 23034, 12490, 1330, 1356, 6156, 408, 1930, 1799, 914, 6598, 665, 2877, 247, 2278, 6416, 5648, 2055, 6519, 1903, 559, 4357, 2763, 19704, 4022, 3420, 16669, 38594, 15802, 1761, 33175, 22314, 47266, 38387, 23456, 28309, 17123, 17618, 1770, 2541, 15161, 0, 2230, 4211, 1337, 9403, 0, 4959, 17333, 10169, 18556, 17627, 4733, 27867, 7282, 15983, 1232, 2914, 549, 1975, 135, 41, 274, 278, 3004, 1194, 8971, 5622, 958, 444, 13127, 84, 9339, 14590, 13587, 6227, 1037, 13598, 13606, 9036, 20207, 11468, 2480, 1951, 4694, 4272, 11190, 32811, 11648, 6201, 4104, 6020, 4099, 809, 4526, 26524, 19204, 4600, 19700, 20215, 24283, 52114, 108796, 118416, 63696, 57230, 46685, 21535, 6838, 17474, 11750, 8264, 4616, 22653, 19275, 16624, 5973, 15386, 8301, 2846, 1030, 783, 6475, 19590, 30209, 5275, 14666, 52587, 47947, 31305, 40093, 35505, 25981, 55357, 20687, 35000, 35883, 29057, 84319, 22371, 11534, 18407, 8329, 24047, 32281, 24524, 62140, 22419, 68721, 15082, 9856, 13634, 0, 26176, 52546, 37481, 39881, 8123, 36095, 24412, 12734, 8127, 17222, 12971, 18944, 14769, 5979, 4376, 8911, 3074, 4640, 4390, 6638, 6878, 8426, 13647, 18023, 7886, 19353, 37218, 22978, 30277, 47061, 17779, 57438, 46233, 0, 16013, 51385, 48521, 57287, 35612, 58858, 66066, 35580, 20358, 34889, 35294, 49417, 56213, 53625, 22763, 29524, 32170, 16610, 11804, 19319, 9240, 6375, 7583, 8392, 7444, 9239, 16091, 24992, 36710, 34995, 28989, 28858, 48036, 21783, 38151, 14622, 29201, 20468, 79157, 77247, 43710, 47812, 29516, 16048, 22840, 43577, 41170, 37605, 22641, 34489, 59647, 75586, 39757, 29059, 9112, 7759, 15002, 24878, 9200, 20379, 44368, 27660, 27237, 46266, 32497, 11940, 15157, 8018, 11703, 7872, 8295, 26044, 25521, 27473, 67236, 19131, 37976, 68888, 17188, 17494, 46937, 3479, 7738, 4001, 55316, 14961, 14789, 4537, 3987, 4808, 13179, 7855, 27038, 7722, 5348, 7596, 16846, 9322, 6410, 51442, 36108, 29848, 16264, 1705, 3075, 1601, 10901, 5604, 7702, 4860, 8304, 8379, 17216, 13282, 20554, 10879, 5748, 13214, 3152, 31664, 7867, 8710, 6854, 14908, 11115, 6412, 6544, 27234, 18405, 13109, 3299, 1909, 1063]\n"
     ]
    }
   ],
   "source": [
    "import csv\n",
    "f = open('subwaytime.csv')\n",
    "data = csv.reader(f)\n",
    "\n",
    "next(data)\n",
    "next(data)\n",
    "result = []\n",
    "\n",
    "for row in data :\n",
    "    row[4:] = map(int, row[4:])\n",
    "    result.append(row[10])\n",
    "print(len(result))\n",
    "print(result)"
   ]
  },
  {
   "cell_type": "code",
   "execution_count": 12,
   "metadata": {},
   "outputs": [
    {
     "data": {
      "image/png": "[encoded data removed]",
      "text/plain": [
       "<Figure size 432x288 with 1 Axes>"
      ]
     },
     "metadata": {
      "needs_background": "light"
     },
     "output_type": "display_data"
    }
   ],
   "source": [
    "import matplotlib.pyplot as plt\n",
    "plt.bar(range(len(result)), result)\n",
    "plt.show()"
   ]
  },
  {
   "cell_type": "markdown",
   "metadata": {},
   "source": [
    "#### 오름차순 정렬"
   ]
  },
  {
   "cell_type": "code",
   "execution_count": 13,
   "metadata": {},
   "outputs": [
    {
     "data": {
      "image/png": "[encoded data removed]",
      "text/plain": [
       "<Figure size 432x288 with 1 Axes>"
      ]
     },
     "metadata": {
      "needs_background": "light"
     },
     "output_type": "display_data"
    }
   ],
   "source": [
    "import matplotlib.pyplot as plt\n",
    "result.sort()\n",
    "plt.bar(range(len(result)), result)\n",
    "plt.show()"
   ]
  },
  {
   "cell_type": "markdown",
   "metadata": {},
   "source": [
    "#### 7시만 보기"
   ]
  },
  {
   "cell_type": "code",
   "execution_count": 16,
   "metadata": {},
   "outputs": [
    {
     "data": {
      "image/png": "[encoded data removed]",
      "text/plain": [
       "<Figure size 432x288 with 1 Axes>"
      ]
     },
     "metadata": {
      "needs_background": "light"
     },
     "output_type": "display_data"
    }
   ],
   "source": [
    "for row in data :\n",
    "    row[4:] = map(int, row[4:])\n",
    "    result.append(sum(row[10:15:2]))\n",
    "import matplotlib.pyplot as plt\n",
    "result.sort()\n",
    "plt.bar(range(len(result)), result)\n",
    "plt.show()"
   ]
  },
  {
   "cell_type": "markdown",
   "metadata": {},
   "source": [
    "#### 최다 역은 어디?"
   ]
  },
  {
   "cell_type": "code",
   "execution_count": 24,
   "metadata": {},
   "outputs": [
    {
     "name": "stdout",
     "output_type": "stream",
     "text": [
      "신림(2호선) 673021\n"
     ]
    }
   ],
   "source": [
    "import csv\n",
    "f = open('subwaytime.csv')\n",
    "data = csv.reader(f)\n",
    "\n",
    "next(data)\n",
    "next(data)\n",
    "\n",
    "mx = 0\n",
    "mx_station = ''\n",
    "\n",
    "for row in data :\n",
    "    row[4:] = map(int, row[4:])\n",
    "    \n",
    "    if sum(row[10:15:2]) > mx :\n",
    "        mx = sum(row[10:15:2])\n",
    "        mx_station = row[3]+'('+row[1]+')'\n",
    "\n",
    "print(mx_station, mx)"
   ]
  },
  {
   "cell_type": "markdown",
   "metadata": {},
   "source": [
    "#### 출근 시간대 최다"
   ]
  },
  {
   "cell_type": "code",
   "execution_count": 25,
   "metadata": {},
   "outputs": [
    {
     "name": "stdout",
     "output_type": "stream",
     "text": [
      "강남(2호선) 771838\n"
     ]
    }
   ],
   "source": [
    "import csv\n",
    "f = open('subwaytime.csv')\n",
    "data = csv.reader(f)\n",
    "\n",
    "next(data)\n",
    "next(data)\n",
    "\n",
    "mx = 0\n",
    "mx_station = ''\n",
    "\n",
    "for row in data :\n",
    "    row[4:] = map(int, row[4:])\n",
    "    a = row[11:16:2] #하차 인원 값 추출\n",
    "    if sum(a) > mx :\n",
    "        mx = sum(a)\n",
    "        mx_station = row[3]+'('+row[1]+')'\n",
    "\n",
    "print(mx_station, mx)"
   ]
  },
  {
   "cell_type": "markdown",
   "metadata": {},
   "source": [
    "#### 밤 11시 최다"
   ]
  },
  {
   "cell_type": "code",
   "execution_count": 27,
   "metadata": {},
   "outputs": [
    {
     "name": "stdout",
     "output_type": "stream",
     "text": [
      "몇 시의 승차 인원이 가장 많은 역이 궁금함?: 23\n",
      "강남(2호선) 54414\n"
     ]
    }
   ],
   "source": [
    "import csv\n",
    "f = open('subwaytime.csv')\n",
    "data = csv.reader(f)\n",
    "\n",
    "next(data)\n",
    "next(data)\n",
    "\n",
    "mx = 0\n",
    "mx_station = ''\n",
    "t = int(input('몇 시의 승차 인원이 가장 많은 역이 궁금함?: '))\n",
    "\n",
    "for row in data :\n",
    "    row[4:] = map(int, row[4:])\n",
    "    \n",
    "    a = row[4+(t-4)*2] #입력 받은 시각의 승차 인원 구하기\n",
    "    if a > mx : # 모든 데이터 탐색\n",
    "        mx = a\n",
    "        mx_station = row[3]+'('+row[1]+')'\n",
    "\n",
    "print(mx_station, mx)"
   ]
  },
  {
   "cell_type": "markdown",
   "metadata": {},
   "source": [
    "#### 시간대별 최다 역"
   ]
  },
  {
   "cell_type": "code",
   "execution_count": 30,
   "metadata": {},
   "outputs": [
    {
     "name": "stdout",
     "output_type": "stream",
     "text": [
      "['구로', '구로디지털단지', '신림', '신림', '신림', '신림', '신림', '신림', '신림', '강남', '강남', '강남', '강남', '강남', '강남', '강남', '강남', '강남', '강남', '강남', '부평', '중앙', '안산', '안산']\n",
      "[12208, 39397, 72184, 196657, 300910, 175454, 91427, 74323, 78491, 96444, 102133, 129228, 149447, 229638, 332632, 209371, 159795, 187562, 163419, 54414, 2472, 52, 60, 70]\n"
     ]
    }
   ],
   "source": [
    "import csv\n",
    "f = open('subwaytime.csv')\n",
    "data = csv.reader(f)\n",
    "\n",
    "next(data)\n",
    "next(data)\n",
    "\n",
    "mx = [0] * 24\n",
    "mx_station = [''] * 24\n",
    "\n",
    "for row in data :\n",
    "    row[4:] = map(int, row[4:])\n",
    "    \n",
    "    for j in range(24) :\n",
    "        a = row[j*2+4] # j와 인덱스 번호 관계식\n",
    "        if a > mx [j] :\n",
    "            mx[j] = a\n",
    "            mx_station[j] = row[3]\n",
    "            \n",
    "\n",
    "print(mx_station)        \n",
    "print(mx)"
   ]
  },
  {
   "cell_type": "code",
   "execution_count": 32,
   "metadata": {},
   "outputs": [
    {
     "data": {
      "image/png": "[encoded data removed]",
      "text/plain": [
       "<Figure size 432x288 with 1 Axes>"
      ]
     },
     "metadata": {
      "needs_background": "light"
     },
     "output_type": "display_data"
    }
   ],
   "source": [
    "import csv\n",
    "f = open('subwaytime.csv')\n",
    "data = csv.reader(f)\n",
    "\n",
    "next(data)\n",
    "next(data)\n",
    "\n",
    "mx = [0] * 24\n",
    "mx_station = [''] * 24\n",
    "\n",
    "for row in data :\n",
    "    row[4:] = map(int, row[4:])\n",
    "    \n",
    "    for j in range(24) :\n",
    "        a = row[j*2+4] # j와 인덱스 번호 관계식\n",
    "        if a > mx [j] :\n",
    "            mx[j] = a\n",
    "            mx_station[j] = row[3] + '('+str(j+4)+ ')'\n",
    "            \n",
    "import matplotlib.pyplot as plt\n",
    "plt.rc('font', family='Malgun Gothic')\n",
    "plt.bar(range(24), mx)\n",
    "plt.xticks(range(24), mx_station, rotation=90)\n",
    "plt.show()"
   ]
  },
  {
   "cell_type": "markdown",
   "metadata": {},
   "source": [
    "#### 모든 지하철 시간대별 승하차 인원"
   ]
  },
  {
   "cell_type": "code",
   "execution_count": 35,
   "metadata": {},
   "outputs": [
    {
     "data": {
      "image/png": "[encoded data removed]",
      "text/plain": [
       "<Figure size 432x288 with 1 Axes>"
      ]
     },
     "metadata": {
      "needs_background": "light"
     },
     "output_type": "display_data"
    }
   ],
   "source": [
    "import csv\n",
    "import matplotlib.pyplot as plt\n",
    "\n",
    "f = open('subwaytime.csv')\n",
    "data = csv.reader(f)\n",
    "\n",
    "next(data)\n",
    "next(data)\n",
    "\n",
    "s_in = [0] * 24\n",
    "s_out = [0] * 24\n",
    "\n",
    "for row in data :\n",
    "    row[4:] = map(int, row[4:])\n",
    "    \n",
    "    for i in range(24) :\n",
    "        s_in[i] += row[4+i*2]\n",
    "        s_out[i] += row[5+i*2]          \n",
    "\n",
    "plt.rc('font', family='Malgun Gothic')\n",
    "plt.title('지하철 시간대별 승하차 인원 추이')\n",
    "plt.plot(s_in, label='승차')\n",
    "plt.plot(s_out, label='하차')\n",
    "plt.legend()\n",
    "plt.xticks(range(24), range(4,28))\n",
    "plt.show()"
   ]
  },
  {
   "cell_type": "code",
   "execution_count": null,
   "metadata": {},
   "outputs": [],
   "source": []
  }
 ],
 "metadata": {
  "kernelspec": {
   "display_name": "Python 3",
   "language": "python",
   "name": "python3"
  },
  "language_info": {
   "codemirror_mode": {
    "name": "ipython",
    "version": 3
   },
   "file_extension": ".py",
   "mimetype": "text/x-python",
   "name": "python",
   "nbconvert_exporter": "python",
   "pygments_lexer": "ipython3",
   "version": "3.8.3"
  }
 },
 "nbformat": 4,
 "nbformat_minor": 4
}
